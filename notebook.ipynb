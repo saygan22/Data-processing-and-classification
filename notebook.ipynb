{
 "cells": [
  {
   "cell_type": "markdown",
   "source": "# Import required libraries",
   "metadata": {
    "tags": [],
    "is_collapsed": false,
    "cell_id": "00000-7eadaad4-eef4-440a-b64d-a18d102ac6eb",
    "deepnote_cell_type": "text-cell-h1"
   }
  },
  {
   "cell_type": "code",
   "metadata": {
    "tags": [],
    "cell_id": "00001-64216ad2-6e88-4b4a-a86a-76ac24779332",
    "deepnote_to_be_reexecuted": false,
    "source_hash": "508ea8d2",
    "execution_start": 1640097174488,
    "execution_millis": 17969,
    "deepnote_cell_type": "code"
   },
   "source": "!pip install catboost==1.0.1",
   "execution_count": 1,
   "outputs": [
    {
     "name": "stdout",
     "text": "Collecting catboost==1.0.1\n  Downloading catboost-1.0.1-cp38-none-manylinux1_x86_64.whl (76.3 MB)\n\u001b[K     |████████████████████████████████| 76.3 MB 34.7 MB/s \n\u001b[?25hCollecting graphviz\n  Downloading graphviz-0.19.1-py3-none-any.whl (46 kB)\n\u001b[K     |████████████████████████████████| 46 kB 6.3 MB/s \n\u001b[?25hRequirement already satisfied: six in /shared-libs/python3.8/py-core/lib/python3.8/site-packages (from catboost==1.0.1) (1.16.0)\nRequirement already satisfied: numpy>=1.16.0 in /shared-libs/python3.8/py/lib/python3.8/site-packages (from catboost==1.0.1) (1.19.5)\nRequirement already satisfied: plotly in /shared-libs/python3.8/py/lib/python3.8/site-packages (from catboost==1.0.1) (5.4.0)\nRequirement already satisfied: matplotlib in /shared-libs/python3.8/py/lib/python3.8/site-packages (from catboost==1.0.1) (3.5.1)\nRequirement already satisfied: scipy in /shared-libs/python3.8/py/lib/python3.8/site-packages (from catboost==1.0.1) (1.7.3)\nRequirement already satisfied: pandas>=0.24.0 in /shared-libs/python3.8/py/lib/python3.8/site-packages (from catboost==1.0.1) (1.2.5)\nRequirement already satisfied: python-dateutil>=2.7.3 in /shared-libs/python3.8/py-core/lib/python3.8/site-packages (from pandas>=0.24.0->catboost==1.0.1) (2.8.2)\nRequirement already satisfied: pytz>=2017.3 in /shared-libs/python3.8/py/lib/python3.8/site-packages (from pandas>=0.24.0->catboost==1.0.1) (2021.3)\nRequirement already satisfied: kiwisolver>=1.0.1 in /shared-libs/python3.8/py/lib/python3.8/site-packages (from matplotlib->catboost==1.0.1) (1.3.2)\nRequirement already satisfied: pyparsing>=2.2.1 in /shared-libs/python3.8/py-core/lib/python3.8/site-packages (from matplotlib->catboost==1.0.1) (3.0.6)\nRequirement already satisfied: pillow>=6.2.0 in /shared-libs/python3.8/py/lib/python3.8/site-packages (from matplotlib->catboost==1.0.1) (8.4.0)\nRequirement already satisfied: fonttools>=4.22.0 in /shared-libs/python3.8/py/lib/python3.8/site-packages (from matplotlib->catboost==1.0.1) (4.28.3)\nRequirement already satisfied: cycler>=0.10 in /shared-libs/python3.8/py/lib/python3.8/site-packages (from matplotlib->catboost==1.0.1) (0.11.0)\nRequirement already satisfied: packaging>=20.0 in /shared-libs/python3.8/py-core/lib/python3.8/site-packages (from matplotlib->catboost==1.0.1) (21.3)\nRequirement already satisfied: tenacity>=6.2.0 in /shared-libs/python3.8/py/lib/python3.8/site-packages (from plotly->catboost==1.0.1) (8.0.1)\nInstalling collected packages: graphviz, catboost\nSuccessfully installed catboost-1.0.1 graphviz-0.19.1\n\u001b[33mWARNING: You are using pip version 21.1.1; however, version 21.3.1 is available.\nYou should consider upgrading via the '/root/venv/bin/python -m pip install --upgrade pip' command.\u001b[0m\n",
     "output_type": "stream",
     "data": {}
    }
   ]
  },
  {
   "cell_type": "code",
   "metadata": {
    "tags": [],
    "cell_id": "00001-02b1fe49-3262-4a38-96d4-730c271be56d",
    "deepnote_to_be_reexecuted": false,
    "source_hash": "9324f527",
    "execution_start": 1640097192474,
    "execution_millis": 4274,
    "deepnote_cell_type": "code"
   },
   "source": "import pandas\nimport numpy as np\n\nfrom sklearn.tree import DecisionTreeClassifier, DecisionTreeRegressor, plot_tree\nfrom sklearn.model_selection import train_test_split\nfrom sklearn import metrics\nfrom sklearn.model_selection import GridSearchCV\n\n#plotting libraries\nimport matplotlib.pyplot as plt\nimport seaborn as sns\n%matplotlib inline\n\n\nfrom sklearn.ensemble import RandomForestClassifier\nfrom sklearn.ensemble import ExtraTreesClassifier\nfrom catboost import CatBoostClassifier\nfrom sklearn.neighbors import KNeighborsClassifier\nfrom sklearn.model_selection import GridSearchCV",
   "execution_count": 2,
   "outputs": []
  },
  {
   "cell_type": "markdown",
   "source": "## Loading data",
   "metadata": {
    "tags": [],
    "is_collapsed": false,
    "cell_id": "00002-5ce6cdc7-7f5a-469a-a625-67be63a68efb",
    "deepnote_cell_type": "text-cell-h2"
   }
  },
  {
   "cell_type": "code",
   "metadata": {
    "tags": [],
    "cell_id": "00002-19595ab7-1878-4bbd-b93d-9e8224a3a590",
    "deepnote_to_be_reexecuted": false,
    "source_hash": "d7ad675",
    "execution_start": 1640097196757,
    "execution_millis": 25,
    "deepnote_cell_type": "code"
   },
   "source": "\ndata_test = pandas.read_csv('evaluation.csv')\ndata_training = pandas.read_csv('data.csv')",
   "execution_count": 3,
   "outputs": []
  },
  {
   "cell_type": "markdown",
   "source": "## Obtaining of the basic information about data",
   "metadata": {
    "tags": [],
    "is_collapsed": false,
    "cell_id": "00004-8ffac03b-09b2-4ee9-96a2-f73975c46c33",
    "deepnote_cell_type": "text-cell-h2"
   }
  },
  {
   "cell_type": "code",
   "metadata": {
    "tags": [],
    "cell_id": "00002-97a6744d-100d-4178-b4d8-1f461abcf501",
    "deepnote_to_be_reexecuted": false,
    "source_hash": "daf894d9",
    "execution_start": 1640097196870,
    "execution_millis": 46,
    "deepnote_cell_type": "code"
   },
   "source": "data_test.head(1)",
   "execution_count": 4,
   "outputs": [
    {
     "output_type": "execute_result",
     "execution_count": 4,
     "data": {
      "application/vnd.deepnote.dataframe.v3+json": {
       "column_count": 12,
       "row_count": 1,
       "columns": [
        {
         "name": "ID",
         "dtype": "int64",
         "stats": {
          "unique_count": 1,
          "nan_count": 0,
          "min": "1000",
          "max": "1000",
          "histogram": [
           {
            "bin_start": 999.5,
            "bin_end": 999.6,
            "count": 0
           },
           {
            "bin_start": 999.6,
            "bin_end": 999.7,
            "count": 0
           },
           {
            "bin_start": 999.7,
            "bin_end": 999.8,
            "count": 0
           },
           {
            "bin_start": 999.8,
            "bin_end": 999.9,
            "count": 0
           },
           {
            "bin_start": 999.9,
            "bin_end": 1000,
            "count": 0
           },
           {
            "bin_start": 1000,
            "bin_end": 1000.1,
            "count": 1
           },
           {
            "bin_start": 1000.1,
            "bin_end": 1000.2,
            "count": 0
           },
           {
            "bin_start": 1000.2,
            "bin_end": 1000.3,
            "count": 0
           },
           {
            "bin_start": 1000.3,
            "bin_end": 1000.4,
            "count": 0
           },
           {
            "bin_start": 1000.4,
            "bin_end": 1000.5,
            "count": 0
           }
          ]
         }
        },
        {
         "name": "pclass",
         "dtype": "int64",
         "stats": {
          "unique_count": 1,
          "nan_count": 0,
          "min": "1",
          "max": "1",
          "histogram": [
           {
            "bin_start": 0.5,
            "bin_end": 0.6,
            "count": 0
           },
           {
            "bin_start": 0.6,
            "bin_end": 0.7,
            "count": 0
           },
           {
            "bin_start": 0.7,
            "bin_end": 0.8,
            "count": 0
           },
           {
            "bin_start": 0.8,
            "bin_end": 0.9,
            "count": 0
           },
           {
            "bin_start": 0.9,
            "bin_end": 1,
            "count": 0
           },
           {
            "bin_start": 1,
            "bin_end": 1.1,
            "count": 1
           },
           {
            "bin_start": 1.1,
            "bin_end": 1.2000000000000002,
            "count": 0
           },
           {
            "bin_start": 1.2000000000000002,
            "bin_end": 1.3,
            "count": 0
           },
           {
            "bin_start": 1.3,
            "bin_end": 1.4,
            "count": 0
           },
           {
            "bin_start": 1.4,
            "bin_end": 1.5,
            "count": 0
           }
          ]
         }
        },
        {
         "name": "name",
         "dtype": "object",
         "stats": {
          "unique_count": 1,
          "nan_count": 0,
          "categories": [
           {
            "name": "Wick, Miss. Mary Natalie",
            "count": 1
           }
          ]
         }
        },
        {
         "name": "sex",
         "dtype": "object",
         "stats": {
          "unique_count": 1,
          "nan_count": 0,
          "categories": [
           {
            "name": "female",
            "count": 1
           }
          ]
         }
        },
        {
         "name": "age",
         "dtype": "float64",
         "stats": {
          "unique_count": 1,
          "nan_count": 0,
          "min": "31.0",
          "max": "31.0",
          "histogram": [
           {
            "bin_start": 30.5,
            "bin_end": 30.6,
            "count": 0
           },
           {
            "bin_start": 30.6,
            "bin_end": 30.7,
            "count": 0
           },
           {
            "bin_start": 30.7,
            "bin_end": 30.8,
            "count": 0
           },
           {
            "bin_start": 30.8,
            "bin_end": 30.9,
            "count": 0
           },
           {
            "bin_start": 30.9,
            "bin_end": 31,
            "count": 0
           },
           {
            "bin_start": 31,
            "bin_end": 31.1,
            "count": 1
           },
           {
            "bin_start": 31.1,
            "bin_end": 31.2,
            "count": 0
           },
           {
            "bin_start": 31.2,
            "bin_end": 31.3,
            "count": 0
           },
           {
            "bin_start": 31.3,
            "bin_end": 31.4,
            "count": 0
           },
           {
            "bin_start": 31.4,
            "bin_end": 31.5,
            "count": 0
           }
          ]
         }
        },
        {
         "name": "sibsp",
         "dtype": "int64",
         "stats": {
          "unique_count": 1,
          "nan_count": 0,
          "min": "0",
          "max": "0",
          "histogram": [
           {
            "bin_start": -0.5,
            "bin_end": -0.4,
            "count": 0
           },
           {
            "bin_start": -0.4,
            "bin_end": -0.3,
            "count": 0
           },
           {
            "bin_start": -0.3,
            "bin_end": -0.19999999999999996,
            "count": 0
           },
           {
            "bin_start": -0.19999999999999996,
            "bin_end": -0.09999999999999998,
            "count": 0
           },
           {
            "bin_start": -0.09999999999999998,
            "bin_end": 0,
            "count": 0
           },
           {
            "bin_start": 0,
            "bin_end": 0.10000000000000009,
            "count": 1
           },
           {
            "bin_start": 0.10000000000000009,
            "bin_end": 0.20000000000000007,
            "count": 0
           },
           {
            "bin_start": 0.20000000000000007,
            "bin_end": 0.30000000000000004,
            "count": 0
           },
           {
            "bin_start": 0.30000000000000004,
            "bin_end": 0.4,
            "count": 0
           },
           {
            "bin_start": 0.4,
            "bin_end": 0.5,
            "count": 0
           }
          ]
         }
        },
        {
         "name": "parch",
         "dtype": "int64",
         "stats": {
          "unique_count": 1,
          "nan_count": 0,
          "min": "2",
          "max": "2",
          "histogram": [
           {
            "bin_start": 1.5,
            "bin_end": 1.6,
            "count": 0
           },
           {
            "bin_start": 1.6,
            "bin_end": 1.7,
            "count": 0
           },
           {
            "bin_start": 1.7,
            "bin_end": 1.8,
            "count": 0
           },
           {
            "bin_start": 1.8,
            "bin_end": 1.9,
            "count": 0
           },
           {
            "bin_start": 1.9,
            "bin_end": 2,
            "count": 0
           },
           {
            "bin_start": 2,
            "bin_end": 2.1,
            "count": 1
           },
           {
            "bin_start": 2.1,
            "bin_end": 2.2,
            "count": 0
           },
           {
            "bin_start": 2.2,
            "bin_end": 2.3,
            "count": 0
           },
           {
            "bin_start": 2.3,
            "bin_end": 2.4,
            "count": 0
           },
           {
            "bin_start": 2.4,
            "bin_end": 2.5,
            "count": 0
           }
          ]
         }
        },
        {
         "name": "ticket",
         "dtype": "object",
         "stats": {
          "unique_count": 1,
          "nan_count": 0,
          "categories": [
           {
            "name": "36928",
            "count": 1
           }
          ]
         }
        },
        {
         "name": "fare",
         "dtype": "float64",
         "stats": {
          "unique_count": 1,
          "nan_count": 0,
          "min": "164.8667",
          "max": "164.8667",
          "histogram": [
           {
            "bin_start": 164.3667,
            "bin_end": 164.4667,
            "count": 0
           },
           {
            "bin_start": 164.4667,
            "bin_end": 164.5667,
            "count": 0
           },
           {
            "bin_start": 164.5667,
            "bin_end": 164.66670000000002,
            "count": 0
           },
           {
            "bin_start": 164.66670000000002,
            "bin_end": 164.76670000000001,
            "count": 0
           },
           {
            "bin_start": 164.76670000000001,
            "bin_end": 164.8667,
            "count": 0
           },
           {
            "bin_start": 164.8667,
            "bin_end": 164.9667,
            "count": 1
           },
           {
            "bin_start": 164.9667,
            "bin_end": 165.0667,
            "count": 0
           },
           {
            "bin_start": 165.0667,
            "bin_end": 165.16670000000002,
            "count": 0
           },
           {
            "bin_start": 165.16670000000002,
            "bin_end": 165.26670000000001,
            "count": 0
           },
           {
            "bin_start": 165.26670000000001,
            "bin_end": 165.3667,
            "count": 0
           }
          ]
         }
        },
        {
         "name": "cabin",
         "dtype": "object",
         "stats": {
          "unique_count": 1,
          "nan_count": 0,
          "categories": [
           {
            "name": "C7",
            "count": 1
           }
          ]
         }
        },
        {
         "name": "embarked",
         "dtype": "object",
         "stats": {
          "unique_count": 1,
          "nan_count": 0,
          "categories": [
           {
            "name": "S",
            "count": 1
           }
          ]
         }
        },
        {
         "name": "home.dest",
         "dtype": "object",
         "stats": {
          "unique_count": 1,
          "nan_count": 0,
          "categories": [
           {
            "name": "Youngstown, OH",
            "count": 1
           }
          ]
         }
        },
        {
         "name": "_deepnote_index_column",
         "dtype": "int64"
        }
       ],
       "rows": [
        {
         "ID": 1000,
         "pclass": 1,
         "name": "Wick, Miss. Mary Natalie",
         "sex": "female",
         "age": 31,
         "sibsp": 0,
         "parch": 2,
         "ticket": "36928",
         "fare": 164.8667,
         "cabin": "C7",
         "embarked": "S",
         "home.dest": "Youngstown, OH",
         "_deepnote_index_column": 0
        }
       ]
      },
      "text/plain": "     ID  pclass                      name     sex   age  sibsp  parch ticket  \\\n0  1000       1  Wick, Miss. Mary Natalie  female  31.0      0      2  36928   \n\n       fare cabin embarked       home.dest  \n0  164.8667    C7        S  Youngstown, OH  ",
      "text/html": "<div>\n<style scoped>\n    .dataframe tbody tr th:only-of-type {\n        vertical-align: middle;\n    }\n\n    .dataframe tbody tr th {\n        vertical-align: top;\n    }\n\n    .dataframe thead th {\n        text-align: right;\n    }\n</style>\n<table border=\"1\" class=\"dataframe\">\n  <thead>\n    <tr style=\"text-align: right;\">\n      <th></th>\n      <th>ID</th>\n      <th>pclass</th>\n      <th>name</th>\n      <th>sex</th>\n      <th>age</th>\n      <th>sibsp</th>\n      <th>parch</th>\n      <th>ticket</th>\n      <th>fare</th>\n      <th>cabin</th>\n      <th>embarked</th>\n      <th>home.dest</th>\n    </tr>\n  </thead>\n  <tbody>\n    <tr>\n      <th>0</th>\n      <td>1000</td>\n      <td>1</td>\n      <td>Wick, Miss. Mary Natalie</td>\n      <td>female</td>\n      <td>31.0</td>\n      <td>0</td>\n      <td>2</td>\n      <td>36928</td>\n      <td>164.8667</td>\n      <td>C7</td>\n      <td>S</td>\n      <td>Youngstown, OH</td>\n    </tr>\n  </tbody>\n</table>\n</div>"
     },
     "metadata": {}
    }
   ]
  },
  {
   "cell_type": "code",
   "metadata": {
    "tags": [],
    "cell_id": "00003-fe4d9617-bfed-414e-9669-d293acdb6b6b",
    "deepnote_to_be_reexecuted": false,
    "source_hash": "5e4af317",
    "execution_start": 1640097197005,
    "execution_millis": 14,
    "deepnote_cell_type": "code"
   },
   "source": "data_training.head()",
   "execution_count": 5,
   "outputs": [
    {
     "output_type": "execute_result",
     "execution_count": 5,
     "data": {
      "application/vnd.deepnote.dataframe.v3+json": {
       "column_count": 13,
       "row_count": 5,
       "columns": [
        {
         "name": "ID",
         "dtype": "int64",
         "stats": {
          "unique_count": 5,
          "nan_count": 0,
          "min": "0",
          "max": "4",
          "histogram": [
           {
            "bin_start": 0,
            "bin_end": 0.4,
            "count": 1
           },
           {
            "bin_start": 0.4,
            "bin_end": 0.8,
            "count": 0
           },
           {
            "bin_start": 0.8,
            "bin_end": 1.2000000000000002,
            "count": 1
           },
           {
            "bin_start": 1.2000000000000002,
            "bin_end": 1.6,
            "count": 0
           },
           {
            "bin_start": 1.6,
            "bin_end": 2,
            "count": 0
           },
           {
            "bin_start": 2,
            "bin_end": 2.4000000000000004,
            "count": 1
           },
           {
            "bin_start": 2.4000000000000004,
            "bin_end": 2.8000000000000003,
            "count": 0
           },
           {
            "bin_start": 2.8000000000000003,
            "bin_end": 3.2,
            "count": 1
           },
           {
            "bin_start": 3.2,
            "bin_end": 3.6,
            "count": 0
           },
           {
            "bin_start": 3.6,
            "bin_end": 4,
            "count": 1
           }
          ]
         }
        },
        {
         "name": "survived",
         "dtype": "int64",
         "stats": {
          "unique_count": 2,
          "nan_count": 0,
          "min": "0",
          "max": "1",
          "histogram": [
           {
            "bin_start": 0,
            "bin_end": 0.1,
            "count": 2
           },
           {
            "bin_start": 0.1,
            "bin_end": 0.2,
            "count": 0
           },
           {
            "bin_start": 0.2,
            "bin_end": 0.30000000000000004,
            "count": 0
           },
           {
            "bin_start": 0.30000000000000004,
            "bin_end": 0.4,
            "count": 0
           },
           {
            "bin_start": 0.4,
            "bin_end": 0.5,
            "count": 0
           },
           {
            "bin_start": 0.5,
            "bin_end": 0.6000000000000001,
            "count": 0
           },
           {
            "bin_start": 0.6000000000000001,
            "bin_end": 0.7000000000000001,
            "count": 0
           },
           {
            "bin_start": 0.7000000000000001,
            "bin_end": 0.8,
            "count": 0
           },
           {
            "bin_start": 0.8,
            "bin_end": 0.9,
            "count": 0
           },
           {
            "bin_start": 0.9,
            "bin_end": 1,
            "count": 3
           }
          ]
         }
        },
        {
         "name": "pclass",
         "dtype": "int64",
         "stats": {
          "unique_count": 3,
          "nan_count": 0,
          "min": "1",
          "max": "3",
          "histogram": [
           {
            "bin_start": 1,
            "bin_end": 1.2,
            "count": 1
           },
           {
            "bin_start": 1.2,
            "bin_end": 1.4,
            "count": 0
           },
           {
            "bin_start": 1.4,
            "bin_end": 1.6,
            "count": 0
           },
           {
            "bin_start": 1.6,
            "bin_end": 1.8,
            "count": 0
           },
           {
            "bin_start": 1.8,
            "bin_end": 2,
            "count": 0
           },
           {
            "bin_start": 2,
            "bin_end": 2.2,
            "count": 1
           },
           {
            "bin_start": 2.2,
            "bin_end": 2.4000000000000004,
            "count": 0
           },
           {
            "bin_start": 2.4000000000000004,
            "bin_end": 2.6,
            "count": 0
           },
           {
            "bin_start": 2.6,
            "bin_end": 2.8,
            "count": 0
           },
           {
            "bin_start": 2.8,
            "bin_end": 3,
            "count": 3
           }
          ]
         }
        },
        {
         "name": "name",
         "dtype": "object",
         "stats": {
          "unique_count": 5,
          "nan_count": 0,
          "categories": [
           {
            "name": "Andersson, Mr. August Edvard (\"Wennerstrom\")",
            "count": 1
           },
           {
            "name": "Dahl, Mr. Karl Edwart",
            "count": 1
           },
           {
            "name": "3 others",
            "count": 3
           }
          ]
         }
        },
        {
         "name": "sex",
         "dtype": "object",
         "stats": {
          "unique_count": 2,
          "nan_count": 0,
          "categories": [
           {
            "name": "male",
            "count": 4
           },
           {
            "name": "female",
            "count": 1
           }
          ]
         }
        },
        {
         "name": "age",
         "dtype": "float64",
         "stats": {
          "unique_count": 3,
          "nan_count": 1,
          "min": "27.0",
          "max": "45.0",
          "histogram": [
           {
            "bin_start": 27,
            "bin_end": 28.8,
            "count": 3
           },
           {
            "bin_start": 28.8,
            "bin_end": 30.6,
            "count": 0
           },
           {
            "bin_start": 30.6,
            "bin_end": 32.4,
            "count": 0
           },
           {
            "bin_start": 32.4,
            "bin_end": 34.2,
            "count": 0
           },
           {
            "bin_start": 34.2,
            "bin_end": 36,
            "count": 0
           },
           {
            "bin_start": 36,
            "bin_end": 37.8,
            "count": 0
           },
           {
            "bin_start": 37.8,
            "bin_end": 39.6,
            "count": 0
           },
           {
            "bin_start": 39.6,
            "bin_end": 41.4,
            "count": 0
           },
           {
            "bin_start": 41.4,
            "bin_end": 43.2,
            "count": 0
           },
           {
            "bin_start": 43.2,
            "bin_end": 45,
            "count": 1
           }
          ]
         }
        },
        {
         "name": "sibsp",
         "dtype": "int64",
         "stats": {
          "unique_count": 2,
          "nan_count": 0,
          "min": "0",
          "max": "1",
          "histogram": [
           {
            "bin_start": 0,
            "bin_end": 0.1,
            "count": 4
           },
           {
            "bin_start": 0.1,
            "bin_end": 0.2,
            "count": 0
           },
           {
            "bin_start": 0.2,
            "bin_end": 0.30000000000000004,
            "count": 0
           },
           {
            "bin_start": 0.30000000000000004,
            "bin_end": 0.4,
            "count": 0
           },
           {
            "bin_start": 0.4,
            "bin_end": 0.5,
            "count": 0
           },
           {
            "bin_start": 0.5,
            "bin_end": 0.6000000000000001,
            "count": 0
           },
           {
            "bin_start": 0.6000000000000001,
            "bin_end": 0.7000000000000001,
            "count": 0
           },
           {
            "bin_start": 0.7000000000000001,
            "bin_end": 0.8,
            "count": 0
           },
           {
            "bin_start": 0.8,
            "bin_end": 0.9,
            "count": 0
           },
           {
            "bin_start": 0.9,
            "bin_end": 1,
            "count": 1
           }
          ]
         }
        },
        {
         "name": "parch",
         "dtype": "int64",
         "stats": {
          "unique_count": 2,
          "nan_count": 0,
          "min": "0",
          "max": "2",
          "histogram": [
           {
            "bin_start": 0,
            "bin_end": 0.2,
            "count": 4
           },
           {
            "bin_start": 0.2,
            "bin_end": 0.4,
            "count": 0
           },
           {
            "bin_start": 0.4,
            "bin_end": 0.6000000000000001,
            "count": 0
           },
           {
            "bin_start": 0.6000000000000001,
            "bin_end": 0.8,
            "count": 0
           },
           {
            "bin_start": 0.8,
            "bin_end": 1,
            "count": 0
           },
           {
            "bin_start": 1,
            "bin_end": 1.2000000000000002,
            "count": 0
           },
           {
            "bin_start": 1.2000000000000002,
            "bin_end": 1.4000000000000001,
            "count": 0
           },
           {
            "bin_start": 1.4000000000000001,
            "bin_end": 1.6,
            "count": 0
           },
           {
            "bin_start": 1.6,
            "bin_end": 1.8,
            "count": 0
           },
           {
            "bin_start": 1.8,
            "bin_end": 2,
            "count": 1
           }
          ]
         }
        },
        {
         "name": "ticket",
         "dtype": "object",
         "stats": {
          "unique_count": 5,
          "nan_count": 0,
          "categories": [
           {
            "name": "350043",
            "count": 1
           },
           {
            "name": "7598",
            "count": 1
           },
           {
            "name": "3 others",
            "count": 3
           }
          ]
         }
        },
        {
         "name": "fare",
         "dtype": "float64",
         "stats": {
          "unique_count": 5,
          "nan_count": 0,
          "min": "0.0",
          "max": "82.1708",
          "histogram": [
           {
            "bin_start": 0,
            "bin_end": 8.21708,
            "count": 3
           },
           {
            "bin_start": 8.21708,
            "bin_end": 16.43416,
            "count": 1
           },
           {
            "bin_start": 16.43416,
            "bin_end": 24.651239999999998,
            "count": 0
           },
           {
            "bin_start": 24.651239999999998,
            "bin_end": 32.86832,
            "count": 0
           },
           {
            "bin_start": 32.86832,
            "bin_end": 41.08539999999999,
            "count": 0
           },
           {
            "bin_start": 41.08539999999999,
            "bin_end": 49.302479999999996,
            "count": 0
           },
           {
            "bin_start": 49.302479999999996,
            "bin_end": 57.51956,
            "count": 0
           },
           {
            "bin_start": 57.51956,
            "bin_end": 65.73664,
            "count": 0
           },
           {
            "bin_start": 65.73664,
            "bin_end": 73.95371999999999,
            "count": 0
           },
           {
            "bin_start": 73.95371999999999,
            "bin_end": 82.1708,
            "count": 1
           }
          ]
         }
        },
        {
         "name": "cabin",
         "dtype": "object",
         "stats": {
          "unique_count": 0,
          "nan_count": 5,
          "categories": [
           {
            "name": "Missing",
            "count": 5
           }
          ]
         }
        },
        {
         "name": "embarked",
         "dtype": "object",
         "stats": {
          "unique_count": 2,
          "nan_count": 0,
          "categories": [
           {
            "name": "S",
            "count": 4
           },
           {
            "name": "C",
            "count": 1
           }
          ]
         }
        },
        {
         "name": "home.dest",
         "dtype": "object",
         "stats": {
          "unique_count": 3,
          "nan_count": 2,
          "categories": [
           {
            "name": "Australia Fingal, ND",
            "count": 1
           },
           {
            "name": "2 others",
            "count": 2
           },
           {
            "name": "Missing",
            "count": 2
           }
          ]
         }
        },
        {
         "name": "_deepnote_index_column",
         "dtype": "int64"
        }
       ],
       "rows": [
        {
         "ID": 0,
         "survived": 1,
         "pclass": 3,
         "name": "Andersson, Mr. August Edvard (\"Wennerstrom\")",
         "sex": "male",
         "age": 27,
         "sibsp": 0,
         "parch": 0,
         "ticket": "350043",
         "fare": 7.7958,
         "cabin": "nan",
         "embarked": "S",
         "home.dest": "nan",
         "_deepnote_index_column": 0
        },
        {
         "ID": 1,
         "survived": 1,
         "pclass": 3,
         "name": "Dahl, Mr. Karl Edwart",
         "sex": "male",
         "age": 45,
         "sibsp": 0,
         "parch": 0,
         "ticket": "7598",
         "fare": 8.05,
         "cabin": "nan",
         "embarked": "S",
         "home.dest": "Australia Fingal, ND",
         "_deepnote_index_column": 1
        },
        {
         "ID": 2,
         "survived": 0,
         "pclass": 2,
         "name": "Watson, Mr. Ennis Hastings",
         "sex": "male",
         "age": "nan",
         "sibsp": 0,
         "parch": 0,
         "ticket": "239856",
         "fare": 0,
         "cabin": "nan",
         "embarked": "S",
         "home.dest": "Belfast",
         "_deepnote_index_column": 2
        },
        {
         "ID": 3,
         "survived": 1,
         "pclass": 3,
         "name": "Johnson, Mrs. Oscar W (Elisabeth Vilhelmina Berg)",
         "sex": "female",
         "age": 27,
         "sibsp": 0,
         "parch": 2,
         "ticket": "347742",
         "fare": 11.1333,
         "cabin": "nan",
         "embarked": "S",
         "home.dest": "nan",
         "_deepnote_index_column": 3
        },
        {
         "ID": 4,
         "survived": 0,
         "pclass": 1,
         "name": "Meyer, Mr. Edgar Joseph",
         "sex": "male",
         "age": 28,
         "sibsp": 1,
         "parch": 0,
         "ticket": "PC 17604",
         "fare": 82.1708,
         "cabin": "nan",
         "embarked": "C",
         "home.dest": "New York, NY",
         "_deepnote_index_column": 4
        }
       ]
      },
      "text/plain": "   ID  survived  pclass                                               name  \\\n0   0         1       3       Andersson, Mr. August Edvard (\"Wennerstrom\")   \n1   1         1       3                              Dahl, Mr. Karl Edwart   \n2   2         0       2                         Watson, Mr. Ennis Hastings   \n3   3         1       3  Johnson, Mrs. Oscar W (Elisabeth Vilhelmina Berg)   \n4   4         0       1                            Meyer, Mr. Edgar Joseph   \n\n      sex   age  sibsp  parch    ticket     fare cabin embarked  \\\n0    male  27.0      0      0    350043   7.7958   NaN        S   \n1    male  45.0      0      0      7598   8.0500   NaN        S   \n2    male   NaN      0      0    239856   0.0000   NaN        S   \n3  female  27.0      0      2    347742  11.1333   NaN        S   \n4    male  28.0      1      0  PC 17604  82.1708   NaN        C   \n\n              home.dest  \n0                   NaN  \n1  Australia Fingal, ND  \n2               Belfast  \n3                   NaN  \n4          New York, NY  ",
      "text/html": "<div>\n<style scoped>\n    .dataframe tbody tr th:only-of-type {\n        vertical-align: middle;\n    }\n\n    .dataframe tbody tr th {\n        vertical-align: top;\n    }\n\n    .dataframe thead th {\n        text-align: right;\n    }\n</style>\n<table border=\"1\" class=\"dataframe\">\n  <thead>\n    <tr style=\"text-align: right;\">\n      <th></th>\n      <th>ID</th>\n      <th>survived</th>\n      <th>pclass</th>\n      <th>name</th>\n      <th>sex</th>\n      <th>age</th>\n      <th>sibsp</th>\n      <th>parch</th>\n      <th>ticket</th>\n      <th>fare</th>\n      <th>cabin</th>\n      <th>embarked</th>\n      <th>home.dest</th>\n    </tr>\n  </thead>\n  <tbody>\n    <tr>\n      <th>0</th>\n      <td>0</td>\n      <td>1</td>\n      <td>3</td>\n      <td>Andersson, Mr. August Edvard (\"Wennerstrom\")</td>\n      <td>male</td>\n      <td>27.0</td>\n      <td>0</td>\n      <td>0</td>\n      <td>350043</td>\n      <td>7.7958</td>\n      <td>NaN</td>\n      <td>S</td>\n      <td>NaN</td>\n    </tr>\n    <tr>\n      <th>1</th>\n      <td>1</td>\n      <td>1</td>\n      <td>3</td>\n      <td>Dahl, Mr. Karl Edwart</td>\n      <td>male</td>\n      <td>45.0</td>\n      <td>0</td>\n      <td>0</td>\n      <td>7598</td>\n      <td>8.0500</td>\n      <td>NaN</td>\n      <td>S</td>\n      <td>Australia Fingal, ND</td>\n    </tr>\n    <tr>\n      <th>2</th>\n      <td>2</td>\n      <td>0</td>\n      <td>2</td>\n      <td>Watson, Mr. Ennis Hastings</td>\n      <td>male</td>\n      <td>NaN</td>\n      <td>0</td>\n      <td>0</td>\n      <td>239856</td>\n      <td>0.0000</td>\n      <td>NaN</td>\n      <td>S</td>\n      <td>Belfast</td>\n    </tr>\n    <tr>\n      <th>3</th>\n      <td>3</td>\n      <td>1</td>\n      <td>3</td>\n      <td>Johnson, Mrs. Oscar W (Elisabeth Vilhelmina Berg)</td>\n      <td>female</td>\n      <td>27.0</td>\n      <td>0</td>\n      <td>2</td>\n      <td>347742</td>\n      <td>11.1333</td>\n      <td>NaN</td>\n      <td>S</td>\n      <td>NaN</td>\n    </tr>\n    <tr>\n      <th>4</th>\n      <td>4</td>\n      <td>0</td>\n      <td>1</td>\n      <td>Meyer, Mr. Edgar Joseph</td>\n      <td>male</td>\n      <td>28.0</td>\n      <td>1</td>\n      <td>0</td>\n      <td>PC 17604</td>\n      <td>82.1708</td>\n      <td>NaN</td>\n      <td>C</td>\n      <td>New York, NY</td>\n    </tr>\n  </tbody>\n</table>\n</div>"
     },
     "metadata": {}
    }
   ]
  },
  {
   "cell_type": "code",
   "metadata": {
    "tags": [],
    "cell_id": "00005-303975ad-6190-418a-af9c-2078c2e511c7",
    "deepnote_to_be_reexecuted": false,
    "source_hash": "19e135d7",
    "execution_start": 1640097197075,
    "execution_millis": 4,
    "deepnote_cell_type": "code"
   },
   "source": "data_training.info()",
   "execution_count": 6,
   "outputs": [
    {
     "name": "stdout",
     "text": "<class 'pandas.core.frame.DataFrame'>\nRangeIndex: 1000 entries, 0 to 999\nData columns (total 13 columns):\n #   Column     Non-Null Count  Dtype  \n---  ------     --------------  -----  \n 0   ID         1000 non-null   int64  \n 1   survived   1000 non-null   int64  \n 2   pclass     1000 non-null   int64  \n 3   name       1000 non-null   object \n 4   sex        1000 non-null   object \n 5   age        797 non-null    float64\n 6   sibsp      1000 non-null   int64  \n 7   parch      1000 non-null   int64  \n 8   ticket     1000 non-null   object \n 9   fare       999 non-null    float64\n 10  cabin      222 non-null    object \n 11  embarked   999 non-null    object \n 12  home.dest  573 non-null    object \ndtypes: float64(2), int64(5), object(6)\nmemory usage: 101.7+ KB\n",
     "output_type": "stream",
     "data": {}
    }
   ]
  },
  {
   "cell_type": "markdown",
   "source": "### In the \"age\", \"home.dest\" columns\nand \"cabin\" are gaps.\nThe Columns of type object to cast to int or float\nThe \"Age\" column is of type float, you must cast it to type int\nThere are categorical functions (like \"Pclass\") that need to be coded",
   "metadata": {
    "tags": [],
    "is_collapsed": false,
    "cell_id": "00009-f3500826-4e25-4289-bf0c-8b65b10b3292",
    "deepnote_cell_type": "text-cell-h3"
   }
  },
  {
   "cell_type": "code",
   "metadata": {
    "tags": [],
    "cell_id": "00010-6b7b567f-742e-4c1d-9ec3-847448f7622a",
    "deepnote_to_be_reexecuted": false,
    "source_hash": "e23860c3",
    "execution_start": 1640097197076,
    "execution_millis": 3,
    "deepnote_cell_type": "code"
   },
   "source": "data_test.info()",
   "execution_count": 7,
   "outputs": [
    {
     "name": "stdout",
     "text": "<class 'pandas.core.frame.DataFrame'>\nRangeIndex: 309 entries, 0 to 308\nData columns (total 12 columns):\n #   Column     Non-Null Count  Dtype  \n---  ------     --------------  -----  \n 0   ID         309 non-null    int64  \n 1   pclass     309 non-null    int64  \n 2   name       309 non-null    object \n 3   sex        309 non-null    object \n 4   age        249 non-null    float64\n 5   sibsp      309 non-null    int64  \n 6   parch      309 non-null    int64  \n 7   ticket     309 non-null    object \n 8   fare       309 non-null    float64\n 9   cabin      73 non-null     object \n 10  embarked   308 non-null    object \n 11  home.dest  172 non-null    object \ndtypes: float64(2), int64(4), object(6)\nmemory usage: 29.1+ KB\n",
     "output_type": "stream",
     "data": {}
    }
   ]
  },
  {
   "cell_type": "markdown",
   "source": "### We can see above that the test data file also lacks values and incorrect data formats.",
   "metadata": {
    "tags": [],
    "is_collapsed": false,
    "cell_id": "00010-5bfef6f7-a807-45f0-b478-420b685ddb61",
    "deepnote_cell_type": "text-cell-h3"
   }
  },
  {
   "cell_type": "markdown",
   "source": "### Information about the values in our numeric columns",
   "metadata": {
    "tags": [],
    "is_collapsed": false,
    "cell_id": "00009-72aad27f-f625-423d-bf09-361f134c5a8f",
    "deepnote_cell_type": "text-cell-h3"
   }
  },
  {
   "cell_type": "code",
   "metadata": {
    "tags": [],
    "cell_id": "00009-b36764f1-5260-42dd-bf7e-6da1e4681cdf",
    "deepnote_to_be_reexecuted": false,
    "source_hash": "57bba5ba",
    "execution_start": 1640097197077,
    "execution_millis": 70,
    "deepnote_cell_type": "code"
   },
   "source": "data_test.describe()",
   "execution_count": 8,
   "outputs": [
    {
     "output_type": "execute_result",
     "execution_count": 8,
     "data": {
      "application/vnd.deepnote.dataframe.v3+json": {
       "column_count": 6,
       "row_count": 8,
       "columns": [
        {
         "name": "ID",
         "dtype": "float64",
         "stats": {
          "unique_count": 7,
          "nan_count": 0,
          "min": "89.34483756770729",
          "max": "1308.0",
          "histogram": [
           {
            "bin_start": 89.34483756770729,
            "bin_end": 211.21035381093657,
            "count": 1
           },
           {
            "bin_start": 211.21035381093657,
            "bin_end": 333.0758700541658,
            "count": 1
           },
           {
            "bin_start": 333.0758700541658,
            "bin_end": 454.94138629739507,
            "count": 0
           },
           {
            "bin_start": 454.94138629739507,
            "bin_end": 576.8069025406244,
            "count": 0
           },
           {
            "bin_start": 576.8069025406244,
            "bin_end": 698.6724187838536,
            "count": 0
           },
           {
            "bin_start": 698.6724187838536,
            "bin_end": 820.5379350270829,
            "count": 0
           },
           {
            "bin_start": 820.5379350270829,
            "bin_end": 942.4034512703121,
            "count": 0
           },
           {
            "bin_start": 942.4034512703121,
            "bin_end": 1064.2689675135414,
            "count": 1
           },
           {
            "bin_start": 1064.2689675135414,
            "bin_end": 1186.1344837567708,
            "count": 3
           },
           {
            "bin_start": 1186.1344837567708,
            "bin_end": 1308,
            "count": 2
           }
          ]
         }
        },
        {
         "name": "pclass",
         "dtype": "float64",
         "stats": {
          "unique_count": 6,
          "nan_count": 0,
          "min": "0.8316188811196049",
          "max": "309.0",
          "histogram": [
           {
            "bin_start": 0.8316188811196049,
            "bin_end": 31.648456993007645,
            "count": 7
           },
           {
            "bin_start": 31.648456993007645,
            "bin_end": 62.46529510489568,
            "count": 0
           },
           {
            "bin_start": 62.46529510489568,
            "bin_end": 93.28213321678372,
            "count": 0
           },
           {
            "bin_start": 93.28213321678372,
            "bin_end": 124.09897132867177,
            "count": 0
           },
           {
            "bin_start": 124.09897132867177,
            "bin_end": 154.9158094405598,
            "count": 0
           },
           {
            "bin_start": 154.9158094405598,
            "bin_end": 185.73264755244782,
            "count": 0
           },
           {
            "bin_start": 185.73264755244782,
            "bin_end": 216.54948566433586,
            "count": 0
           },
           {
            "bin_start": 216.54948566433586,
            "bin_end": 247.3663237762239,
            "count": 0
           },
           {
            "bin_start": 247.3663237762239,
            "bin_end": 278.18316188811195,
            "count": 0
           },
           {
            "bin_start": 278.18316188811195,
            "bin_end": 309,
            "count": 1
           }
          ]
         }
        },
        {
         "name": "age",
         "dtype": "float64",
         "stats": {
          "unique_count": 8,
          "nan_count": 0,
          "min": "0.4167",
          "max": "249.0",
          "histogram": [
           {
            "bin_start": 0.4167,
            "bin_end": 25.27503,
            "count": 3
           },
           {
            "bin_start": 25.27503,
            "bin_end": 50.13336,
            "count": 3
           },
           {
            "bin_start": 50.13336,
            "bin_end": 74.99169000000002,
            "count": 0
           },
           {
            "bin_start": 74.99169000000002,
            "bin_end": 99.85002000000001,
            "count": 1
           },
           {
            "bin_start": 99.85002000000001,
            "bin_end": 124.70835000000001,
            "count": 0
           },
           {
            "bin_start": 124.70835000000001,
            "bin_end": 149.56668000000002,
            "count": 0
           },
           {
            "bin_start": 149.56668000000002,
            "bin_end": 174.42501000000001,
            "count": 0
           },
           {
            "bin_start": 174.42501000000001,
            "bin_end": 199.28334,
            "count": 0
           },
           {
            "bin_start": 199.28334,
            "bin_end": 224.14167,
            "count": 0
           },
           {
            "bin_start": 224.14167,
            "bin_end": 249,
            "count": 1
           }
          ]
         }
        },
        {
         "name": "sibsp",
         "dtype": "float64",
         "stats": {
          "unique_count": 6,
          "nan_count": 0,
          "min": "0.0",
          "max": "309.0",
          "histogram": [
           {
            "bin_start": 0,
            "bin_end": 30.9,
            "count": 7
           },
           {
            "bin_start": 30.9,
            "bin_end": 61.8,
            "count": 0
           },
           {
            "bin_start": 61.8,
            "bin_end": 92.69999999999999,
            "count": 0
           },
           {
            "bin_start": 92.69999999999999,
            "bin_end": 123.6,
            "count": 0
           },
           {
            "bin_start": 123.6,
            "bin_end": 154.5,
            "count": 0
           },
           {
            "bin_start": 154.5,
            "bin_end": 185.39999999999998,
            "count": 0
           },
           {
            "bin_start": 185.39999999999998,
            "bin_end": 216.29999999999998,
            "count": 0
           },
           {
            "bin_start": 216.29999999999998,
            "bin_end": 247.2,
            "count": 0
           },
           {
            "bin_start": 247.2,
            "bin_end": 278.09999999999997,
            "count": 0
           },
           {
            "bin_start": 278.09999999999997,
            "bin_end": 309,
            "count": 1
           }
          ]
         }
        },
        {
         "name": "parch",
         "dtype": "float64",
         "stats": {
          "unique_count": 5,
          "nan_count": 0,
          "min": "0.0",
          "max": "309.0",
          "histogram": [
           {
            "bin_start": 0,
            "bin_end": 30.9,
            "count": 7
           },
           {
            "bin_start": 30.9,
            "bin_end": 61.8,
            "count": 0
           },
           {
            "bin_start": 61.8,
            "bin_end": 92.69999999999999,
            "count": 0
           },
           {
            "bin_start": 92.69999999999999,
            "bin_end": 123.6,
            "count": 0
           },
           {
            "bin_start": 123.6,
            "bin_end": 154.5,
            "count": 0
           },
           {
            "bin_start": 154.5,
            "bin_end": 185.39999999999998,
            "count": 0
           },
           {
            "bin_start": 185.39999999999998,
            "bin_end": 216.29999999999998,
            "count": 0
           },
           {
            "bin_start": 216.29999999999998,
            "bin_end": 247.2,
            "count": 0
           },
           {
            "bin_start": 247.2,
            "bin_end": 278.09999999999997,
            "count": 0
           },
           {
            "bin_start": 278.09999999999997,
            "bin_end": 309,
            "count": 1
           }
          ]
         }
        },
        {
         "name": "fare",
         "dtype": "float64",
         "stats": {
          "unique_count": 8,
          "nan_count": 0,
          "min": "0.0",
          "max": "309.0",
          "histogram": [
           {
            "bin_start": 0,
            "bin_end": 30.9,
            "count": 3
           },
           {
            "bin_start": 30.9,
            "bin_end": 61.8,
            "count": 3
           },
           {
            "bin_start": 61.8,
            "bin_end": 92.69999999999999,
            "count": 0
           },
           {
            "bin_start": 92.69999999999999,
            "bin_end": 123.6,
            "count": 0
           },
           {
            "bin_start": 123.6,
            "bin_end": 154.5,
            "count": 0
           },
           {
            "bin_start": 154.5,
            "bin_end": 185.39999999999998,
            "count": 0
           },
           {
            "bin_start": 185.39999999999998,
            "bin_end": 216.29999999999998,
            "count": 0
           },
           {
            "bin_start": 216.29999999999998,
            "bin_end": 247.2,
            "count": 0
           },
           {
            "bin_start": 247.2,
            "bin_end": 278.09999999999997,
            "count": 1
           },
           {
            "bin_start": 278.09999999999997,
            "bin_end": 309,
            "count": 1
           }
          ]
         }
        },
        {
         "name": "_deepnote_index_column",
         "dtype": "object"
        }
       ],
       "rows": [
        {
         "ID": 309,
         "pclass": 309,
         "age": 249,
         "sibsp": 309,
         "parch": 309,
         "fare": 309,
         "_deepnote_index_column": "count"
        },
        {
         "ID": 1154,
         "pclass": 2.3009708737864076,
         "age": 29.479250602409635,
         "sibsp": 0.49838187702265374,
         "parch": 0.3883495145631068,
         "fare": 32.89770841423949,
         "_deepnote_index_column": "mean"
        },
        {
         "ID": 89.34483756770729,
         "pclass": 0.8316188811196049,
         "age": 14.976390852252928,
         "sibsp": 1.109652441987199,
         "parch": 0.8401415663261278,
         "fare": 47.1850498428207,
         "_deepnote_index_column": "std"
        },
        {
         "ID": 1000,
         "pclass": 1,
         "age": 0.4167,
         "sibsp": 0,
         "parch": 0,
         "fare": 0,
         "_deepnote_index_column": "min"
        },
        {
         "ID": 1077,
         "pclass": 2,
         "age": 20,
         "sibsp": 0,
         "parch": 0,
         "fare": 7.925,
         "_deepnote_index_column": "25%"
        },
        {
         "ID": 1154,
         "pclass": 3,
         "age": 28,
         "sibsp": 0,
         "parch": 0,
         "fare": 13,
         "_deepnote_index_column": "50%"
        },
        {
         "ID": 1231,
         "pclass": 3,
         "age": 39,
         "sibsp": 1,
         "parch": 0,
         "fare": 31.3875,
         "_deepnote_index_column": "75%"
        },
        {
         "ID": 1308,
         "pclass": 3,
         "age": 80,
         "sibsp": 8,
         "parch": 6,
         "fare": 263,
         "_deepnote_index_column": "max"
        }
       ]
      },
      "text/plain": "                ID      pclass         age       sibsp       parch        fare\ncount   309.000000  309.000000  249.000000  309.000000  309.000000  309.000000\nmean   1154.000000    2.300971   29.479251    0.498382    0.388350   32.897708\nstd      89.344838    0.831619   14.976391    1.109652    0.840142   47.185050\nmin    1000.000000    1.000000    0.416700    0.000000    0.000000    0.000000\n25%    1077.000000    2.000000   20.000000    0.000000    0.000000    7.925000\n50%    1154.000000    3.000000   28.000000    0.000000    0.000000   13.000000\n75%    1231.000000    3.000000   39.000000    1.000000    0.000000   31.387500\nmax    1308.000000    3.000000   80.000000    8.000000    6.000000  263.000000",
      "text/html": "<div>\n<style scoped>\n    .dataframe tbody tr th:only-of-type {\n        vertical-align: middle;\n    }\n\n    .dataframe tbody tr th {\n        vertical-align: top;\n    }\n\n    .dataframe thead th {\n        text-align: right;\n    }\n</style>\n<table border=\"1\" class=\"dataframe\">\n  <thead>\n    <tr style=\"text-align: right;\">\n      <th></th>\n      <th>ID</th>\n      <th>pclass</th>\n      <th>age</th>\n      <th>sibsp</th>\n      <th>parch</th>\n      <th>fare</th>\n    </tr>\n  </thead>\n  <tbody>\n    <tr>\n      <th>count</th>\n      <td>309.000000</td>\n      <td>309.000000</td>\n      <td>249.000000</td>\n      <td>309.000000</td>\n      <td>309.000000</td>\n      <td>309.000000</td>\n    </tr>\n    <tr>\n      <th>mean</th>\n      <td>1154.000000</td>\n      <td>2.300971</td>\n      <td>29.479251</td>\n      <td>0.498382</td>\n      <td>0.388350</td>\n      <td>32.897708</td>\n    </tr>\n    <tr>\n      <th>std</th>\n      <td>89.344838</td>\n      <td>0.831619</td>\n      <td>14.976391</td>\n      <td>1.109652</td>\n      <td>0.840142</td>\n      <td>47.185050</td>\n    </tr>\n    <tr>\n      <th>min</th>\n      <td>1000.000000</td>\n      <td>1.000000</td>\n      <td>0.416700</td>\n      <td>0.000000</td>\n      <td>0.000000</td>\n      <td>0.000000</td>\n    </tr>\n    <tr>\n      <th>25%</th>\n      <td>1077.000000</td>\n      <td>2.000000</td>\n      <td>20.000000</td>\n      <td>0.000000</td>\n      <td>0.000000</td>\n      <td>7.925000</td>\n    </tr>\n    <tr>\n      <th>50%</th>\n      <td>1154.000000</td>\n      <td>3.000000</td>\n      <td>28.000000</td>\n      <td>0.000000</td>\n      <td>0.000000</td>\n      <td>13.000000</td>\n    </tr>\n    <tr>\n      <th>75%</th>\n      <td>1231.000000</td>\n      <td>3.000000</td>\n      <td>39.000000</td>\n      <td>1.000000</td>\n      <td>0.000000</td>\n      <td>31.387500</td>\n    </tr>\n    <tr>\n      <th>max</th>\n      <td>1308.000000</td>\n      <td>3.000000</td>\n      <td>80.000000</td>\n      <td>8.000000</td>\n      <td>6.000000</td>\n      <td>263.000000</td>\n    </tr>\n  </tbody>\n</table>\n</div>"
     },
     "metadata": {}
    }
   ]
  },
  {
   "cell_type": "code",
   "metadata": {
    "tags": [],
    "cell_id": "00010-5b91c3ef-a338-4119-bb7c-13cea157866b",
    "deepnote_to_be_reexecuted": false,
    "source_hash": "658906b7",
    "execution_start": 1640097197147,
    "execution_millis": 124,
    "deepnote_cell_type": "code"
   },
   "source": "data_training.describe()",
   "execution_count": 9,
   "outputs": [
    {
     "output_type": "execute_result",
     "execution_count": 9,
     "data": {
      "application/vnd.deepnote.dataframe.v3+json": {
       "column_count": 7,
       "row_count": 8,
       "columns": [
        {
         "name": "ID",
         "dtype": "float64",
         "stats": {
          "unique_count": 7,
          "nan_count": 0,
          "min": "0.0",
          "max": "1000.0",
          "histogram": [
           {
            "bin_start": 0,
            "bin_end": 100,
            "count": 1
           },
           {
            "bin_start": 100,
            "bin_end": 200,
            "count": 0
           },
           {
            "bin_start": 200,
            "bin_end": 300,
            "count": 2
           },
           {
            "bin_start": 300,
            "bin_end": 400,
            "count": 0
           },
           {
            "bin_start": 400,
            "bin_end": 500,
            "count": 2
           },
           {
            "bin_start": 500,
            "bin_end": 600,
            "count": 0
           },
           {
            "bin_start": 600,
            "bin_end": 700,
            "count": 0
           },
           {
            "bin_start": 700,
            "bin_end": 800,
            "count": 1
           },
           {
            "bin_start": 800,
            "bin_end": 900,
            "count": 0
           },
           {
            "bin_start": 900,
            "bin_end": 1000,
            "count": 2
           }
          ]
         }
        },
        {
         "name": "survived",
         "dtype": "float64",
         "stats": {
          "unique_count": 5,
          "nan_count": 0,
          "min": "0.0",
          "max": "1000.0",
          "histogram": [
           {
            "bin_start": 0,
            "bin_end": 100,
            "count": 7
           },
           {
            "bin_start": 100,
            "bin_end": 200,
            "count": 0
           },
           {
            "bin_start": 200,
            "bin_end": 300,
            "count": 0
           },
           {
            "bin_start": 300,
            "bin_end": 400,
            "count": 0
           },
           {
            "bin_start": 400,
            "bin_end": 500,
            "count": 0
           },
           {
            "bin_start": 500,
            "bin_end": 600,
            "count": 0
           },
           {
            "bin_start": 600,
            "bin_end": 700,
            "count": 0
           },
           {
            "bin_start": 700,
            "bin_end": 800,
            "count": 0
           },
           {
            "bin_start": 800,
            "bin_end": 900,
            "count": 0
           },
           {
            "bin_start": 900,
            "bin_end": 1000,
            "count": 1
           }
          ]
         }
        },
        {
         "name": "pclass",
         "dtype": "float64",
         "stats": {
          "unique_count": 6,
          "nan_count": 0,
          "min": "0.8401528770746766",
          "max": "1000.0",
          "histogram": [
           {
            "bin_start": 0.8401528770746766,
            "bin_end": 100.7561375893672,
            "count": 7
           },
           {
            "bin_start": 100.7561375893672,
            "bin_end": 200.67212230165973,
            "count": 0
           },
           {
            "bin_start": 200.67212230165973,
            "bin_end": 300.58810701395225,
            "count": 0
           },
           {
            "bin_start": 300.58810701395225,
            "bin_end": 400.5040917262448,
            "count": 0
           },
           {
            "bin_start": 400.5040917262448,
            "bin_end": 500.4200764385373,
            "count": 0
           },
           {
            "bin_start": 500.4200764385373,
            "bin_end": 600.3360611508299,
            "count": 0
           },
           {
            "bin_start": 600.3360611508299,
            "bin_end": 700.2520458631224,
            "count": 0
           },
           {
            "bin_start": 700.2520458631224,
            "bin_end": 800.168030575415,
            "count": 0
           },
           {
            "bin_start": 800.168030575415,
            "bin_end": 900.0840152877075,
            "count": 0
           },
           {
            "bin_start": 900.0840152877075,
            "bin_end": 1000,
            "count": 1
           }
          ]
         }
        },
        {
         "name": "age",
         "dtype": "float64",
         "stats": {
          "unique_count": 8,
          "nan_count": 0,
          "min": "0.1667",
          "max": "797.0",
          "histogram": [
           {
            "bin_start": 0.1667,
            "bin_end": 79.85003,
            "count": 7
           },
           {
            "bin_start": 79.85003,
            "bin_end": 159.53336,
            "count": 0
           },
           {
            "bin_start": 159.53336,
            "bin_end": 239.21668999999997,
            "count": 0
           },
           {
            "bin_start": 239.21668999999997,
            "bin_end": 318.90002,
            "count": 0
           },
           {
            "bin_start": 318.90002,
            "bin_end": 398.58335,
            "count": 0
           },
           {
            "bin_start": 398.58335,
            "bin_end": 478.26667999999995,
            "count": 0
           },
           {
            "bin_start": 478.26667999999995,
            "bin_end": 557.95001,
            "count": 0
           },
           {
            "bin_start": 557.95001,
            "bin_end": 637.63334,
            "count": 0
           },
           {
            "bin_start": 637.63334,
            "bin_end": 717.3166699999999,
            "count": 0
           },
           {
            "bin_start": 717.3166699999999,
            "bin_end": 797,
            "count": 1
           }
          ]
         }
        },
        {
         "name": "sibsp",
         "dtype": "float64",
         "stats": {
          "unique_count": 6,
          "nan_count": 0,
          "min": "0.0",
          "max": "1000.0",
          "histogram": [
           {
            "bin_start": 0,
            "bin_end": 100,
            "count": 7
           },
           {
            "bin_start": 100,
            "bin_end": 200,
            "count": 0
           },
           {
            "bin_start": 200,
            "bin_end": 300,
            "count": 0
           },
           {
            "bin_start": 300,
            "bin_end": 400,
            "count": 0
           },
           {
            "bin_start": 400,
            "bin_end": 500,
            "count": 0
           },
           {
            "bin_start": 500,
            "bin_end": 600,
            "count": 0
           },
           {
            "bin_start": 600,
            "bin_end": 700,
            "count": 0
           },
           {
            "bin_start": 700,
            "bin_end": 800,
            "count": 0
           },
           {
            "bin_start": 800,
            "bin_end": 900,
            "count": 0
           },
           {
            "bin_start": 900,
            "bin_end": 1000,
            "count": 1
           }
          ]
         }
        },
        {
         "name": "parch",
         "dtype": "float64",
         "stats": {
          "unique_count": 5,
          "nan_count": 0,
          "min": "0.0",
          "max": "1000.0",
          "histogram": [
           {
            "bin_start": 0,
            "bin_end": 100,
            "count": 7
           },
           {
            "bin_start": 100,
            "bin_end": 200,
            "count": 0
           },
           {
            "bin_start": 200,
            "bin_end": 300,
            "count": 0
           },
           {
            "bin_start": 300,
            "bin_end": 400,
            "count": 0
           },
           {
            "bin_start": 400,
            "bin_end": 500,
            "count": 0
           },
           {
            "bin_start": 500,
            "bin_end": 600,
            "count": 0
           },
           {
            "bin_start": 600,
            "bin_end": 700,
            "count": 0
           },
           {
            "bin_start": 700,
            "bin_end": 800,
            "count": 0
           },
           {
            "bin_start": 800,
            "bin_end": 900,
            "count": 0
           },
           {
            "bin_start": 900,
            "bin_end": 1000,
            "count": 1
           }
          ]
         }
        },
        {
         "name": "fare",
         "dtype": "float64",
         "stats": {
          "unique_count": 8,
          "nan_count": 0,
          "min": "0.0",
          "max": "999.0",
          "histogram": [
           {
            "bin_start": 0,
            "bin_end": 99.9,
            "count": 6
           },
           {
            "bin_start": 99.9,
            "bin_end": 199.8,
            "count": 0
           },
           {
            "bin_start": 199.8,
            "bin_end": 299.70000000000005,
            "count": 0
           },
           {
            "bin_start": 299.70000000000005,
            "bin_end": 399.6,
            "count": 0
           },
           {
            "bin_start": 399.6,
            "bin_end": 499.5,
            "count": 0
           },
           {
            "bin_start": 499.5,
            "bin_end": 599.4000000000001,
            "count": 1
           },
           {
            "bin_start": 599.4000000000001,
            "bin_end": 699.3000000000001,
            "count": 0
           },
           {
            "bin_start": 699.3000000000001,
            "bin_end": 799.2,
            "count": 0
           },
           {
            "bin_start": 799.2,
            "bin_end": 899.1,
            "count": 0
           },
           {
            "bin_start": 899.1,
            "bin_end": 999,
            "count": 1
           }
          ]
         }
        },
        {
         "name": "_deepnote_index_column",
         "dtype": "object"
        }
       ],
       "rows": [
        {
         "ID": 1000,
         "survived": 1000,
         "pclass": 1000,
         "age": 797,
         "sibsp": 1000,
         "parch": 1000,
         "fare": 999,
         "_deepnote_index_column": "count"
        },
        {
         "ID": 499.5,
         "survived": 0.391,
         "pclass": 2.293,
         "age": 30.006691718946044,
         "sibsp": 0.499,
         "parch": 0.384,
         "fare": 33.41851351351352,
         "_deepnote_index_column": "mean"
        },
        {
         "ID": 288.8194360957494,
         "survived": 0.48821855490892324,
         "pclass": 0.8401528770746766,
         "age": 14.240416449577365,
         "sibsp": 1.0203136968795625,
         "parch": 0.8736746003560522,
         "fare": 53.11533424616031,
         "_deepnote_index_column": "std"
        },
        {
         "ID": 0,
         "survived": 0,
         "pclass": 1,
         "age": 0.1667,
         "sibsp": 0,
         "parch": 0,
         "fare": 0,
         "_deepnote_index_column": "min"
        },
        {
         "ID": 249.75,
         "survived": 0,
         "pclass": 2,
         "age": 21,
         "sibsp": 0,
         "parch": 0,
         "fare": 7.8958,
         "_deepnote_index_column": "25%"
        },
        {
         "ID": 499.5,
         "survived": 0,
         "pclass": 3,
         "age": 28,
         "sibsp": 0,
         "parch": 0,
         "fare": 14.5,
         "_deepnote_index_column": "50%"
        },
        {
         "ID": 749.25,
         "survived": 1,
         "pclass": 3,
         "age": 38.5,
         "sibsp": 1,
         "parch": 0,
         "fare": 31.275,
         "_deepnote_index_column": "75%"
        },
        {
         "ID": 999,
         "survived": 1,
         "pclass": 3,
         "age": 76,
         "sibsp": 8,
         "parch": 9,
         "fare": 512.3292,
         "_deepnote_index_column": "max"
        }
       ]
      },
      "text/plain": "                ID     survived       pclass         age        sibsp  \\\ncount  1000.000000  1000.000000  1000.000000  797.000000  1000.000000   \nmean    499.500000     0.391000     2.293000   30.006692     0.499000   \nstd     288.819436     0.488219     0.840153   14.240416     1.020314   \nmin       0.000000     0.000000     1.000000    0.166700     0.000000   \n25%     249.750000     0.000000     2.000000   21.000000     0.000000   \n50%     499.500000     0.000000     3.000000   28.000000     0.000000   \n75%     749.250000     1.000000     3.000000   38.500000     1.000000   \nmax     999.000000     1.000000     3.000000   76.000000     8.000000   \n\n             parch        fare  \ncount  1000.000000  999.000000  \nmean      0.384000   33.418514  \nstd       0.873675   53.115334  \nmin       0.000000    0.000000  \n25%       0.000000    7.895800  \n50%       0.000000   14.500000  \n75%       0.000000   31.275000  \nmax       9.000000  512.329200  ",
      "text/html": "<div>\n<style scoped>\n    .dataframe tbody tr th:only-of-type {\n        vertical-align: middle;\n    }\n\n    .dataframe tbody tr th {\n        vertical-align: top;\n    }\n\n    .dataframe thead th {\n        text-align: right;\n    }\n</style>\n<table border=\"1\" class=\"dataframe\">\n  <thead>\n    <tr style=\"text-align: right;\">\n      <th></th>\n      <th>ID</th>\n      <th>survived</th>\n      <th>pclass</th>\n      <th>age</th>\n      <th>sibsp</th>\n      <th>parch</th>\n      <th>fare</th>\n    </tr>\n  </thead>\n  <tbody>\n    <tr>\n      <th>count</th>\n      <td>1000.000000</td>\n      <td>1000.000000</td>\n      <td>1000.000000</td>\n      <td>797.000000</td>\n      <td>1000.000000</td>\n      <td>1000.000000</td>\n      <td>999.000000</td>\n    </tr>\n    <tr>\n      <th>mean</th>\n      <td>499.500000</td>\n      <td>0.391000</td>\n      <td>2.293000</td>\n      <td>30.006692</td>\n      <td>0.499000</td>\n      <td>0.384000</td>\n      <td>33.418514</td>\n    </tr>\n    <tr>\n      <th>std</th>\n      <td>288.819436</td>\n      <td>0.488219</td>\n      <td>0.840153</td>\n      <td>14.240416</td>\n      <td>1.020314</td>\n      <td>0.873675</td>\n      <td>53.115334</td>\n    </tr>\n    <tr>\n      <th>min</th>\n      <td>0.000000</td>\n      <td>0.000000</td>\n      <td>1.000000</td>\n      <td>0.166700</td>\n      <td>0.000000</td>\n      <td>0.000000</td>\n      <td>0.000000</td>\n    </tr>\n    <tr>\n      <th>25%</th>\n      <td>249.750000</td>\n      <td>0.000000</td>\n      <td>2.000000</td>\n      <td>21.000000</td>\n      <td>0.000000</td>\n      <td>0.000000</td>\n      <td>7.895800</td>\n    </tr>\n    <tr>\n      <th>50%</th>\n      <td>499.500000</td>\n      <td>0.000000</td>\n      <td>3.000000</td>\n      <td>28.000000</td>\n      <td>0.000000</td>\n      <td>0.000000</td>\n      <td>14.500000</td>\n    </tr>\n    <tr>\n      <th>75%</th>\n      <td>749.250000</td>\n      <td>1.000000</td>\n      <td>3.000000</td>\n      <td>38.500000</td>\n      <td>1.000000</td>\n      <td>0.000000</td>\n      <td>31.275000</td>\n    </tr>\n    <tr>\n      <th>max</th>\n      <td>999.000000</td>\n      <td>1.000000</td>\n      <td>3.000000</td>\n      <td>76.000000</td>\n      <td>8.000000</td>\n      <td>9.000000</td>\n      <td>512.329200</td>\n    </tr>\n  </tbody>\n</table>\n</div>"
     },
     "metadata": {}
    }
   ]
  },
  {
   "cell_type": "markdown",
   "source": "### The only peculiarity of these distributions is that \"age\" is not an integer variable. It probably took into account the next months, but we don't care, so we'll need to change the data type.\n\nIt can also be seen that the functions have a completely different layout. For example, the Fare property has very high maximum values compared to other properties. This can negatively affect linear models, as they will give more weight to it. If we use linear models, we will need to normalize the data.\n\nLet's check the balance of classes in the training sample.",
   "metadata": {
    "tags": [],
    "is_collapsed": false,
    "cell_id": "00014-84287373-8dad-46b7-9c83-9096cdbc8340",
    "deepnote_cell_type": "text-cell-h3"
   }
  },
  {
   "cell_type": "markdown",
   "source": "### The function displays the number of unique values. By default, the function ignores Nans",
   "metadata": {
    "tags": [],
    "is_collapsed": false,
    "cell_id": "00012-25543abd-c565-4992-805a-ab12394da96d",
    "deepnote_cell_type": "text-cell-h3"
   }
  },
  {
   "cell_type": "code",
   "metadata": {
    "tags": [],
    "cell_id": "00016-4b5e88be-ef42-4f8b-8042-7e4dbdc62993",
    "deepnote_to_be_reexecuted": false,
    "source_hash": "e6531a19",
    "execution_start": 1640097197282,
    "execution_millis": 4,
    "deepnote_output_heights": [
     59.5625
    ],
    "deepnote_cell_type": "code"
   },
   "source": "data_training['survived'].value_counts()",
   "execution_count": 10,
   "outputs": [
    {
     "output_type": "execute_result",
     "execution_count": 10,
     "data": {
      "text/plain": "0    609\n1    391\nName: survived, dtype: int64"
     },
     "metadata": {}
    }
   ]
  },
  {
   "cell_type": "markdown",
   "source": "### 61% to 39% - quite good",
   "metadata": {
    "tags": [],
    "is_collapsed": false,
    "cell_id": "00017-60b47891-e582-4e84-919b-fa79f14e9fdc",
    "deepnote_cell_type": "text-cell-h3"
   }
  },
  {
   "cell_type": "code",
   "metadata": {
    "tags": [],
    "cell_id": "00011-79a29c43-558b-43c6-b161-44c4b1b81a81",
    "deepnote_to_be_reexecuted": false,
    "source_hash": "bde30dd8",
    "execution_start": 1640097197342,
    "execution_millis": 4,
    "deepnote_output_heights": [
     251.4375
    ],
    "deepnote_cell_type": "code"
   },
   "source": "display(data_test.nunique())",
   "execution_count": 11,
   "outputs": [
    {
     "data": {
      "text/plain": "ID           309\npclass         3\nname         309\nsex            2\nage           71\nsibsp          7\nparch          6\nticket       277\nfare         156\ncabin         66\nembarked       3\nhome.dest    132\ndtype: int64"
     },
     "metadata": {},
     "output_type": "display_data"
    }
   ]
  },
  {
   "cell_type": "code",
   "metadata": {
    "tags": [],
    "cell_id": "00012-82277dc7-7237-4679-9ba7-7b20d0a70817",
    "deepnote_to_be_reexecuted": false,
    "source_hash": "5bc22b87",
    "execution_start": 1640097197343,
    "execution_millis": 3,
    "deepnote_output_heights": [
     270.625
    ],
    "deepnote_cell_type": "code"
   },
   "source": "display(data_training.nunique())",
   "execution_count": 12,
   "outputs": [
    {
     "data": {
      "text/plain": "ID           1000\nsurvived        2\npclass          3\nname          999\nsex             2\nage            94\nsibsp           7\nparch           7\nticket        754\nfare          249\ncabin         156\nembarked        3\nhome.dest     314\ndtype: int64"
     },
     "metadata": {},
     "output_type": "display_data"
    }
   ]
  },
  {
   "cell_type": "markdown",
   "source": "### Number of missing values",
   "metadata": {
    "tags": [],
    "is_collapsed": false,
    "cell_id": "00015-042b445b-42cd-491d-9e1b-656fa5c4f541",
    "deepnote_cell_type": "text-cell-h3"
   }
  },
  {
   "cell_type": "code",
   "metadata": {
    "tags": [],
    "cell_id": "00013-a7b2dcd8-7421-49c7-bf3f-f17413d55520",
    "deepnote_to_be_reexecuted": false,
    "source_hash": "1aeb116",
    "execution_start": 1640097197344,
    "execution_millis": 45,
    "deepnote_output_heights": [
     270.625
    ],
    "deepnote_cell_type": "code"
   },
   "source": "data_training.isnull().sum(axis=0)",
   "execution_count": 13,
   "outputs": [
    {
     "output_type": "execute_result",
     "execution_count": 13,
     "data": {
      "text/plain": "ID             0\nsurvived       0\npclass         0\nname           0\nsex            0\nage          203\nsibsp          0\nparch          0\nticket         0\nfare           1\ncabin        778\nembarked       1\nhome.dest    427\ndtype: int64"
     },
     "metadata": {}
    }
   ]
  },
  {
   "cell_type": "code",
   "metadata": {
    "tags": [],
    "cell_id": "00014-8a709136-bbe0-45ed-ba89-b5c0c6fecd73",
    "deepnote_to_be_reexecuted": false,
    "source_hash": "7e3e57ba",
    "execution_start": 1640097197386,
    "execution_millis": 4,
    "deepnote_output_heights": [
     251.4375
    ],
    "deepnote_cell_type": "code"
   },
   "source": "data_test.isnull().sum(axis=0)",
   "execution_count": 14,
   "outputs": [
    {
     "output_type": "execute_result",
     "execution_count": 14,
     "data": {
      "text/plain": "ID             0\npclass         0\nname           0\nsex            0\nage           60\nsibsp          0\nparch          0\nticket         0\nfare           0\ncabin        236\nembarked       1\nhome.dest    137\ndtype: int64"
     },
     "metadata": {}
    }
   ]
  },
  {
   "cell_type": "markdown",
   "source": "### Split data",
   "metadata": {
    "tags": [],
    "is_collapsed": false,
    "cell_id": "00018-845d3426-6491-4749-9280-347a160fe374",
    "deepnote_cell_type": "text-cell-h3"
   }
  },
  {
   "cell_type": "code",
   "metadata": {
    "tags": [],
    "cell_id": "00015-9e083b63-8ddd-4aea-a133-e984fbc60562",
    "deepnote_to_be_reexecuted": false,
    "source_hash": "a2c0cd8f",
    "execution_start": 1640097197387,
    "execution_millis": 3654644530,
    "deepnote_cell_type": "code"
   },
   "source": "Xdata = data_training.iloc[:,:1]\nYdata = data_training.iloc[:,1]",
   "execution_count": 15,
   "outputs": []
  },
  {
   "cell_type": "markdown",
   "source": "### 1st attempt, error data types",
   "metadata": {
    "tags": [],
    "is_collapsed": false,
    "cell_id": "00022-14695814-5552-49d4-9bf9-2beda256684f",
    "deepnote_cell_type": "text-cell-h3"
   }
  },
  {
   "cell_type": "code",
   "metadata": {
    "tags": [],
    "cell_id": "00017-b7cc94e0-6212-4934-8dc2-e5095ffd988e",
    "deepnote_to_be_reexecuted": false,
    "source_hash": "73573c3f",
    "execution_start": 1640097197426,
    "execution_millis": 3654644492,
    "deepnote_cell_type": "code"
   },
   "source": "# dt.fit(Xdata, Ydata)",
   "execution_count": 16,
   "outputs": []
  },
  {
   "cell_type": "markdown",
   "source": "### I'll find out the data types",
   "metadata": {
    "tags": [],
    "is_collapsed": false,
    "cell_id": "00024-6e6f4b3c-a0b9-4135-a9e6-83432db303ed",
    "deepnote_cell_type": "text-cell-h3"
   }
  },
  {
   "cell_type": "code",
   "metadata": {
    "tags": [],
    "cell_id": "00018-37c1e5b1-f387-4ce4-8531-e311c43199ab",
    "deepnote_to_be_reexecuted": false,
    "source_hash": "f26a89d4",
    "execution_start": 1640097197427,
    "execution_millis": 0,
    "deepnote_output_heights": [
     270.625
    ],
    "deepnote_cell_type": "code"
   },
   "source": "display(data_training.dtypes)",
   "execution_count": 17,
   "outputs": [
    {
     "data": {
      "text/plain": "ID             int64\nsurvived       int64\npclass         int64\nname          object\nsex           object\nage          float64\nsibsp          int64\nparch          int64\nticket        object\nfare         float64\ncabin         object\nembarked      object\nhome.dest     object\ndtype: object"
     },
     "metadata": {},
     "output_type": "display_data"
    }
   ]
  },
  {
   "cell_type": "code",
   "metadata": {
    "tags": [],
    "cell_id": "00026-a420c83f-6ba6-4a72-9edb-4cf0fc29f7be",
    "deepnote_to_be_reexecuted": false,
    "source_hash": "b790678b",
    "execution_start": 1640097197428,
    "execution_millis": 20,
    "deepnote_output_heights": [
     251.4375
    ],
    "deepnote_cell_type": "code"
   },
   "source": "display(data_test.dtypes)",
   "execution_count": 18,
   "outputs": [
    {
     "data": {
      "text/plain": "ID             int64\npclass         int64\nname          object\nsex           object\nage          float64\nsibsp          int64\nparch          int64\nticket        object\nfare         float64\ncabin         object\nembarked      object\nhome.dest     object\ndtype: object"
     },
     "metadata": {},
     "output_type": "display_data"
    }
   ]
  },
  {
   "cell_type": "markdown",
   "source": "### I am looking for a number of unique values, the number of which is relatively small for conversion to numerical values",
   "metadata": {
    "tags": [],
    "is_collapsed": false,
    "cell_id": "00026-c537ff3f-570b-478b-b577-7e4c9032fd0b",
    "deepnote_cell_type": "text-cell-h3"
   }
  },
  {
   "cell_type": "code",
   "metadata": {
    "tags": [],
    "cell_id": "00019-04a80d0f-f29f-4db5-9516-4e22f436662a",
    "deepnote_to_be_reexecuted": false,
    "source_hash": "5bc22b87",
    "execution_start": 1640097197490,
    "execution_millis": 5,
    "deepnote_output_heights": [
     270.625
    ],
    "deepnote_cell_type": "code"
   },
   "source": "display(data_training.nunique())",
   "execution_count": 19,
   "outputs": [
    {
     "data": {
      "text/plain": "ID           1000\nsurvived        2\npclass          3\nname          999\nsex             2\nage            94\nsibsp           7\nparch           7\nticket        754\nfare          249\ncabin         156\nembarked        3\nhome.dest     314\ndtype: int64"
     },
     "metadata": {},
     "output_type": "display_data"
    }
   ]
  },
  {
   "cell_type": "code",
   "metadata": {
    "tags": [],
    "cell_id": "00029-ab6728ed-733a-4fce-b3d4-a2e79f054dd5",
    "deepnote_to_be_reexecuted": false,
    "source_hash": "bde30dd8",
    "execution_start": 1640097197492,
    "execution_millis": 3,
    "deepnote_output_heights": [
     251.4375
    ],
    "deepnote_cell_type": "code"
   },
   "source": "display(data_test.nunique())",
   "execution_count": 20,
   "outputs": [
    {
     "data": {
      "text/plain": "ID           309\npclass         3\nname         309\nsex            2\nage           71\nsibsp          7\nparch          6\nticket       277\nfare         156\ncabin         66\nembarked       3\nhome.dest    132\ndtype: int64"
     },
     "metadata": {},
     "output_type": "display_data"
    }
   ]
  },
  {
   "cell_type": "markdown",
   "source": "### The columns named \"name\", \"home.dest\", \"cabin\" and \"Ticket number\" are likely to have little effect on the usefulness of passenger survival training data.\n",
   "metadata": {
    "tags": [],
    "is_collapsed": false,
    "cell_id": "00031-466ed203-7f9f-4655-a822-ba4a1e606c4f",
    "deepnote_cell_type": "text-cell-h3"
   }
  },
  {
   "cell_type": "code",
   "metadata": {
    "tags": [],
    "cell_id": "00036-c9fa4108-5036-4ea1-9b29-cc505a4aaa3b",
    "deepnote_to_be_reexecuted": false,
    "source_hash": "433c6a4e",
    "execution_start": 1640097197535,
    "execution_millis": 3654644502,
    "deepnote_output_heights": [
     232.25
    ],
    "deepnote_cell_type": "code"
   },
   "source": "data_training['ticket'].value_counts()",
   "execution_count": 21,
   "outputs": [
    {
     "output_type": "execute_result",
     "execution_count": 21,
     "data": {
      "text/plain": "CA. 2343              8\n347082                7\n1601                  7\n113781                6\n347077                6\n                     ..\nSOTON/O.Q. 3101307    1\n368323                1\nSTON/O 2. 3101273     1\n28206                 1\n349242                1\nName: ticket, Length: 754, dtype: int64"
     },
     "metadata": {}
    }
   ]
  },
  {
   "cell_type": "markdown",
   "source": "### We have 754 unique values in this column. There can be no addiction. We can safely delete this column. We'll check the cabin column.",
   "metadata": {
    "tags": [],
    "is_collapsed": false,
    "cell_id": "00037-08522831-96e6-4c82-ba99-506717c13f5b",
    "deepnote_cell_type": "text-cell-h3"
   }
  },
  {
   "cell_type": "code",
   "metadata": {
    "tags": [],
    "cell_id": "00038-f5f6f0fb-fbd6-47ad-b382-8573ff7ae849",
    "deepnote_to_be_reexecuted": false,
    "source_hash": "2bdd1f08",
    "execution_start": 1640097197535,
    "execution_millis": 3,
    "deepnote_output_heights": [
     232.25
    ],
    "deepnote_cell_type": "code"
   },
   "source": "data_training['cabin'].value_counts()",
   "execution_count": 22,
   "outputs": [
    {
     "output_type": "execute_result",
     "execution_count": 22,
     "data": {
      "text/plain": "C23 C25 C27    5\nB96 B98        4\nF4             4\nC78            4\nC22 C26        4\n              ..\nB3             1\nD15            1\nB50            1\nB4             1\nA6             1\nName: cabin, Length: 156, dtype: int64"
     },
     "metadata": {}
    }
   ]
  },
  {
   "cell_type": "markdown",
   "source": "### 156 unique values. The column can be deleted.",
   "metadata": {
    "tags": [],
    "is_collapsed": false,
    "cell_id": "00039-efd292d5-939c-48cd-bd6c-16ce30a6583e",
    "deepnote_cell_type": "text-cell-h3"
   }
  },
  {
   "cell_type": "markdown",
   "source": "### I'll get rid of some columns",
   "metadata": {
    "tags": [],
    "is_collapsed": false,
    "cell_id": "00037-188e597f-7034-436f-a84b-c747ebbba76e",
    "deepnote_cell_type": "text-cell-h3"
   }
  },
  {
   "cell_type": "code",
   "metadata": {
    "tags": [],
    "cell_id": "00032-9ce3307a-ada7-45fa-bcf7-3352bd15ce30",
    "deepnote_to_be_reexecuted": false,
    "source_hash": "7c4235de",
    "execution_start": 1640097197536,
    "execution_millis": 69,
    "deepnote_cell_type": "code"
   },
   "source": "data_training.drop(['name', 'cabin', 'ticket', 'home.dest'], inplace=True,axis=1 )\ndata_training.head(40)",
   "execution_count": 23,
   "outputs": [
    {
     "output_type": "execute_result",
     "execution_count": 23,
     "data": {
      "application/vnd.deepnote.dataframe.v3+json": {
       "column_count": 9,
       "row_count": 40,
       "columns": [
        {
         "name": "ID",
         "dtype": "int64",
         "stats": {
          "unique_count": 40,
          "nan_count": 0,
          "min": "0",
          "max": "39",
          "histogram": [
           {
            "bin_start": 0,
            "bin_end": 3.9,
            "count": 4
           },
           {
            "bin_start": 3.9,
            "bin_end": 7.8,
            "count": 4
           },
           {
            "bin_start": 7.8,
            "bin_end": 11.7,
            "count": 4
           },
           {
            "bin_start": 11.7,
            "bin_end": 15.6,
            "count": 4
           },
           {
            "bin_start": 15.6,
            "bin_end": 19.5,
            "count": 4
           },
           {
            "bin_start": 19.5,
            "bin_end": 23.4,
            "count": 4
           },
           {
            "bin_start": 23.4,
            "bin_end": 27.3,
            "count": 4
           },
           {
            "bin_start": 27.3,
            "bin_end": 31.2,
            "count": 4
           },
           {
            "bin_start": 31.2,
            "bin_end": 35.1,
            "count": 4
           },
           {
            "bin_start": 35.1,
            "bin_end": 39,
            "count": 4
           }
          ]
         }
        },
        {
         "name": "survived",
         "dtype": "int64",
         "stats": {
          "unique_count": 2,
          "nan_count": 0,
          "min": "0",
          "max": "1",
          "histogram": [
           {
            "bin_start": 0,
            "bin_end": 0.1,
            "count": 17
           },
           {
            "bin_start": 0.1,
            "bin_end": 0.2,
            "count": 0
           },
           {
            "bin_start": 0.2,
            "bin_end": 0.30000000000000004,
            "count": 0
           },
           {
            "bin_start": 0.30000000000000004,
            "bin_end": 0.4,
            "count": 0
           },
           {
            "bin_start": 0.4,
            "bin_end": 0.5,
            "count": 0
           },
           {
            "bin_start": 0.5,
            "bin_end": 0.6000000000000001,
            "count": 0
           },
           {
            "bin_start": 0.6000000000000001,
            "bin_end": 0.7000000000000001,
            "count": 0
           },
           {
            "bin_start": 0.7000000000000001,
            "bin_end": 0.8,
            "count": 0
           },
           {
            "bin_start": 0.8,
            "bin_end": 0.9,
            "count": 0
           },
           {
            "bin_start": 0.9,
            "bin_end": 1,
            "count": 23
           }
          ]
         }
        },
        {
         "name": "pclass",
         "dtype": "int64",
         "stats": {
          "unique_count": 3,
          "nan_count": 0,
          "min": "1",
          "max": "3",
          "histogram": [
           {
            "bin_start": 1,
            "bin_end": 1.2,
            "count": 15
           },
           {
            "bin_start": 1.2,
            "bin_end": 1.4,
            "count": 0
           },
           {
            "bin_start": 1.4,
            "bin_end": 1.6,
            "count": 0
           },
           {
            "bin_start": 1.6,
            "bin_end": 1.8,
            "count": 0
           },
           {
            "bin_start": 1.8,
            "bin_end": 2,
            "count": 0
           },
           {
            "bin_start": 2,
            "bin_end": 2.2,
            "count": 8
           },
           {
            "bin_start": 2.2,
            "bin_end": 2.4000000000000004,
            "count": 0
           },
           {
            "bin_start": 2.4000000000000004,
            "bin_end": 2.6,
            "count": 0
           },
           {
            "bin_start": 2.6,
            "bin_end": 2.8,
            "count": 0
           },
           {
            "bin_start": 2.8,
            "bin_end": 3,
            "count": 17
           }
          ]
         }
        },
        {
         "name": "sex",
         "dtype": "object",
         "stats": {
          "unique_count": 2,
          "nan_count": 0,
          "categories": [
           {
            "name": "male",
            "count": 23
           },
           {
            "name": "female",
            "count": 17
           }
          ]
         }
        },
        {
         "name": "age",
         "dtype": "float64",
         "stats": {
          "unique_count": 28,
          "nan_count": 6,
          "min": "0.8333",
          "max": "64.0",
          "histogram": [
           {
            "bin_start": 0.8333,
            "bin_end": 7.149970000000001,
            "count": 2
           },
           {
            "bin_start": 7.149970000000001,
            "bin_end": 13.46664,
            "count": 1
           },
           {
            "bin_start": 13.46664,
            "bin_end": 19.78331,
            "count": 4
           },
           {
            "bin_start": 19.78331,
            "bin_end": 26.099980000000002,
            "count": 8
           },
           {
            "bin_start": 26.099980000000002,
            "bin_end": 32.416650000000004,
            "count": 7
           },
           {
            "bin_start": 32.416650000000004,
            "bin_end": 38.73332,
            "count": 5
           },
           {
            "bin_start": 38.73332,
            "bin_end": 45.04999,
            "count": 2
           },
           {
            "bin_start": 45.04999,
            "bin_end": 51.36666,
            "count": 3
           },
           {
            "bin_start": 51.36666,
            "bin_end": 57.683330000000005,
            "count": 1
           },
           {
            "bin_start": 57.683330000000005,
            "bin_end": 64,
            "count": 1
           }
          ]
         }
        },
        {
         "name": "sibsp",
         "dtype": "int64",
         "stats": {
          "unique_count": 5,
          "nan_count": 0,
          "min": "0",
          "max": "5",
          "histogram": [
           {
            "bin_start": 0,
            "bin_end": 0.5,
            "count": 24
           },
           {
            "bin_start": 0.5,
            "bin_end": 1,
            "count": 0
           },
           {
            "bin_start": 1,
            "bin_end": 1.5,
            "count": 12
           },
           {
            "bin_start": 1.5,
            "bin_end": 2,
            "count": 0
           },
           {
            "bin_start": 2,
            "bin_end": 2.5,
            "count": 0
           },
           {
            "bin_start": 2.5,
            "bin_end": 3,
            "count": 0
           },
           {
            "bin_start": 3,
            "bin_end": 3.5,
            "count": 2
           },
           {
            "bin_start": 3.5,
            "bin_end": 4,
            "count": 0
           },
           {
            "bin_start": 4,
            "bin_end": 4.5,
            "count": 1
           },
           {
            "bin_start": 4.5,
            "bin_end": 5,
            "count": 1
           }
          ]
         }
        },
        {
         "name": "parch",
         "dtype": "int64",
         "stats": {
          "unique_count": 4,
          "nan_count": 0,
          "min": "0",
          "max": "3",
          "histogram": [
           {
            "bin_start": 0,
            "bin_end": 0.3,
            "count": 28
           },
           {
            "bin_start": 0.3,
            "bin_end": 0.6,
            "count": 0
           },
           {
            "bin_start": 0.6,
            "bin_end": 0.8999999999999999,
            "count": 0
           },
           {
            "bin_start": 0.8999999999999999,
            "bin_end": 1.2,
            "count": 3
           },
           {
            "bin_start": 1.2,
            "bin_end": 1.5,
            "count": 0
           },
           {
            "bin_start": 1.5,
            "bin_end": 1.7999999999999998,
            "count": 0
           },
           {
            "bin_start": 1.7999999999999998,
            "bin_end": 2.1,
            "count": 8
           },
           {
            "bin_start": 2.1,
            "bin_end": 2.4,
            "count": 0
           },
           {
            "bin_start": 2.4,
            "bin_end": 2.6999999999999997,
            "count": 0
           },
           {
            "bin_start": 2.6999999999999997,
            "bin_end": 3,
            "count": 1
           }
          ]
         }
        },
        {
         "name": "fare",
         "dtype": "float64",
         "stats": {
          "unique_count": 34,
          "nan_count": 0,
          "min": "0.0",
          "max": "263.0",
          "histogram": [
           {
            "bin_start": 0,
            "bin_end": 26.3,
            "count": 23
           },
           {
            "bin_start": 26.3,
            "bin_end": 52.6,
            "count": 6
           },
           {
            "bin_start": 52.6,
            "bin_end": 78.9,
            "count": 1
           },
           {
            "bin_start": 78.9,
            "bin_end": 105.2,
            "count": 4
           },
           {
            "bin_start": 105.2,
            "bin_end": 131.5,
            "count": 1
           },
           {
            "bin_start": 131.5,
            "bin_end": 157.8,
            "count": 0
           },
           {
            "bin_start": 157.8,
            "bin_end": 184.1,
            "count": 0
           },
           {
            "bin_start": 184.1,
            "bin_end": 210.4,
            "count": 0
           },
           {
            "bin_start": 210.4,
            "bin_end": 236.70000000000002,
            "count": 3
           },
           {
            "bin_start": 236.70000000000002,
            "bin_end": 263,
            "count": 2
           }
          ]
         }
        },
        {
         "name": "embarked",
         "dtype": "object",
         "stats": {
          "unique_count": 3,
          "nan_count": 0,
          "categories": [
           {
            "name": "S",
            "count": 26
           },
           {
            "name": "C",
            "count": 11
           },
           {
            "name": "Q",
            "count": 3
           }
          ]
         }
        },
        {
         "name": "_deepnote_index_column",
         "dtype": "int64"
        }
       ],
       "rows": [
        {
         "ID": 0,
         "survived": 1,
         "pclass": 3,
         "sex": "male",
         "age": 27,
         "sibsp": 0,
         "parch": 0,
         "fare": 7.7958,
         "embarked": "S",
         "_deepnote_index_column": 0
        },
        {
         "ID": 1,
         "survived": 1,
         "pclass": 3,
         "sex": "male",
         "age": 45,
         "sibsp": 0,
         "parch": 0,
         "fare": 8.05,
         "embarked": "S",
         "_deepnote_index_column": 1
        },
        {
         "ID": 2,
         "survived": 0,
         "pclass": 2,
         "sex": "male",
         "age": "nan",
         "sibsp": 0,
         "parch": 0,
         "fare": 0,
         "embarked": "S",
         "_deepnote_index_column": 2
        },
        {
         "ID": 3,
         "survived": 1,
         "pclass": 3,
         "sex": "female",
         "age": 27,
         "sibsp": 0,
         "parch": 2,
         "fare": 11.1333,
         "embarked": "S",
         "_deepnote_index_column": 3
        },
        {
         "ID": 4,
         "survived": 0,
         "pclass": 1,
         "sex": "male",
         "age": 28,
         "sibsp": 1,
         "parch": 0,
         "fare": 82.1708,
         "embarked": "C",
         "_deepnote_index_column": 4
        },
        {
         "ID": 5,
         "survived": 0,
         "pclass": 3,
         "sex": "male",
         "age": "nan",
         "sibsp": 0,
         "parch": 0,
         "fare": 7.2292,
         "embarked": "C",
         "_deepnote_index_column": 5
        },
        {
         "ID": 6,
         "survived": 0,
         "pclass": 1,
         "sex": "male",
         "age": 47,
         "sibsp": 1,
         "parch": 0,
         "fare": 227.525,
         "embarked": "C",
         "_deepnote_index_column": 6
        },
        {
         "ID": 7,
         "survived": 1,
         "pclass": 2,
         "sex": "male",
         "age": 8,
         "sibsp": 0,
         "parch": 2,
         "fare": 32.5,
         "embarked": "S",
         "_deepnote_index_column": 7
        },
        {
         "ID": 8,
         "survived": 1,
         "pclass": 1,
         "sex": "female",
         "age": 49,
         "sibsp": 1,
         "parch": 0,
         "fare": 76.7292,
         "embarked": "C",
         "_deepnote_index_column": 8
        },
        {
         "ID": 9,
         "survived": 1,
         "pclass": 2,
         "sex": "female",
         "age": 19,
         "sibsp": 1,
         "parch": 0,
         "fare": 26,
         "embarked": "S",
         "_deepnote_index_column": 9
        }
       ]
      },
      "text/plain": "    ID  survived  pclass     sex      age  sibsp  parch      fare embarked\n0    0         1       3    male  27.0000      0      0    7.7958        S\n1    1         1       3    male  45.0000      0      0    8.0500        S\n2    2         0       2    male      NaN      0      0    0.0000        S\n3    3         1       3  female  27.0000      0      2   11.1333        S\n4    4         0       1    male  28.0000      1      0   82.1708        C\n5    5         0       3    male      NaN      0      0    7.2292        C\n6    6         0       1    male  47.0000      1      0  227.5250        C\n7    7         1       2    male   8.0000      0      2   32.5000        S\n8    8         1       1  female  49.0000      1      0   76.7292        C\n9    9         1       2  female  19.0000      1      0   26.0000        S\n10  10         1       1  female  23.0000      3      2  263.0000        S\n11  11         1       3  female   5.0000      4      2   31.3875        S\n12  12         1       2    male   0.8333      1      1   18.7500        S\n13  13         1       1  female  48.0000      1      3  262.3750        C\n14  14         1       1  female  35.0000      1      0   90.0000        S\n15  15         0       1    male  52.0000      1      1   79.6500        S\n16  16         1       2    male      NaN      0      0   13.8625        C\n17  17         0       3    male  32.0000      0      0   22.5250        S\n18  18         1       1    male  45.0000      0      0   26.5500        S\n19  19         0       3    male  21.0000      0      0    8.0500        S\n20  20         1       1  female  29.0000      0      0  221.7792        S\n21  21         1       1  female  15.0000      0      1  211.3375        S\n22  22         0       3    male  23.5000      0      0    7.2292        C\n23  23         1       1  female  64.0000      0      2   83.1583        C\n24  24         0       3    male  34.0000      0      0    8.0500        S\n25  25         0       1  female  36.0000      0      0   31.6792        C\n26  26         1       3  female      NaN      0      2   22.3583        C\n27  27         1       3    male  25.0000      1      0    7.7750        S\n28  28         1       3    male  25.0000      0      0    9.5000        S\n29  29         0       2    male  24.0000      0      0   10.5000        S\n30  30         0       2    male  34.0000      1      0   26.0000        S\n31  31         0       3  female  30.5000      0      0    7.7500        Q\n32  32         0       2    male  32.0000      0      0   13.0000        S\n33  33         1       3  female  33.0000      3      0   15.8500        S\n34  34         1       1    male  26.0000      0      0   30.0000        C\n35  35         1       1  female  14.0000      1      2  120.0000        S\n36  36         1       3  female      NaN      1      0   15.5000        Q\n37  37         0       3  female  16.0000      5      2   46.9000        S\n38  38         0       1    male      NaN      0      0    0.0000        S\n39  39         0       3    male  21.0000      0      0    7.7500        Q",
      "text/html": "<div>\n<style scoped>\n    .dataframe tbody tr th:only-of-type {\n        vertical-align: middle;\n    }\n\n    .dataframe tbody tr th {\n        vertical-align: top;\n    }\n\n    .dataframe thead th {\n        text-align: right;\n    }\n</style>\n<table border=\"1\" class=\"dataframe\">\n  <thead>\n    <tr style=\"text-align: right;\">\n      <th></th>\n      <th>ID</th>\n      <th>survived</th>\n      <th>pclass</th>\n      <th>sex</th>\n      <th>age</th>\n      <th>sibsp</th>\n      <th>parch</th>\n      <th>fare</th>\n      <th>embarked</th>\n    </tr>\n  </thead>\n  <tbody>\n    <tr>\n      <th>0</th>\n      <td>0</td>\n      <td>1</td>\n      <td>3</td>\n      <td>male</td>\n      <td>27.0000</td>\n      <td>0</td>\n      <td>0</td>\n      <td>7.7958</td>\n      <td>S</td>\n    </tr>\n    <tr>\n      <th>1</th>\n      <td>1</td>\n      <td>1</td>\n      <td>3</td>\n      <td>male</td>\n      <td>45.0000</td>\n      <td>0</td>\n      <td>0</td>\n      <td>8.0500</td>\n      <td>S</td>\n    </tr>\n    <tr>\n      <th>2</th>\n      <td>2</td>\n      <td>0</td>\n      <td>2</td>\n      <td>male</td>\n      <td>NaN</td>\n      <td>0</td>\n      <td>0</td>\n      <td>0.0000</td>\n      <td>S</td>\n    </tr>\n    <tr>\n      <th>3</th>\n      <td>3</td>\n      <td>1</td>\n      <td>3</td>\n      <td>female</td>\n      <td>27.0000</td>\n      <td>0</td>\n      <td>2</td>\n      <td>11.1333</td>\n      <td>S</td>\n    </tr>\n    <tr>\n      <th>4</th>\n      <td>4</td>\n      <td>0</td>\n      <td>1</td>\n      <td>male</td>\n      <td>28.0000</td>\n      <td>1</td>\n      <td>0</td>\n      <td>82.1708</td>\n      <td>C</td>\n    </tr>\n    <tr>\n      <th>5</th>\n      <td>5</td>\n      <td>0</td>\n      <td>3</td>\n      <td>male</td>\n      <td>NaN</td>\n      <td>0</td>\n      <td>0</td>\n      <td>7.2292</td>\n      <td>C</td>\n    </tr>\n    <tr>\n      <th>6</th>\n      <td>6</td>\n      <td>0</td>\n      <td>1</td>\n      <td>male</td>\n      <td>47.0000</td>\n      <td>1</td>\n      <td>0</td>\n      <td>227.5250</td>\n      <td>C</td>\n    </tr>\n    <tr>\n      <th>7</th>\n      <td>7</td>\n      <td>1</td>\n      <td>2</td>\n      <td>male</td>\n      <td>8.0000</td>\n      <td>0</td>\n      <td>2</td>\n      <td>32.5000</td>\n      <td>S</td>\n    </tr>\n    <tr>\n      <th>8</th>\n      <td>8</td>\n      <td>1</td>\n      <td>1</td>\n      <td>female</td>\n      <td>49.0000</td>\n      <td>1</td>\n      <td>0</td>\n      <td>76.7292</td>\n      <td>C</td>\n    </tr>\n    <tr>\n      <th>9</th>\n      <td>9</td>\n      <td>1</td>\n      <td>2</td>\n      <td>female</td>\n      <td>19.0000</td>\n      <td>1</td>\n      <td>0</td>\n      <td>26.0000</td>\n      <td>S</td>\n    </tr>\n    <tr>\n      <th>10</th>\n      <td>10</td>\n      <td>1</td>\n      <td>1</td>\n      <td>female</td>\n      <td>23.0000</td>\n      <td>3</td>\n      <td>2</td>\n      <td>263.0000</td>\n      <td>S</td>\n    </tr>\n    <tr>\n      <th>11</th>\n      <td>11</td>\n      <td>1</td>\n      <td>3</td>\n      <td>female</td>\n      <td>5.0000</td>\n      <td>4</td>\n      <td>2</td>\n      <td>31.3875</td>\n      <td>S</td>\n    </tr>\n    <tr>\n      <th>12</th>\n      <td>12</td>\n      <td>1</td>\n      <td>2</td>\n      <td>male</td>\n      <td>0.8333</td>\n      <td>1</td>\n      <td>1</td>\n      <td>18.7500</td>\n      <td>S</td>\n    </tr>\n    <tr>\n      <th>13</th>\n      <td>13</td>\n      <td>1</td>\n      <td>1</td>\n      <td>female</td>\n      <td>48.0000</td>\n      <td>1</td>\n      <td>3</td>\n      <td>262.3750</td>\n      <td>C</td>\n    </tr>\n    <tr>\n      <th>14</th>\n      <td>14</td>\n      <td>1</td>\n      <td>1</td>\n      <td>female</td>\n      <td>35.0000</td>\n      <td>1</td>\n      <td>0</td>\n      <td>90.0000</td>\n      <td>S</td>\n    </tr>\n    <tr>\n      <th>15</th>\n      <td>15</td>\n      <td>0</td>\n      <td>1</td>\n      <td>male</td>\n      <td>52.0000</td>\n      <td>1</td>\n      <td>1</td>\n      <td>79.6500</td>\n      <td>S</td>\n    </tr>\n    <tr>\n      <th>16</th>\n      <td>16</td>\n      <td>1</td>\n      <td>2</td>\n      <td>male</td>\n      <td>NaN</td>\n      <td>0</td>\n      <td>0</td>\n      <td>13.8625</td>\n      <td>C</td>\n    </tr>\n    <tr>\n      <th>17</th>\n      <td>17</td>\n      <td>0</td>\n      <td>3</td>\n      <td>male</td>\n      <td>32.0000</td>\n      <td>0</td>\n      <td>0</td>\n      <td>22.5250</td>\n      <td>S</td>\n    </tr>\n    <tr>\n      <th>18</th>\n      <td>18</td>\n      <td>1</td>\n      <td>1</td>\n      <td>male</td>\n      <td>45.0000</td>\n      <td>0</td>\n      <td>0</td>\n      <td>26.5500</td>\n      <td>S</td>\n    </tr>\n    <tr>\n      <th>19</th>\n      <td>19</td>\n      <td>0</td>\n      <td>3</td>\n      <td>male</td>\n      <td>21.0000</td>\n      <td>0</td>\n      <td>0</td>\n      <td>8.0500</td>\n      <td>S</td>\n    </tr>\n    <tr>\n      <th>20</th>\n      <td>20</td>\n      <td>1</td>\n      <td>1</td>\n      <td>female</td>\n      <td>29.0000</td>\n      <td>0</td>\n      <td>0</td>\n      <td>221.7792</td>\n      <td>S</td>\n    </tr>\n    <tr>\n      <th>21</th>\n      <td>21</td>\n      <td>1</td>\n      <td>1</td>\n      <td>female</td>\n      <td>15.0000</td>\n      <td>0</td>\n      <td>1</td>\n      <td>211.3375</td>\n      <td>S</td>\n    </tr>\n    <tr>\n      <th>22</th>\n      <td>22</td>\n      <td>0</td>\n      <td>3</td>\n      <td>male</td>\n      <td>23.5000</td>\n      <td>0</td>\n      <td>0</td>\n      <td>7.2292</td>\n      <td>C</td>\n    </tr>\n    <tr>\n      <th>23</th>\n      <td>23</td>\n      <td>1</td>\n      <td>1</td>\n      <td>female</td>\n      <td>64.0000</td>\n      <td>0</td>\n      <td>2</td>\n      <td>83.1583</td>\n      <td>C</td>\n    </tr>\n    <tr>\n      <th>24</th>\n      <td>24</td>\n      <td>0</td>\n      <td>3</td>\n      <td>male</td>\n      <td>34.0000</td>\n      <td>0</td>\n      <td>0</td>\n      <td>8.0500</td>\n      <td>S</td>\n    </tr>\n    <tr>\n      <th>25</th>\n      <td>25</td>\n      <td>0</td>\n      <td>1</td>\n      <td>female</td>\n      <td>36.0000</td>\n      <td>0</td>\n      <td>0</td>\n      <td>31.6792</td>\n      <td>C</td>\n    </tr>\n    <tr>\n      <th>26</th>\n      <td>26</td>\n      <td>1</td>\n      <td>3</td>\n      <td>female</td>\n      <td>NaN</td>\n      <td>0</td>\n      <td>2</td>\n      <td>22.3583</td>\n      <td>C</td>\n    </tr>\n    <tr>\n      <th>27</th>\n      <td>27</td>\n      <td>1</td>\n      <td>3</td>\n      <td>male</td>\n      <td>25.0000</td>\n      <td>1</td>\n      <td>0</td>\n      <td>7.7750</td>\n      <td>S</td>\n    </tr>\n    <tr>\n      <th>28</th>\n      <td>28</td>\n      <td>1</td>\n      <td>3</td>\n      <td>male</td>\n      <td>25.0000</td>\n      <td>0</td>\n      <td>0</td>\n      <td>9.5000</td>\n      <td>S</td>\n    </tr>\n    <tr>\n      <th>29</th>\n      <td>29</td>\n      <td>0</td>\n      <td>2</td>\n      <td>male</td>\n      <td>24.0000</td>\n      <td>0</td>\n      <td>0</td>\n      <td>10.5000</td>\n      <td>S</td>\n    </tr>\n    <tr>\n      <th>30</th>\n      <td>30</td>\n      <td>0</td>\n      <td>2</td>\n      <td>male</td>\n      <td>34.0000</td>\n      <td>1</td>\n      <td>0</td>\n      <td>26.0000</td>\n      <td>S</td>\n    </tr>\n    <tr>\n      <th>31</th>\n      <td>31</td>\n      <td>0</td>\n      <td>3</td>\n      <td>female</td>\n      <td>30.5000</td>\n      <td>0</td>\n      <td>0</td>\n      <td>7.7500</td>\n      <td>Q</td>\n    </tr>\n    <tr>\n      <th>32</th>\n      <td>32</td>\n      <td>0</td>\n      <td>2</td>\n      <td>male</td>\n      <td>32.0000</td>\n      <td>0</td>\n      <td>0</td>\n      <td>13.0000</td>\n      <td>S</td>\n    </tr>\n    <tr>\n      <th>33</th>\n      <td>33</td>\n      <td>1</td>\n      <td>3</td>\n      <td>female</td>\n      <td>33.0000</td>\n      <td>3</td>\n      <td>0</td>\n      <td>15.8500</td>\n      <td>S</td>\n    </tr>\n    <tr>\n      <th>34</th>\n      <td>34</td>\n      <td>1</td>\n      <td>1</td>\n      <td>male</td>\n      <td>26.0000</td>\n      <td>0</td>\n      <td>0</td>\n      <td>30.0000</td>\n      <td>C</td>\n    </tr>\n    <tr>\n      <th>35</th>\n      <td>35</td>\n      <td>1</td>\n      <td>1</td>\n      <td>female</td>\n      <td>14.0000</td>\n      <td>1</td>\n      <td>2</td>\n      <td>120.0000</td>\n      <td>S</td>\n    </tr>\n    <tr>\n      <th>36</th>\n      <td>36</td>\n      <td>1</td>\n      <td>3</td>\n      <td>female</td>\n      <td>NaN</td>\n      <td>1</td>\n      <td>0</td>\n      <td>15.5000</td>\n      <td>Q</td>\n    </tr>\n    <tr>\n      <th>37</th>\n      <td>37</td>\n      <td>0</td>\n      <td>3</td>\n      <td>female</td>\n      <td>16.0000</td>\n      <td>5</td>\n      <td>2</td>\n      <td>46.9000</td>\n      <td>S</td>\n    </tr>\n    <tr>\n      <th>38</th>\n      <td>38</td>\n      <td>0</td>\n      <td>1</td>\n      <td>male</td>\n      <td>NaN</td>\n      <td>0</td>\n      <td>0</td>\n      <td>0.0000</td>\n      <td>S</td>\n    </tr>\n    <tr>\n      <th>39</th>\n      <td>39</td>\n      <td>0</td>\n      <td>3</td>\n      <td>male</td>\n      <td>21.0000</td>\n      <td>0</td>\n      <td>0</td>\n      <td>7.7500</td>\n      <td>Q</td>\n    </tr>\n  </tbody>\n</table>\n</div>"
     },
     "metadata": {}
    }
   ]
  },
  {
   "cell_type": "code",
   "metadata": {
    "tags": [],
    "cell_id": "00037-86c8e0b4-2872-4872-8a90-e63da6c797e0",
    "deepnote_to_be_reexecuted": false,
    "source_hash": "3a8e3b22",
    "execution_start": 1640097197607,
    "execution_millis": 73,
    "deepnote_cell_type": "code"
   },
   "source": "data_test.drop(['name', 'cabin', 'ticket','home.dest'], inplace=True,axis=1 )\ndata_test.head()",
   "execution_count": 24,
   "outputs": [
    {
     "output_type": "execute_result",
     "execution_count": 24,
     "data": {
      "application/vnd.deepnote.dataframe.v3+json": {
       "column_count": 8,
       "row_count": 5,
       "columns": [
        {
         "name": "ID",
         "dtype": "int64",
         "stats": {
          "unique_count": 5,
          "nan_count": 0,
          "min": "1000",
          "max": "1004",
          "histogram": [
           {
            "bin_start": 1000,
            "bin_end": 1000.4,
            "count": 1
           },
           {
            "bin_start": 1000.4,
            "bin_end": 1000.8,
            "count": 0
           },
           {
            "bin_start": 1000.8,
            "bin_end": 1001.2,
            "count": 1
           },
           {
            "bin_start": 1001.2,
            "bin_end": 1001.6,
            "count": 0
           },
           {
            "bin_start": 1001.6,
            "bin_end": 1002,
            "count": 0
           },
           {
            "bin_start": 1002,
            "bin_end": 1002.4,
            "count": 1
           },
           {
            "bin_start": 1002.4,
            "bin_end": 1002.8,
            "count": 0
           },
           {
            "bin_start": 1002.8,
            "bin_end": 1003.2,
            "count": 1
           },
           {
            "bin_start": 1003.2,
            "bin_end": 1003.6,
            "count": 0
           },
           {
            "bin_start": 1003.6,
            "bin_end": 1004,
            "count": 1
           }
          ]
         }
        },
        {
         "name": "pclass",
         "dtype": "int64",
         "stats": {
          "unique_count": 2,
          "nan_count": 0,
          "min": "1",
          "max": "3",
          "histogram": [
           {
            "bin_start": 1,
            "bin_end": 1.2,
            "count": 3
           },
           {
            "bin_start": 1.2,
            "bin_end": 1.4,
            "count": 0
           },
           {
            "bin_start": 1.4,
            "bin_end": 1.6,
            "count": 0
           },
           {
            "bin_start": 1.6,
            "bin_end": 1.8,
            "count": 0
           },
           {
            "bin_start": 1.8,
            "bin_end": 2,
            "count": 0
           },
           {
            "bin_start": 2,
            "bin_end": 2.2,
            "count": 0
           },
           {
            "bin_start": 2.2,
            "bin_end": 2.4000000000000004,
            "count": 0
           },
           {
            "bin_start": 2.4000000000000004,
            "bin_end": 2.6,
            "count": 0
           },
           {
            "bin_start": 2.6,
            "bin_end": 2.8,
            "count": 0
           },
           {
            "bin_start": 2.8,
            "bin_end": 3,
            "count": 2
           }
          ]
         }
        },
        {
         "name": "sex",
         "dtype": "object",
         "stats": {
          "unique_count": 2,
          "nan_count": 0,
          "categories": [
           {
            "name": "female",
            "count": 3
           },
           {
            "name": "male",
            "count": 2
           }
          ]
         }
        },
        {
         "name": "age",
         "dtype": "float64",
         "stats": {
          "unique_count": 4,
          "nan_count": 1,
          "min": "21.0",
          "max": "35.0",
          "histogram": [
           {
            "bin_start": 21,
            "bin_end": 22.4,
            "count": 1
           },
           {
            "bin_start": 22.4,
            "bin_end": 23.8,
            "count": 0
           },
           {
            "bin_start": 23.8,
            "bin_end": 25.2,
            "count": 0
           },
           {
            "bin_start": 25.2,
            "bin_end": 26.6,
            "count": 0
           },
           {
            "bin_start": 26.6,
            "bin_end": 28,
            "count": 0
           },
           {
            "bin_start": 28,
            "bin_end": 29.4,
            "count": 0
           },
           {
            "bin_start": 29.4,
            "bin_end": 30.799999999999997,
            "count": 0
           },
           {
            "bin_start": 30.799999999999997,
            "bin_end": 32.2,
            "count": 2
           },
           {
            "bin_start": 32.2,
            "bin_end": 33.6,
            "count": 0
           },
           {
            "bin_start": 33.6,
            "bin_end": 35,
            "count": 1
           }
          ]
         }
        },
        {
         "name": "sibsp",
         "dtype": "int64",
         "stats": {
          "unique_count": 2,
          "nan_count": 0,
          "min": "0",
          "max": "1",
          "histogram": [
           {
            "bin_start": 0,
            "bin_end": 0.1,
            "count": 4
           },
           {
            "bin_start": 0.1,
            "bin_end": 0.2,
            "count": 0
           },
           {
            "bin_start": 0.2,
            "bin_end": 0.30000000000000004,
            "count": 0
           },
           {
            "bin_start": 0.30000000000000004,
            "bin_end": 0.4,
            "count": 0
           },
           {
            "bin_start": 0.4,
            "bin_end": 0.5,
            "count": 0
           },
           {
            "bin_start": 0.5,
            "bin_end": 0.6000000000000001,
            "count": 0
           },
           {
            "bin_start": 0.6000000000000001,
            "bin_end": 0.7000000000000001,
            "count": 0
           },
           {
            "bin_start": 0.7000000000000001,
            "bin_end": 0.8,
            "count": 0
           },
           {
            "bin_start": 0.8,
            "bin_end": 0.9,
            "count": 0
           },
           {
            "bin_start": 0.9,
            "bin_end": 1,
            "count": 1
           }
          ]
         }
        },
        {
         "name": "parch",
         "dtype": "int64",
         "stats": {
          "unique_count": 2,
          "nan_count": 0,
          "min": "0",
          "max": "2",
          "histogram": [
           {
            "bin_start": 0,
            "bin_end": 0.2,
            "count": 4
           },
           {
            "bin_start": 0.2,
            "bin_end": 0.4,
            "count": 0
           },
           {
            "bin_start": 0.4,
            "bin_end": 0.6000000000000001,
            "count": 0
           },
           {
            "bin_start": 0.6000000000000001,
            "bin_end": 0.8,
            "count": 0
           },
           {
            "bin_start": 0.8,
            "bin_end": 1,
            "count": 0
           },
           {
            "bin_start": 1,
            "bin_end": 1.2000000000000002,
            "count": 0
           },
           {
            "bin_start": 1.2000000000000002,
            "bin_end": 1.4000000000000001,
            "count": 0
           },
           {
            "bin_start": 1.4000000000000001,
            "bin_end": 1.6,
            "count": 0
           },
           {
            "bin_start": 1.6,
            "bin_end": 1.8,
            "count": 0
           },
           {
            "bin_start": 1.8,
            "bin_end": 2,
            "count": 1
           }
          ]
         }
        },
        {
         "name": "fare",
         "dtype": "float64",
         "stats": {
          "unique_count": 5,
          "nan_count": 0,
          "min": "7.75",
          "max": "164.8667",
          "histogram": [
           {
            "bin_start": 7.75,
            "bin_end": 23.46167,
            "count": 2
           },
           {
            "bin_start": 23.46167,
            "bin_end": 39.17334,
            "count": 0
           },
           {
            "bin_start": 39.17334,
            "bin_end": 54.88501000000001,
            "count": 1
           },
           {
            "bin_start": 54.88501000000001,
            "bin_end": 70.59668,
            "count": 0
           },
           {
            "bin_start": 70.59668,
            "bin_end": 86.30835,
            "count": 1
           },
           {
            "bin_start": 86.30835,
            "bin_end": 102.02002000000002,
            "count": 0
           },
           {
            "bin_start": 102.02002000000002,
            "bin_end": 117.73169000000001,
            "count": 0
           },
           {
            "bin_start": 117.73169000000001,
            "bin_end": 133.44336,
            "count": 0
           },
           {
            "bin_start": 133.44336,
            "bin_end": 149.15503,
            "count": 0
           },
           {
            "bin_start": 149.15503,
            "bin_end": 164.8667,
            "count": 1
           }
          ]
         }
        },
        {
         "name": "embarked",
         "dtype": "object",
         "stats": {
          "unique_count": 3,
          "nan_count": 0,
          "categories": [
           {
            "name": "S",
            "count": 3
           },
           {
            "name": "C",
            "count": 1
           },
           {
            "name": "Q",
            "count": 1
           }
          ]
         }
        },
        {
         "name": "_deepnote_index_column",
         "dtype": "int64"
        }
       ],
       "rows": [
        {
         "ID": 1000,
         "pclass": 1,
         "sex": "female",
         "age": 31,
         "sibsp": 0,
         "parch": 2,
         "fare": 164.8667,
         "embarked": "S",
         "_deepnote_index_column": 0
        },
        {
         "ID": 1001,
         "pclass": 1,
         "sex": "female",
         "age": 32,
         "sibsp": 0,
         "parch": 0,
         "fare": 76.2917,
         "embarked": "C",
         "_deepnote_index_column": 1
        },
        {
         "ID": 1002,
         "pclass": 1,
         "sex": "female",
         "age": 35,
         "sibsp": 1,
         "parch": 0,
         "fare": 53.1,
         "embarked": "S",
         "_deepnote_index_column": 2
        },
        {
         "ID": 1003,
         "pclass": 3,
         "sex": "male",
         "age": 21,
         "sibsp": 0,
         "parch": 0,
         "fare": 7.775,
         "embarked": "S",
         "_deepnote_index_column": 3
        },
        {
         "ID": 1004,
         "pclass": 3,
         "sex": "male",
         "age": "nan",
         "sibsp": 0,
         "parch": 0,
         "fare": 7.75,
         "embarked": "Q",
         "_deepnote_index_column": 4
        }
       ]
      },
      "text/plain": "     ID  pclass     sex   age  sibsp  parch      fare embarked\n0  1000       1  female  31.0      0      2  164.8667        S\n1  1001       1  female  32.0      0      0   76.2917        C\n2  1002       1  female  35.0      1      0   53.1000        S\n3  1003       3    male  21.0      0      0    7.7750        S\n4  1004       3    male   NaN      0      0    7.7500        Q",
      "text/html": "<div>\n<style scoped>\n    .dataframe tbody tr th:only-of-type {\n        vertical-align: middle;\n    }\n\n    .dataframe tbody tr th {\n        vertical-align: top;\n    }\n\n    .dataframe thead th {\n        text-align: right;\n    }\n</style>\n<table border=\"1\" class=\"dataframe\">\n  <thead>\n    <tr style=\"text-align: right;\">\n      <th></th>\n      <th>ID</th>\n      <th>pclass</th>\n      <th>sex</th>\n      <th>age</th>\n      <th>sibsp</th>\n      <th>parch</th>\n      <th>fare</th>\n      <th>embarked</th>\n    </tr>\n  </thead>\n  <tbody>\n    <tr>\n      <th>0</th>\n      <td>1000</td>\n      <td>1</td>\n      <td>female</td>\n      <td>31.0</td>\n      <td>0</td>\n      <td>2</td>\n      <td>164.8667</td>\n      <td>S</td>\n    </tr>\n    <tr>\n      <th>1</th>\n      <td>1001</td>\n      <td>1</td>\n      <td>female</td>\n      <td>32.0</td>\n      <td>0</td>\n      <td>0</td>\n      <td>76.2917</td>\n      <td>C</td>\n    </tr>\n    <tr>\n      <th>2</th>\n      <td>1002</td>\n      <td>1</td>\n      <td>female</td>\n      <td>35.0</td>\n      <td>1</td>\n      <td>0</td>\n      <td>53.1000</td>\n      <td>S</td>\n    </tr>\n    <tr>\n      <th>3</th>\n      <td>1003</td>\n      <td>3</td>\n      <td>male</td>\n      <td>21.0</td>\n      <td>0</td>\n      <td>0</td>\n      <td>7.7750</td>\n      <td>S</td>\n    </tr>\n    <tr>\n      <th>4</th>\n      <td>1004</td>\n      <td>3</td>\n      <td>male</td>\n      <td>NaN</td>\n      <td>0</td>\n      <td>0</td>\n      <td>7.7500</td>\n      <td>Q</td>\n    </tr>\n  </tbody>\n</table>\n</div>"
     },
     "metadata": {}
    }
   ]
  },
  {
   "cell_type": "markdown",
   "source": "### What columns do we change?",
   "metadata": {
    "tags": [],
    "is_collapsed": false,
    "cell_id": "00040-e2f27530-029a-4e98-adda-55d36b712a6f",
    "deepnote_cell_type": "text-cell-h3"
   }
  },
  {
   "cell_type": "markdown",
   "source": "### Let's analyze the gaps. There are missing values in the \"Age\" column and two missing values in the column embarked. I suggest filling in the \"age\" column with a mean value.",
   "metadata": {
    "tags": [],
    "is_collapsed": false,
    "cell_id": "00044-6044468e-5902-449e-a9f4-84e8e8d92a4a",
    "deepnote_cell_type": "text-cell-h3"
   }
  },
  {
   "cell_type": "code",
   "metadata": {
    "tags": [],
    "cell_id": "00045-b45c06f9-009e-4451-a0fa-d5204fdae5be",
    "deepnote_to_be_reexecuted": false,
    "source_hash": "748ca389",
    "execution_start": 1640097197737,
    "execution_millis": 1,
    "deepnote_cell_type": "code"
   },
   "source": "data_training['age'] = data_training['age'].fillna(data_training['age'].median())\ndata_test['age'] = data_test['age'].fillna(data_test['age'].median())\n",
   "execution_count": 25,
   "outputs": []
  },
  {
   "cell_type": "markdown",
   "source": "### We will delete rows with spaces in the embarked column (there is only 1, our selection will not be affected). And fill the gap in the median value column in the test data set.",
   "metadata": {
    "tags": [],
    "is_collapsed": false,
    "cell_id": "00046-16e763a4-21cf-4609-8473-c155c8fc156b",
    "deepnote_cell_type": "text-cell-h3"
   }
  },
  {
   "cell_type": "code",
   "metadata": {
    "tags": [],
    "cell_id": "00047-3dfcbd6d-1567-41cf-9d42-660b63411229",
    "deepnote_to_be_reexecuted": false,
    "source_hash": "184f31f",
    "execution_start": 1640097197738,
    "execution_millis": 47,
    "deepnote_cell_type": "code"
   },
   "source": "data_training = data_training.dropna().reset_index(drop=True)\ndata_training.info()\ndata_test = data_test.dropna().reset_index(drop=True)\ndata_test.info()",
   "execution_count": 26,
   "outputs": [
    {
     "name": "stdout",
     "text": "<class 'pandas.core.frame.DataFrame'>\nRangeIndex: 998 entries, 0 to 997\nData columns (total 9 columns):\n #   Column    Non-Null Count  Dtype  \n---  ------    --------------  -----  \n 0   ID        998 non-null    int64  \n 1   survived  998 non-null    int64  \n 2   pclass    998 non-null    int64  \n 3   sex       998 non-null    object \n 4   age       998 non-null    float64\n 5   sibsp     998 non-null    int64  \n 6   parch     998 non-null    int64  \n 7   fare      998 non-null    float64\n 8   embarked  998 non-null    object \ndtypes: float64(2), int64(5), object(2)\nmemory usage: 70.3+ KB\n<class 'pandas.core.frame.DataFrame'>\nRangeIndex: 308 entries, 0 to 307\nData columns (total 8 columns):\n #   Column    Non-Null Count  Dtype  \n---  ------    --------------  -----  \n 0   ID        308 non-null    int64  \n 1   pclass    308 non-null    int64  \n 2   sex       308 non-null    object \n 3   age       308 non-null    float64\n 4   sibsp     308 non-null    int64  \n 5   parch     308 non-null    int64  \n 6   fare      308 non-null    float64\n 7   embarked  308 non-null    object \ndtypes: float64(2), int64(4), object(2)\nmemory usage: 19.4+ KB\n",
     "output_type": "stream",
     "data": {}
    }
   ]
  },
  {
   "cell_type": "markdown",
   "source": "### Let's enter the data in the columns into the required formats.",
   "metadata": {
    "tags": [],
    "is_collapsed": false,
    "cell_id": "00049-fd44a193-9d59-4dde-964a-449ca52066b4",
    "deepnote_cell_type": "text-cell-h3"
   }
  },
  {
   "cell_type": "code",
   "metadata": {
    "tags": [],
    "cell_id": "00050-f0d6472d-f6f2-4870-8b63-87cbfe4f5829",
    "deepnote_to_be_reexecuted": false,
    "source_hash": "fc31c829",
    "execution_start": 1640097197783,
    "execution_millis": 0,
    "deepnote_cell_type": "code"
   },
   "source": "data_training['age'] = data_training['age'].astype(int)\ndata_test['age'] = data_test['age'].astype(int)\ndata_training['fare'] = data_training['fare'].astype(int)\ndata_test['fare'] = data_test['fare'].astype(int)",
   "execution_count": 27,
   "outputs": []
  },
  {
   "cell_type": "code",
   "metadata": {
    "tags": [],
    "cell_id": "00051-64ece25e-b38e-49a2-87a5-bc86030e7a57",
    "deepnote_to_be_reexecuted": false,
    "source_hash": "2a04c932",
    "execution_start": 1640097197784,
    "execution_millis": 50,
    "deepnote_cell_type": "code"
   },
   "source": "data_training.info()\ndata_test.info()",
   "execution_count": 28,
   "outputs": [
    {
     "name": "stdout",
     "text": "<class 'pandas.core.frame.DataFrame'>\nRangeIndex: 998 entries, 0 to 997\nData columns (total 9 columns):\n #   Column    Non-Null Count  Dtype \n---  ------    --------------  ----- \n 0   ID        998 non-null    int64 \n 1   survived  998 non-null    int64 \n 2   pclass    998 non-null    int64 \n 3   sex       998 non-null    object\n 4   age       998 non-null    int64 \n 5   sibsp     998 non-null    int64 \n 6   parch     998 non-null    int64 \n 7   fare      998 non-null    int64 \n 8   embarked  998 non-null    object\ndtypes: int64(7), object(2)\nmemory usage: 70.3+ KB\n<class 'pandas.core.frame.DataFrame'>\nRangeIndex: 308 entries, 0 to 307\nData columns (total 8 columns):\n #   Column    Non-Null Count  Dtype \n---  ------    --------------  ----- \n 0   ID        308 non-null    int64 \n 1   pclass    308 non-null    int64 \n 2   sex       308 non-null    object\n 3   age       308 non-null    int64 \n 4   sibsp     308 non-null    int64 \n 5   parch     308 non-null    int64 \n 6   fare      308 non-null    int64 \n 7   embarked  308 non-null    object\ndtypes: int64(6), object(2)\nmemory usage: 19.4+ KB\n",
     "output_type": "stream",
     "data": {}
    }
   ]
  },
  {
   "cell_type": "markdown",
   "source": "### We have the following goals for exploratory data analysis:\n\n-Look at the dependence of the target variable on all properties (build a correlation matrix)\n-remove elements with minimal correlation\n-encode categorical features\n-If necessary to normalize and balance features",
   "metadata": {
    "tags": [],
    "is_collapsed": false,
    "cell_id": "00052-65594d2f-d6e3-43f1-b784-d8654cd9fa7d",
    "deepnote_cell_type": "text-cell-h3"
   }
  },
  {
   "cell_type": "markdown",
   "source": "### Let's start by examining the dependence of the target variable on all properties.",
   "metadata": {
    "tags": [],
    "is_collapsed": false,
    "cell_id": "00053-d691108e-fef5-45e9-aeea-e7fda1602f75",
    "deepnote_cell_type": "text-cell-h3"
   }
  },
  {
   "cell_type": "code",
   "metadata": {
    "tags": [],
    "cell_id": "00054-8eb014d1-c6b2-48e0-b5df-9f7b02ba574d",
    "deepnote_to_be_reexecuted": false,
    "source_hash": "914720e3",
    "execution_start": 1640097197829,
    "execution_millis": 130,
    "deepnote_cell_type": "code"
   },
   "source": "data_training.corr()",
   "execution_count": 29,
   "outputs": [
    {
     "output_type": "execute_result",
     "execution_count": 29,
     "data": {
      "application/vnd.deepnote.dataframe.v3+json": {
       "column_count": 7,
       "row_count": 7,
       "columns": [
        {
         "name": "ID",
         "dtype": "float64",
         "stats": {
          "unique_count": 7,
          "nan_count": 0,
          "min": "-0.032584377280323686",
          "max": "1.0",
          "histogram": [
           {
            "bin_start": -0.032584377280323686,
            "bin_end": 0.07067406044770869,
            "count": 6
           },
           {
            "bin_start": 0.07067406044770869,
            "bin_end": 0.17393249817574105,
            "count": 0
           },
           {
            "bin_start": 0.17393249817574105,
            "bin_end": 0.2771909359037734,
            "count": 0
           },
           {
            "bin_start": 0.2771909359037734,
            "bin_end": 0.38044937363180575,
            "count": 0
           },
           {
            "bin_start": 0.38044937363180575,
            "bin_end": 0.4837078113598381,
            "count": 0
           },
           {
            "bin_start": 0.4837078113598381,
            "bin_end": 0.5869662490878705,
            "count": 0
           },
           {
            "bin_start": 0.5869662490878705,
            "bin_end": 0.6902246868159029,
            "count": 0
           },
           {
            "bin_start": 0.6902246868159029,
            "bin_end": 0.7934831245439352,
            "count": 0
           },
           {
            "bin_start": 0.7934831245439352,
            "bin_end": 0.8967415622719676,
            "count": 0
           },
           {
            "bin_start": 0.8967415622719676,
            "bin_end": 1,
            "count": 1
           }
          ]
         }
        },
        {
         "name": "survived",
         "dtype": "float64",
         "stats": {
          "unique_count": 7,
          "nan_count": 0,
          "min": "-0.3046322448405979",
          "max": "1.0",
          "histogram": [
           {
            "bin_start": -0.3046322448405979,
            "bin_end": -0.17416902035653814,
            "count": 1
           },
           {
            "bin_start": -0.17416902035653814,
            "bin_end": -0.04370579587247836,
            "count": 0
           },
           {
            "bin_start": -0.04370579587247836,
            "bin_end": 0.08675742861158142,
            "count": 3
           },
           {
            "bin_start": 0.08675742861158142,
            "bin_end": 0.2172206530956412,
            "count": 1
           },
           {
            "bin_start": 0.2172206530956412,
            "bin_end": 0.347683877579701,
            "count": 1
           },
           {
            "bin_start": 0.347683877579701,
            "bin_end": 0.47814710206376076,
            "count": 0
           },
           {
            "bin_start": 0.47814710206376076,
            "bin_end": 0.6086103265478205,
            "count": 0
           },
           {
            "bin_start": 0.6086103265478205,
            "bin_end": 0.7390735510318803,
            "count": 0
           },
           {
            "bin_start": 0.7390735510318803,
            "bin_end": 0.8695367755159401,
            "count": 0
           },
           {
            "bin_start": 0.8695367755159401,
            "bin_end": 1,
            "count": 1
           }
          ]
         }
        },
        {
         "name": "pclass",
         "dtype": "float64",
         "stats": {
          "unique_count": 7,
          "nan_count": 0,
          "min": "-0.5463112484393979",
          "max": "1.0",
          "histogram": [
           {
            "bin_start": -0.5463112484393979,
            "bin_end": -0.3916801235954581,
            "count": 1
           },
           {
            "bin_start": -0.3916801235954581,
            "bin_end": -0.23704899875151836,
            "count": 2
           },
           {
            "bin_start": -0.23704899875151836,
            "bin_end": -0.0824178739075786,
            "count": 0
           },
           {
            "bin_start": -0.0824178739075786,
            "bin_end": 0.07221325093636122,
            "count": 3
           },
           {
            "bin_start": 0.07221325093636122,
            "bin_end": 0.22684437578030103,
            "count": 0
           },
           {
            "bin_start": 0.22684437578030103,
            "bin_end": 0.38147550062424074,
            "count": 0
           },
           {
            "bin_start": 0.38147550062424074,
            "bin_end": 0.5361066254681806,
            "count": 0
           },
           {
            "bin_start": 0.5361066254681806,
            "bin_end": 0.6907377503121204,
            "count": 0
           },
           {
            "bin_start": 0.6907377503121204,
            "bin_end": 0.8453688751560602,
            "count": 0
           },
           {
            "bin_start": 0.8453688751560602,
            "bin_end": 1,
            "count": 1
           }
          ]
         }
        },
        {
         "name": "age",
         "dtype": "float64",
         "stats": {
          "unique_count": 7,
          "nan_count": 0,
          "min": "-0.36683289046071005",
          "max": "1.0",
          "histogram": [
           {
            "bin_start": -0.36683289046071005,
            "bin_end": -0.23014960141463903,
            "count": 1
           },
           {
            "bin_start": -0.23014960141463903,
            "bin_end": -0.093466312368568,
            "count": 2
           },
           {
            "bin_start": -0.093466312368568,
            "bin_end": 0.043216976677503016,
            "count": 2
           },
           {
            "bin_start": 0.043216976677503016,
            "bin_end": 0.17990026572357404,
            "count": 1
           },
           {
            "bin_start": 0.17990026572357404,
            "bin_end": 0.316583554769645,
            "count": 0
           },
           {
            "bin_start": 0.316583554769645,
            "bin_end": 0.4532668438157161,
            "count": 0
           },
           {
            "bin_start": 0.4532668438157161,
            "bin_end": 0.5899501328617871,
            "count": 0
           },
           {
            "bin_start": 0.5899501328617871,
            "bin_end": 0.7266334219078581,
            "count": 0
           },
           {
            "bin_start": 0.7266334219078581,
            "bin_end": 0.863316710953929,
            "count": 0
           },
           {
            "bin_start": 0.863316710953929,
            "bin_end": 1,
            "count": 1
           }
          ]
         }
        },
        {
         "name": "sibsp",
         "dtype": "float64",
         "stats": {
          "unique_count": 7,
          "nan_count": 0,
          "min": "-0.19909807322692952",
          "max": "1.0",
          "histogram": [
           {
            "bin_start": -0.19909807322692952,
            "bin_end": -0.07918826590423655,
            "count": 1
           },
           {
            "bin_start": -0.07918826590423655,
            "bin_end": 0.04072154141845641,
            "count": 2
           },
           {
            "bin_start": 0.04072154141845641,
            "bin_end": 0.16063134874114937,
            "count": 2
           },
           {
            "bin_start": 0.16063134874114937,
            "bin_end": 0.28054115606384233,
            "count": 0
           },
           {
            "bin_start": 0.28054115606384233,
            "bin_end": 0.4004509633865353,
            "count": 1
           },
           {
            "bin_start": 0.4004509633865353,
            "bin_end": 0.5203607707092283,
            "count": 0
           },
           {
            "bin_start": 0.5203607707092283,
            "bin_end": 0.6402705780319212,
            "count": 0
           },
           {
            "bin_start": 0.6402705780319212,
            "bin_end": 0.7601803853546142,
            "count": 0
           },
           {
            "bin_start": 0.7601803853546142,
            "bin_end": 0.8800901926773071,
            "count": 0
           },
           {
            "bin_start": 0.8800901926773071,
            "bin_end": 1,
            "count": 1
           }
          ]
         }
        },
        {
         "name": "parch",
         "dtype": "float64",
         "stats": {
          "unique_count": 7,
          "nan_count": 0,
          "min": "-0.12150101042619545",
          "max": "1.0",
          "histogram": [
           {
            "bin_start": -0.12150101042619545,
            "bin_end": -0.009350909383575898,
            "count": 2
           },
           {
            "bin_start": -0.009350909383575898,
            "bin_end": 0.10279919165904365,
            "count": 2
           },
           {
            "bin_start": 0.10279919165904365,
            "bin_end": 0.21494929270166319,
            "count": 1
           },
           {
            "bin_start": 0.21494929270166319,
            "bin_end": 0.32709939374428276,
            "count": 0
           },
           {
            "bin_start": 0.32709939374428276,
            "bin_end": 0.43924949478690234,
            "count": 1
           },
           {
            "bin_start": 0.43924949478690234,
            "bin_end": 0.5513995958295218,
            "count": 0
           },
           {
            "bin_start": 0.5513995958295218,
            "bin_end": 0.6635496968721414,
            "count": 0
           },
           {
            "bin_start": 0.6635496968721414,
            "bin_end": 0.775699797914761,
            "count": 0
           },
           {
            "bin_start": 0.775699797914761,
            "bin_end": 0.8878498989573805,
            "count": 0
           },
           {
            "bin_start": 0.8878498989573805,
            "bin_end": 1,
            "count": 1
           }
          ]
         }
        },
        {
         "name": "fare",
         "dtype": "float64",
         "stats": {
          "unique_count": 7,
          "nan_count": 0,
          "min": "-0.5463112484393979",
          "max": "1.0",
          "histogram": [
           {
            "bin_start": -0.5463112484393979,
            "bin_end": -0.3916801235954581,
            "count": 1
           },
           {
            "bin_start": -0.3916801235954581,
            "bin_end": -0.23704899875151836,
            "count": 0
           },
           {
            "bin_start": -0.23704899875151836,
            "bin_end": -0.0824178739075786,
            "count": 0
           },
           {
            "bin_start": -0.0824178739075786,
            "bin_end": 0.07221325093636122,
            "count": 1
           },
           {
            "bin_start": 0.07221325093636122,
            "bin_end": 0.22684437578030103,
            "count": 3
           },
           {
            "bin_start": 0.22684437578030103,
            "bin_end": 0.38147550062424074,
            "count": 1
           },
           {
            "bin_start": 0.38147550062424074,
            "bin_end": 0.5361066254681806,
            "count": 0
           },
           {
            "bin_start": 0.5361066254681806,
            "bin_end": 0.6907377503121204,
            "count": 0
           },
           {
            "bin_start": 0.6907377503121204,
            "bin_end": 0.8453688751560602,
            "count": 0
           },
           {
            "bin_start": 0.8453688751560602,
            "bin_end": 1,
            "count": 1
           }
          ]
         }
        },
        {
         "name": "_deepnote_index_column",
         "dtype": "object"
        }
       ],
       "rows": [
        {
         "ID": 1,
         "survived": -0.030671805917358325,
         "pclass": 0.03840997824898823,
         "age": -0.02167272795459838,
         "sibsp": 0.0001546062713459931,
         "parch": -0.032584377280323686,
         "fare": -0.022054519715774015,
         "_deepnote_index_column": "ID"
        },
        {
         "ID": -0.030671805917358325,
         "survived": 1,
         "pclass": -0.3046322448405979,
         "age": -0.032337996935976755,
         "sibsp": -0.022134087161643237,
         "parch": 0.08680172713225136,
         "fare": 0.24087184026888261,
         "_deepnote_index_column": "survived"
        },
        {
         "ID": 0.03840997824898823,
         "survived": -0.3046322448405979,
         "pclass": 1,
         "age": -0.36683289046071005,
         "sibsp": 0.05907557650277445,
         "parch": 0.0263144177735952,
         "fare": -0.5463112484393979,
         "_deepnote_index_column": "pclass"
        },
        {
         "ID": -0.02167272795459838,
         "survived": -0.032337996935976755,
         "pclass": -0.36683289046071005,
         "age": 1,
         "sibsp": -0.19909807322692952,
         "parch": -0.12150101042619545,
         "fare": 0.17688771289062,
         "_deepnote_index_column": "age"
        },
        {
         "ID": 0.0001546062713459931,
         "survived": -0.022134087161643237,
         "pclass": 0.05907557650277445,
         "age": -0.19909807322692952,
         "sibsp": 1,
         "parch": 0.37072630677094626,
         "fare": 0.14093483156588676,
         "_deepnote_index_column": "sibsp"
        },
        {
         "ID": -0.032584377280323686,
         "survived": 0.08680172713225136,
         "pclass": 0.0263144177735952,
         "age": -0.12150101042619545,
         "sibsp": 0.37072630677094626,
         "parch": 1,
         "fare": 0.20047015769046286,
         "_deepnote_index_column": "parch"
        },
        {
         "ID": -0.022054519715774015,
         "survived": 0.24087184026888261,
         "pclass": -0.5463112484393979,
         "age": 0.17688771289062,
         "sibsp": 0.14093483156588676,
         "parch": 0.20047015769046286,
         "fare": 1,
         "_deepnote_index_column": "fare"
        }
       ]
      },
      "text/plain": "                ID  survived    pclass       age     sibsp     parch      fare\nID        1.000000 -0.030672  0.038410 -0.021673  0.000155 -0.032584 -0.022055\nsurvived -0.030672  1.000000 -0.304632 -0.032338 -0.022134  0.086802  0.240872\npclass    0.038410 -0.304632  1.000000 -0.366833  0.059076  0.026314 -0.546311\nage      -0.021673 -0.032338 -0.366833  1.000000 -0.199098 -0.121501  0.176888\nsibsp     0.000155 -0.022134  0.059076 -0.199098  1.000000  0.370726  0.140935\nparch    -0.032584  0.086802  0.026314 -0.121501  0.370726  1.000000  0.200470\nfare     -0.022055  0.240872 -0.546311  0.176888  0.140935  0.200470  1.000000",
      "text/html": "<div>\n<style scoped>\n    .dataframe tbody tr th:only-of-type {\n        vertical-align: middle;\n    }\n\n    .dataframe tbody tr th {\n        vertical-align: top;\n    }\n\n    .dataframe thead th {\n        text-align: right;\n    }\n</style>\n<table border=\"1\" class=\"dataframe\">\n  <thead>\n    <tr style=\"text-align: right;\">\n      <th></th>\n      <th>ID</th>\n      <th>survived</th>\n      <th>pclass</th>\n      <th>age</th>\n      <th>sibsp</th>\n      <th>parch</th>\n      <th>fare</th>\n    </tr>\n  </thead>\n  <tbody>\n    <tr>\n      <th>ID</th>\n      <td>1.000000</td>\n      <td>-0.030672</td>\n      <td>0.038410</td>\n      <td>-0.021673</td>\n      <td>0.000155</td>\n      <td>-0.032584</td>\n      <td>-0.022055</td>\n    </tr>\n    <tr>\n      <th>survived</th>\n      <td>-0.030672</td>\n      <td>1.000000</td>\n      <td>-0.304632</td>\n      <td>-0.032338</td>\n      <td>-0.022134</td>\n      <td>0.086802</td>\n      <td>0.240872</td>\n    </tr>\n    <tr>\n      <th>pclass</th>\n      <td>0.038410</td>\n      <td>-0.304632</td>\n      <td>1.000000</td>\n      <td>-0.366833</td>\n      <td>0.059076</td>\n      <td>0.026314</td>\n      <td>-0.546311</td>\n    </tr>\n    <tr>\n      <th>age</th>\n      <td>-0.021673</td>\n      <td>-0.032338</td>\n      <td>-0.366833</td>\n      <td>1.000000</td>\n      <td>-0.199098</td>\n      <td>-0.121501</td>\n      <td>0.176888</td>\n    </tr>\n    <tr>\n      <th>sibsp</th>\n      <td>0.000155</td>\n      <td>-0.022134</td>\n      <td>0.059076</td>\n      <td>-0.199098</td>\n      <td>1.000000</td>\n      <td>0.370726</td>\n      <td>0.140935</td>\n    </tr>\n    <tr>\n      <th>parch</th>\n      <td>-0.032584</td>\n      <td>0.086802</td>\n      <td>0.026314</td>\n      <td>-0.121501</td>\n      <td>0.370726</td>\n      <td>1.000000</td>\n      <td>0.200470</td>\n    </tr>\n    <tr>\n      <th>fare</th>\n      <td>-0.022055</td>\n      <td>0.240872</td>\n      <td>-0.546311</td>\n      <td>0.176888</td>\n      <td>0.140935</td>\n      <td>0.200470</td>\n      <td>1.000000</td>\n    </tr>\n  </tbody>\n</table>\n</div>"
     },
     "metadata": {}
    }
   ]
  },
  {
   "cell_type": "markdown",
   "source": "### It can now be seen from the correlation matrix that the greatest dependence of the target character is on the properties of \"pclass\" and \"fare\", if we do not take into account sex. And if it probably doesn't affect \"home.dest\", then gender quite does, because women took precedence over men when evacuating. Let's further verify this using histograms. Let's exclude the characteristic of passengers from the analysis, because it obviously could not affect the survival rate.",
   "metadata": {
    "tags": [],
    "is_collapsed": false,
    "cell_id": "00055-aef4d3b3-d4ae-4306-b813-ee58b368a3a8",
    "deepnote_cell_type": "text-cell-h3"
   }
  },
  {
   "cell_type": "code",
   "metadata": {
    "tags": [],
    "cell_id": "00056-da4858b5-1a66-47d1-a9cc-f5dcb22c24e1",
    "deepnote_to_be_reexecuted": false,
    "source_hash": "7de258fe",
    "execution_start": 1640097197880,
    "execution_millis": 3654644231,
    "deepnote_output_heights": [
     21.1875
    ],
    "deepnote_cell_type": "code"
   },
   "source": "columns_list = data_training.columns\ncolumns_list = columns_list[2:]\ncolumns_list",
   "execution_count": 30,
   "outputs": [
    {
     "output_type": "execute_result",
     "execution_count": 30,
     "data": {
      "text/plain": "Index(['pclass', 'sex', 'age', 'sibsp', 'parch', 'fare', 'embarked'], dtype='object')"
     },
     "metadata": {}
    }
   ]
  },
  {
   "cell_type": "code",
   "metadata": {
    "tags": [],
    "cell_id": "00057-53791bc7-fabd-47e5-b96f-5801e218dd10",
    "deepnote_to_be_reexecuted": false,
    "source_hash": "7d36036e",
    "execution_start": 1640097197930,
    "execution_millis": 4297,
    "deepnote_output_heights": [
     280,
     280,
     280,
     280,
     280,
     280,
     280
    ],
    "deepnote_cell_type": "code"
   },
   "source": "for column in columns_list:\n  sns.barplot(x=data_training[column], y=data_training['survived'], ci=None)\\\n    .set(title='Závislost přežití na {}'.format(column), ylabel='Přežití')\n  plt.show()",
   "execution_count": 31,
   "outputs": [
    {
     "data": {
      "text/plain": "<Figure size 432x288 with 1 Axes>",
      "image/png": "[encoded data removed]"
     },
     "metadata": {
      "needs_background": "light",
      "image/png": {
       "width": 386,
       "height": 278
      }
     },
     "output_type": "display_data"
    },
    {
     "data": {
      "text/plain": "<Figure size 432x288 with 1 Axes>",
      "image/png": "[encoded data removed]"
     },
     "metadata": {
      "needs_background": "light",
      "image/png": {
       "width": 386,
       "height": 278
      }
     },
     "output_type": "display_data"
    },
    {
     "data": {
      "text/plain": "<Figure size 432x288 with 1 Axes>",
      "image/png": "[encoded data removed]"
     },
     "metadata": {
      "needs_background": "light",
      "image/png": {
       "width": 390,
       "height": 278
      }
     },
     "output_type": "display_data"
    },
    {
     "data": {
      "text/plain": "<Figure size 432x288 with 1 Axes>",
      "image/png": "[encoded data removed]"
     },
     "metadata": {
      "needs_background": "light",
      "image/png": {
       "width": 386,
       "height": 278
      }
     },
     "output_type": "display_data"
    },
    {
     "data": {
      "text/plain": "<Figure size 432x288 with 1 Axes>",
      "image/png": "[encoded data removed]"
     },
     "metadata": {
      "needs_background": "light",
      "image/png": {
       "width": 386,
       "height": 278
      }
     },
     "output_type": "display_data"
    },
    {
     "data": {
      "text/plain": "<Figure size 432x288 with 1 Axes>",
      "image/png": "[encoded data removed]"
     },
     "metadata": {
      "needs_background": "light",
      "image/png": {
       "width": 393,
       "height": 278
      }
     },
     "output_type": "display_data"
    },
    {
     "data": {
      "text/plain": "<Figure size 432x288 with 1 Axes>",
      "image/png": "[encoded data removed]"
     },
     "metadata": {
      "needs_background": "light",
      "image/png": {
       "width": 386,
       "height": 278
      }
     },
     "output_type": "display_data"
    }
   ]
  },
  {
   "cell_type": "markdown",
   "source": "### The embarked tag has a clear effect on the target tag. We will not remove from the selection.\nOur assumption that the sex of the passenger has a significant effect on the fact of survival has been confirmed.\nThe ticket class also had a significant effect on survival. The higher the class, the better the chances of survival.\nFrom the above analysis, we can also conclude that our linear dependences are expressed very weakly. Accordingly, it can be assumed that linear models (such as logistic regression) will perform worse than wooden ones, etc.\nWe've come up with dependencies and correlations, now let's move on to coding functions. We need to encode gender and characters used. To do this, we use the get_dummies method.",
   "metadata": {
    "tags": [],
    "is_collapsed": false,
    "cell_id": "00058-70cf6e1a-7744-4b65-974a-b92a11c85807",
    "deepnote_cell_type": "text-cell-h3"
   }
  },
  {
   "cell_type": "code",
   "metadata": {
    "tags": [],
    "cell_id": "00059-1d98d683-c918-4fb9-8ff8-fdad1a28bcba",
    "deepnote_to_be_reexecuted": false,
    "source_hash": "e47dc501",
    "execution_start": 1640097202230,
    "execution_millis": 18,
    "deepnote_cell_type": "code"
   },
   "source": "training_dummy = pandas.get_dummies(data_training, prefix_sep='_', columns=['embarked', 'sex'], dtype=int)\ntest_dummy = pandas.get_dummies(data_test, prefix_sep='_', columns=['embarked', 'sex'], dtype=int)",
   "execution_count": 32,
   "outputs": []
  },
  {
   "cell_type": "code",
   "metadata": {
    "tags": [],
    "cell_id": "00060-d97307f5-5149-45b2-a204-1bf028a847d0",
    "deepnote_to_be_reexecuted": false,
    "source_hash": "b3a0eeb5",
    "execution_start": 1640097202291,
    "execution_millis": 12,
    "deepnote_cell_type": "code"
   },
   "source": "training_dummy.info()\ntest_dummy.info()",
   "execution_count": 33,
   "outputs": [
    {
     "name": "stdout",
     "text": "<class 'pandas.core.frame.DataFrame'>\nRangeIndex: 998 entries, 0 to 997\nData columns (total 12 columns):\n #   Column      Non-Null Count  Dtype\n---  ------      --------------  -----\n 0   ID          998 non-null    int64\n 1   survived    998 non-null    int64\n 2   pclass      998 non-null    int64\n 3   age         998 non-null    int64\n 4   sibsp       998 non-null    int64\n 5   parch       998 non-null    int64\n 6   fare        998 non-null    int64\n 7   embarked_C  998 non-null    int64\n 8   embarked_Q  998 non-null    int64\n 9   embarked_S  998 non-null    int64\n 10  sex_female  998 non-null    int64\n 11  sex_male    998 non-null    int64\ndtypes: int64(12)\nmemory usage: 93.7 KB\n<class 'pandas.core.frame.DataFrame'>\nRangeIndex: 308 entries, 0 to 307\nData columns (total 11 columns):\n #   Column      Non-Null Count  Dtype\n---  ------      --------------  -----\n 0   ID          308 non-null    int64\n 1   pclass      308 non-null    int64\n 2   age         308 non-null    int64\n 3   sibsp       308 non-null    int64\n 4   parch       308 non-null    int64\n 5   fare        308 non-null    int64\n 6   embarked_C  308 non-null    int64\n 7   embarked_Q  308 non-null    int64\n 8   embarked_S  308 non-null    int64\n 9   sex_female  308 non-null    int64\n 10  sex_male    308 non-null    int64\ndtypes: int64(11)\nmemory usage: 26.6 KB\n",
     "output_type": "stream",
     "data": {}
    }
   ]
  },
  {
   "cell_type": "markdown",
   "source": "### Let's continue to prepare data for the models.",
   "metadata": {
    "tags": [],
    "is_collapsed": false,
    "cell_id": "00061-0eef75b2-3de3-40ef-8e5b-b3621fa88df5",
    "deepnote_cell_type": "text-cell-h3"
   }
  },
  {
   "cell_type": "markdown",
   "source": "### ID attribute must be removed",
   "metadata": {
    "tags": [],
    "is_collapsed": false,
    "cell_id": "00062-20138753-8a0e-4e30-9606-79a55657115b",
    "deepnote_cell_type": "text-cell-h3"
   }
  },
  {
   "cell_type": "code",
   "metadata": {
    "tags": [],
    "cell_id": "00061-227283ad-8d6e-4fc8-93e2-c0d90535ed8d",
    "deepnote_to_be_reexecuted": false,
    "source_hash": "8517a5b5",
    "execution_start": 1640097202340,
    "execution_millis": 192,
    "deepnote_cell_type": "code"
   },
   "source": "training_dummy = training_dummy.drop(['ID'], axis=1)\ntraining_dummy",
   "execution_count": 34,
   "outputs": [
    {
     "output_type": "execute_result",
     "execution_count": 34,
     "data": {
      "application/vnd.deepnote.dataframe.v3+json": {
       "column_count": 11,
       "row_count": 998,
       "columns": [
        {
         "name": "survived",
         "dtype": "int64",
         "stats": {
          "unique_count": 2,
          "nan_count": 0,
          "min": "0",
          "max": "1",
          "histogram": [
           {
            "bin_start": 0,
            "bin_end": 0.1,
            "count": 608
           },
           {
            "bin_start": 0.1,
            "bin_end": 0.2,
            "count": 0
           },
           {
            "bin_start": 0.2,
            "bin_end": 0.30000000000000004,
            "count": 0
           },
           {
            "bin_start": 0.30000000000000004,
            "bin_end": 0.4,
            "count": 0
           },
           {
            "bin_start": 0.4,
            "bin_end": 0.5,
            "count": 0
           },
           {
            "bin_start": 0.5,
            "bin_end": 0.6000000000000001,
            "count": 0
           },
           {
            "bin_start": 0.6000000000000001,
            "bin_end": 0.7000000000000001,
            "count": 0
           },
           {
            "bin_start": 0.7000000000000001,
            "bin_end": 0.8,
            "count": 0
           },
           {
            "bin_start": 0.8,
            "bin_end": 0.9,
            "count": 0
           },
           {
            "bin_start": 0.9,
            "bin_end": 1,
            "count": 390
           }
          ]
         }
        },
        {
         "name": "pclass",
         "dtype": "int64",
         "stats": {
          "unique_count": 3,
          "nan_count": 0,
          "min": "1",
          "max": "3",
          "histogram": [
           {
            "bin_start": 1,
            "bin_end": 1.2,
            "count": 248
           },
           {
            "bin_start": 1.2,
            "bin_end": 1.4,
            "count": 0
           },
           {
            "bin_start": 1.4,
            "bin_end": 1.6,
            "count": 0
           },
           {
            "bin_start": 1.6,
            "bin_end": 1.8,
            "count": 0
           },
           {
            "bin_start": 1.8,
            "bin_end": 2,
            "count": 0
           },
           {
            "bin_start": 2,
            "bin_end": 2.2,
            "count": 209
           },
           {
            "bin_start": 2.2,
            "bin_end": 2.4000000000000004,
            "count": 0
           },
           {
            "bin_start": 2.4000000000000004,
            "bin_end": 2.6,
            "count": 0
           },
           {
            "bin_start": 2.6,
            "bin_end": 2.8,
            "count": 0
           },
           {
            "bin_start": 2.8,
            "bin_end": 3,
            "count": 541
           }
          ]
         }
        },
        {
         "name": "age",
         "dtype": "int64",
         "stats": {
          "unique_count": 71,
          "nan_count": 0,
          "min": "0",
          "max": "76",
          "histogram": [
           {
            "bin_start": 0,
            "bin_end": 7.6,
            "count": 46
           },
           {
            "bin_start": 7.6,
            "bin_end": 15.2,
            "count": 38
           },
           {
            "bin_start": 15.2,
            "bin_end": 22.799999999999997,
            "count": 163
           },
           {
            "bin_start": 22.799999999999997,
            "bin_end": 30.4,
            "count": 422
           },
           {
            "bin_start": 30.4,
            "bin_end": 38,
            "count": 120
           },
           {
            "bin_start": 38,
            "bin_end": 45.599999999999994,
            "count": 92
           },
           {
            "bin_start": 45.599999999999994,
            "bin_end": 53.199999999999996,
            "count": 63
           },
           {
            "bin_start": 53.199999999999996,
            "bin_end": 60.8,
            "count": 31
           },
           {
            "bin_start": 60.8,
            "bin_end": 68.39999999999999,
            "count": 17
           },
           {
            "bin_start": 68.39999999999999,
            "bin_end": 76,
            "count": 6
           }
          ]
         }
        },
        {
         "name": "sibsp",
         "dtype": "int64",
         "stats": {
          "unique_count": 7,
          "nan_count": 0,
          "min": "0",
          "max": "8",
          "histogram": [
           {
            "bin_start": 0,
            "bin_end": 0.8,
            "count": 675
           },
           {
            "bin_start": 0.8,
            "bin_end": 1.6,
            "count": 246
           },
           {
            "bin_start": 1.6,
            "bin_end": 2.4000000000000004,
            "count": 34
           },
           {
            "bin_start": 2.4000000000000004,
            "bin_end": 3.2,
            "count": 15
           },
           {
            "bin_start": 3.2,
            "bin_end": 4,
            "count": 0
           },
           {
            "bin_start": 4,
            "bin_end": 4.800000000000001,
            "count": 18
           },
           {
            "bin_start": 4.800000000000001,
            "bin_end": 5.6000000000000005,
            "count": 4
           },
           {
            "bin_start": 5.6000000000000005,
            "bin_end": 6.4,
            "count": 0
           },
           {
            "bin_start": 6.4,
            "bin_end": 7.2,
            "count": 0
           },
           {
            "bin_start": 7.2,
            "bin_end": 8,
            "count": 6
           }
          ]
         }
        },
        {
         "name": "parch",
         "dtype": "int64",
         "stats": {
          "unique_count": 7,
          "nan_count": 0,
          "min": "0",
          "max": "9",
          "histogram": [
           {
            "bin_start": 0,
            "bin_end": 0.9,
            "count": 766
           },
           {
            "bin_start": 0.9,
            "bin_end": 1.8,
            "count": 126
           },
           {
            "bin_start": 1.8,
            "bin_end": 2.7,
            "count": 89
           },
           {
            "bin_start": 2.7,
            "bin_end": 3.6,
            "count": 4
           },
           {
            "bin_start": 3.6,
            "bin_end": 4.5,
            "count": 5
           },
           {
            "bin_start": 4.5,
            "bin_end": 5.4,
            "count": 6
           },
           {
            "bin_start": 5.4,
            "bin_end": 6.3,
            "count": 0
           },
           {
            "bin_start": 6.3,
            "bin_end": 7.2,
            "count": 0
           },
           {
            "bin_start": 7.2,
            "bin_end": 8.1,
            "count": 0
           },
           {
            "bin_start": 8.1,
            "bin_end": 9,
            "count": 2
           }
          ]
         }
        },
        {
         "name": "fare",
         "dtype": "int64",
         "stats": {
          "unique_count": 92,
          "nan_count": 0,
          "min": "0",
          "max": "512",
          "histogram": [
           {
            "bin_start": 0,
            "bin_end": 51.2,
            "count": 820
           },
           {
            "bin_start": 51.2,
            "bin_end": 102.4,
            "count": 118
           },
           {
            "bin_start": 102.4,
            "bin_end": 153.60000000000002,
            "count": 29
           },
           {
            "bin_start": 153.60000000000002,
            "bin_end": 204.8,
            "count": 1
           },
           {
            "bin_start": 204.8,
            "bin_end": 256,
            "count": 17
           },
           {
            "bin_start": 256,
            "bin_end": 307.20000000000005,
            "count": 9
           },
           {
            "bin_start": 307.20000000000005,
            "bin_end": 358.40000000000003,
            "count": 0
           },
           {
            "bin_start": 358.40000000000003,
            "bin_end": 409.6,
            "count": 0
           },
           {
            "bin_start": 409.6,
            "bin_end": 460.8,
            "count": 0
           },
           {
            "bin_start": 460.8,
            "bin_end": 512,
            "count": 4
           }
          ]
         }
        },
        {
         "name": "embarked_C",
         "dtype": "int64",
         "stats": {
          "unique_count": 2,
          "nan_count": 0,
          "min": "0",
          "max": "1",
          "histogram": [
           {
            "bin_start": 0,
            "bin_end": 0.1,
            "count": 791
           },
           {
            "bin_start": 0.1,
            "bin_end": 0.2,
            "count": 0
           },
           {
            "bin_start": 0.2,
            "bin_end": 0.30000000000000004,
            "count": 0
           },
           {
            "bin_start": 0.30000000000000004,
            "bin_end": 0.4,
            "count": 0
           },
           {
            "bin_start": 0.4,
            "bin_end": 0.5,
            "count": 0
           },
           {
            "bin_start": 0.5,
            "bin_end": 0.6000000000000001,
            "count": 0
           },
           {
            "bin_start": 0.6000000000000001,
            "bin_end": 0.7000000000000001,
            "count": 0
           },
           {
            "bin_start": 0.7000000000000001,
            "bin_end": 0.8,
            "count": 0
           },
           {
            "bin_start": 0.8,
            "bin_end": 0.9,
            "count": 0
           },
           {
            "bin_start": 0.9,
            "bin_end": 1,
            "count": 207
           }
          ]
         }
        },
        {
         "name": "embarked_Q",
         "dtype": "int64",
         "stats": {
          "unique_count": 2,
          "nan_count": 0,
          "min": "0",
          "max": "1",
          "histogram": [
           {
            "bin_start": 0,
            "bin_end": 0.1,
            "count": 901
           },
           {
            "bin_start": 0.1,
            "bin_end": 0.2,
            "count": 0
           },
           {
            "bin_start": 0.2,
            "bin_end": 0.30000000000000004,
            "count": 0
           },
           {
            "bin_start": 0.30000000000000004,
            "bin_end": 0.4,
            "count": 0
           },
           {
            "bin_start": 0.4,
            "bin_end": 0.5,
            "count": 0
           },
           {
            "bin_start": 0.5,
            "bin_end": 0.6000000000000001,
            "count": 0
           },
           {
            "bin_start": 0.6000000000000001,
            "bin_end": 0.7000000000000001,
            "count": 0
           },
           {
            "bin_start": 0.7000000000000001,
            "bin_end": 0.8,
            "count": 0
           },
           {
            "bin_start": 0.8,
            "bin_end": 0.9,
            "count": 0
           },
           {
            "bin_start": 0.9,
            "bin_end": 1,
            "count": 97
           }
          ]
         }
        },
        {
         "name": "embarked_S",
         "dtype": "int64",
         "stats": {
          "unique_count": 2,
          "nan_count": 0,
          "min": "0",
          "max": "1",
          "histogram": [
           {
            "bin_start": 0,
            "bin_end": 0.1,
            "count": 304
           },
           {
            "bin_start": 0.1,
            "bin_end": 0.2,
            "count": 0
           },
           {
            "bin_start": 0.2,
            "bin_end": 0.30000000000000004,
            "count": 0
           },
           {
            "bin_start": 0.30000000000000004,
            "bin_end": 0.4,
            "count": 0
           },
           {
            "bin_start": 0.4,
            "bin_end": 0.5,
            "count": 0
           },
           {
            "bin_start": 0.5,
            "bin_end": 0.6000000000000001,
            "count": 0
           },
           {
            "bin_start": 0.6000000000000001,
            "bin_end": 0.7000000000000001,
            "count": 0
           },
           {
            "bin_start": 0.7000000000000001,
            "bin_end": 0.8,
            "count": 0
           },
           {
            "bin_start": 0.8,
            "bin_end": 0.9,
            "count": 0
           },
           {
            "bin_start": 0.9,
            "bin_end": 1,
            "count": 694
           }
          ]
         }
        },
        {
         "name": "sex_female",
         "dtype": "int64",
         "stats": {
          "unique_count": 2,
          "nan_count": 0,
          "min": "0",
          "max": "1",
          "histogram": [
           {
            "bin_start": 0,
            "bin_end": 0.1,
            "count": 645
           },
           {
            "bin_start": 0.1,
            "bin_end": 0.2,
            "count": 0
           },
           {
            "bin_start": 0.2,
            "bin_end": 0.30000000000000004,
            "count": 0
           },
           {
            "bin_start": 0.30000000000000004,
            "bin_end": 0.4,
            "count": 0
           },
           {
            "bin_start": 0.4,
            "bin_end": 0.5,
            "count": 0
           },
           {
            "bin_start": 0.5,
            "bin_end": 0.6000000000000001,
            "count": 0
           },
           {
            "bin_start": 0.6000000000000001,
            "bin_end": 0.7000000000000001,
            "count": 0
           },
           {
            "bin_start": 0.7000000000000001,
            "bin_end": 0.8,
            "count": 0
           },
           {
            "bin_start": 0.8,
            "bin_end": 0.9,
            "count": 0
           },
           {
            "bin_start": 0.9,
            "bin_end": 1,
            "count": 353
           }
          ]
         }
        },
        {
         "name": "sex_male",
         "dtype": "int64",
         "stats": {
          "unique_count": 2,
          "nan_count": 0,
          "min": "0",
          "max": "1",
          "histogram": [
           {
            "bin_start": 0,
            "bin_end": 0.1,
            "count": 353
           },
           {
            "bin_start": 0.1,
            "bin_end": 0.2,
            "count": 0
           },
           {
            "bin_start": 0.2,
            "bin_end": 0.30000000000000004,
            "count": 0
           },
           {
            "bin_start": 0.30000000000000004,
            "bin_end": 0.4,
            "count": 0
           },
           {
            "bin_start": 0.4,
            "bin_end": 0.5,
            "count": 0
           },
           {
            "bin_start": 0.5,
            "bin_end": 0.6000000000000001,
            "count": 0
           },
           {
            "bin_start": 0.6000000000000001,
            "bin_end": 0.7000000000000001,
            "count": 0
           },
           {
            "bin_start": 0.7000000000000001,
            "bin_end": 0.8,
            "count": 0
           },
           {
            "bin_start": 0.8,
            "bin_end": 0.9,
            "count": 0
           },
           {
            "bin_start": 0.9,
            "bin_end": 1,
            "count": 645
           }
          ]
         }
        },
        {
         "name": "_deepnote_index_column",
         "dtype": "int64"
        }
       ],
       "rows": [
        {
         "survived": 1,
         "pclass": 3,
         "age": 27,
         "sibsp": 0,
         "parch": 0,
         "fare": 7,
         "embarked_C": 0,
         "embarked_Q": 0,
         "embarked_S": 1,
         "sex_female": 0,
         "sex_male": 1,
         "_deepnote_index_column": 0
        },
        {
         "survived": 1,
         "pclass": 3,
         "age": 45,
         "sibsp": 0,
         "parch": 0,
         "fare": 8,
         "embarked_C": 0,
         "embarked_Q": 0,
         "embarked_S": 1,
         "sex_female": 0,
         "sex_male": 1,
         "_deepnote_index_column": 1
        },
        {
         "survived": 0,
         "pclass": 2,
         "age": 28,
         "sibsp": 0,
         "parch": 0,
         "fare": 0,
         "embarked_C": 0,
         "embarked_Q": 0,
         "embarked_S": 1,
         "sex_female": 0,
         "sex_male": 1,
         "_deepnote_index_column": 2
        },
        {
         "survived": 1,
         "pclass": 3,
         "age": 27,
         "sibsp": 0,
         "parch": 2,
         "fare": 11,
         "embarked_C": 0,
         "embarked_Q": 0,
         "embarked_S": 1,
         "sex_female": 1,
         "sex_male": 0,
         "_deepnote_index_column": 3
        },
        {
         "survived": 0,
         "pclass": 1,
         "age": 28,
         "sibsp": 1,
         "parch": 0,
         "fare": 82,
         "embarked_C": 1,
         "embarked_Q": 0,
         "embarked_S": 0,
         "sex_female": 0,
         "sex_male": 1,
         "_deepnote_index_column": 4
        },
        {
         "survived": 0,
         "pclass": 3,
         "age": 28,
         "sibsp": 0,
         "parch": 0,
         "fare": 7,
         "embarked_C": 1,
         "embarked_Q": 0,
         "embarked_S": 0,
         "sex_female": 0,
         "sex_male": 1,
         "_deepnote_index_column": 5
        },
        {
         "survived": 0,
         "pclass": 1,
         "age": 47,
         "sibsp": 1,
         "parch": 0,
         "fare": 227,
         "embarked_C": 1,
         "embarked_Q": 0,
         "embarked_S": 0,
         "sex_female": 0,
         "sex_male": 1,
         "_deepnote_index_column": 6
        },
        {
         "survived": 1,
         "pclass": 2,
         "age": 8,
         "sibsp": 0,
         "parch": 2,
         "fare": 32,
         "embarked_C": 0,
         "embarked_Q": 0,
         "embarked_S": 1,
         "sex_female": 0,
         "sex_male": 1,
         "_deepnote_index_column": 7
        },
        {
         "survived": 1,
         "pclass": 1,
         "age": 49,
         "sibsp": 1,
         "parch": 0,
         "fare": 76,
         "embarked_C": 1,
         "embarked_Q": 0,
         "embarked_S": 0,
         "sex_female": 1,
         "sex_male": 0,
         "_deepnote_index_column": 8
        },
        {
         "survived": 1,
         "pclass": 2,
         "age": 19,
         "sibsp": 1,
         "parch": 0,
         "fare": 26,
         "embarked_C": 0,
         "embarked_Q": 0,
         "embarked_S": 1,
         "sex_female": 1,
         "sex_male": 0,
         "_deepnote_index_column": 9
        }
       ]
      },
      "text/plain": "     survived  pclass  age  sibsp  parch  fare  embarked_C  embarked_Q  \\\n0           1       3   27      0      0     7           0           0   \n1           1       3   45      0      0     8           0           0   \n2           0       2   28      0      0     0           0           0   \n3           1       3   27      0      2    11           0           0   \n4           0       1   28      1      0    82           1           0   \n..        ...     ...  ...    ...    ...   ...         ...         ...   \n993         1       1   22      0      0   151           0           0   \n994         0       2   21      0      0    73           0           0   \n995         1       1   24      0      0    69           1           0   \n996         0       3   28      8      2    69           0           0   \n997         0       3   20      0      0     7           0           0   \n\n     embarked_S  sex_female  sex_male  \n0             1           0         1  \n1             1           0         1  \n2             1           0         1  \n3             1           1         0  \n4             0           0         1  \n..          ...         ...       ...  \n993           1           1         0  \n994           1           0         1  \n995           0           1         0  \n996           1           0         1  \n997           1           0         1  \n\n[998 rows x 11 columns]",
      "text/html": "<div>\n<style scoped>\n    .dataframe tbody tr th:only-of-type {\n        vertical-align: middle;\n    }\n\n    .dataframe tbody tr th {\n        vertical-align: top;\n    }\n\n    .dataframe thead th {\n        text-align: right;\n    }\n</style>\n<table border=\"1\" class=\"dataframe\">\n  <thead>\n    <tr style=\"text-align: right;\">\n      <th></th>\n      <th>survived</th>\n      <th>pclass</th>\n      <th>age</th>\n      <th>sibsp</th>\n      <th>parch</th>\n      <th>fare</th>\n      <th>embarked_C</th>\n      <th>embarked_Q</th>\n      <th>embarked_S</th>\n      <th>sex_female</th>\n      <th>sex_male</th>\n    </tr>\n  </thead>\n  <tbody>\n    <tr>\n      <th>0</th>\n      <td>1</td>\n      <td>3</td>\n      <td>27</td>\n      <td>0</td>\n      <td>0</td>\n      <td>7</td>\n      <td>0</td>\n      <td>0</td>\n      <td>1</td>\n      <td>0</td>\n      <td>1</td>\n    </tr>\n    <tr>\n      <th>1</th>\n      <td>1</td>\n      <td>3</td>\n      <td>45</td>\n      <td>0</td>\n      <td>0</td>\n      <td>8</td>\n      <td>0</td>\n      <td>0</td>\n      <td>1</td>\n      <td>0</td>\n      <td>1</td>\n    </tr>\n    <tr>\n      <th>2</th>\n      <td>0</td>\n      <td>2</td>\n      <td>28</td>\n      <td>0</td>\n      <td>0</td>\n      <td>0</td>\n      <td>0</td>\n      <td>0</td>\n      <td>1</td>\n      <td>0</td>\n      <td>1</td>\n    </tr>\n    <tr>\n      <th>3</th>\n      <td>1</td>\n      <td>3</td>\n      <td>27</td>\n      <td>0</td>\n      <td>2</td>\n      <td>11</td>\n      <td>0</td>\n      <td>0</td>\n      <td>1</td>\n      <td>1</td>\n      <td>0</td>\n    </tr>\n    <tr>\n      <th>4</th>\n      <td>0</td>\n      <td>1</td>\n      <td>28</td>\n      <td>1</td>\n      <td>0</td>\n      <td>82</td>\n      <td>1</td>\n      <td>0</td>\n      <td>0</td>\n      <td>0</td>\n      <td>1</td>\n    </tr>\n    <tr>\n      <th>...</th>\n      <td>...</td>\n      <td>...</td>\n      <td>...</td>\n      <td>...</td>\n      <td>...</td>\n      <td>...</td>\n      <td>...</td>\n      <td>...</td>\n      <td>...</td>\n      <td>...</td>\n      <td>...</td>\n    </tr>\n    <tr>\n      <th>993</th>\n      <td>1</td>\n      <td>1</td>\n      <td>22</td>\n      <td>0</td>\n      <td>0</td>\n      <td>151</td>\n      <td>0</td>\n      <td>0</td>\n      <td>1</td>\n      <td>1</td>\n      <td>0</td>\n    </tr>\n    <tr>\n      <th>994</th>\n      <td>0</td>\n      <td>2</td>\n      <td>21</td>\n      <td>0</td>\n      <td>0</td>\n      <td>73</td>\n      <td>0</td>\n      <td>0</td>\n      <td>1</td>\n      <td>0</td>\n      <td>1</td>\n    </tr>\n    <tr>\n      <th>995</th>\n      <td>1</td>\n      <td>1</td>\n      <td>24</td>\n      <td>0</td>\n      <td>0</td>\n      <td>69</td>\n      <td>1</td>\n      <td>0</td>\n      <td>0</td>\n      <td>1</td>\n      <td>0</td>\n    </tr>\n    <tr>\n      <th>996</th>\n      <td>0</td>\n      <td>3</td>\n      <td>28</td>\n      <td>8</td>\n      <td>2</td>\n      <td>69</td>\n      <td>0</td>\n      <td>0</td>\n      <td>1</td>\n      <td>0</td>\n      <td>1</td>\n    </tr>\n    <tr>\n      <th>997</th>\n      <td>0</td>\n      <td>3</td>\n      <td>20</td>\n      <td>0</td>\n      <td>0</td>\n      <td>7</td>\n      <td>0</td>\n      <td>0</td>\n      <td>1</td>\n      <td>0</td>\n      <td>1</td>\n    </tr>\n  </tbody>\n</table>\n<p>998 rows × 11 columns</p>\n</div>"
     },
     "metadata": {}
    }
   ]
  },
  {
   "cell_type": "code",
   "metadata": {
    "tags": [],
    "cell_id": "00064-3e607fc5-ba52-4420-a4c8-1384d62b6af9",
    "deepnote_to_be_reexecuted": false,
    "source_hash": "261ed430",
    "execution_start": 1640097202578,
    "execution_millis": 50,
    "deepnote_cell_type": "code"
   },
   "source": "test_dummy = test_dummy.drop(['ID'], axis=1)\ntest_dummy",
   "execution_count": 35,
   "outputs": [
    {
     "output_type": "execute_result",
     "execution_count": 35,
     "data": {
      "application/vnd.deepnote.dataframe.v3+json": {
       "column_count": 10,
       "row_count": 308,
       "columns": [
        {
         "name": "pclass",
         "dtype": "int64",
         "stats": {
          "unique_count": 3,
          "nan_count": 0,
          "min": "1",
          "max": "3",
          "histogram": [
           {
            "bin_start": 1,
            "bin_end": 1.2,
            "count": 73
           },
           {
            "bin_start": 1.2,
            "bin_end": 1.4,
            "count": 0
           },
           {
            "bin_start": 1.4,
            "bin_end": 1.6,
            "count": 0
           },
           {
            "bin_start": 1.6,
            "bin_end": 1.8,
            "count": 0
           },
           {
            "bin_start": 1.8,
            "bin_end": 2,
            "count": 0
           },
           {
            "bin_start": 2,
            "bin_end": 2.2,
            "count": 68
           },
           {
            "bin_start": 2.2,
            "bin_end": 2.4000000000000004,
            "count": 0
           },
           {
            "bin_start": 2.4000000000000004,
            "bin_end": 2.6,
            "count": 0
           },
           {
            "bin_start": 2.6,
            "bin_end": 2.8,
            "count": 0
           },
           {
            "bin_start": 2.8,
            "bin_end": 3,
            "count": 167
           }
          ]
         }
        },
        {
         "name": "age",
         "dtype": "int64",
         "stats": {
          "unique_count": 64,
          "nan_count": 0,
          "min": "0",
          "max": "80",
          "histogram": [
           {
            "bin_start": 0,
            "bin_end": 8,
            "count": 20
           },
           {
            "bin_start": 8,
            "bin_end": 16,
            "count": 11
           },
           {
            "bin_start": 16,
            "bin_end": 24,
            "count": 60
           },
           {
            "bin_start": 24,
            "bin_end": 32,
            "count": 119
           },
           {
            "bin_start": 32,
            "bin_end": 40,
            "count": 38
           },
           {
            "bin_start": 40,
            "bin_end": 48,
            "count": 27
           },
           {
            "bin_start": 48,
            "bin_end": 56,
            "count": 17
           },
           {
            "bin_start": 56,
            "bin_end": 64,
            "count": 12
           },
           {
            "bin_start": 64,
            "bin_end": 72,
            "count": 2
           },
           {
            "bin_start": 72,
            "bin_end": 80,
            "count": 2
           }
          ]
         }
        },
        {
         "name": "sibsp",
         "dtype": "int64",
         "stats": {
          "unique_count": 7,
          "nan_count": 0,
          "min": "0",
          "max": "8",
          "histogram": [
           {
            "bin_start": 0,
            "bin_end": 0.8,
            "count": 213
           },
           {
            "bin_start": 0.8,
            "bin_end": 1.6,
            "count": 73
           },
           {
            "bin_start": 1.6,
            "bin_end": 2.4000000000000004,
            "count": 8
           },
           {
            "bin_start": 2.4000000000000004,
            "bin_end": 3.2,
            "count": 5
           },
           {
            "bin_start": 3.2,
            "bin_end": 4,
            "count": 0
           },
           {
            "bin_start": 4,
            "bin_end": 4.800000000000001,
            "count": 4
           },
           {
            "bin_start": 4.800000000000001,
            "bin_end": 5.6000000000000005,
            "count": 2
           },
           {
            "bin_start": 5.6000000000000005,
            "bin_end": 6.4,
            "count": 0
           },
           {
            "bin_start": 6.4,
            "bin_end": 7.2,
            "count": 0
           },
           {
            "bin_start": 7.2,
            "bin_end": 8,
            "count": 3
           }
          ]
         }
        },
        {
         "name": "parch",
         "dtype": "int64",
         "stats": {
          "unique_count": 6,
          "nan_count": 0,
          "min": "0",
          "max": "6",
          "histogram": [
           {
            "bin_start": 0,
            "bin_end": 0.6,
            "count": 233
           },
           {
            "bin_start": 0.6,
            "bin_end": 1.2,
            "count": 44
           },
           {
            "bin_start": 1.2,
            "bin_end": 1.7999999999999998,
            "count": 0
           },
           {
            "bin_start": 1.7999999999999998,
            "bin_end": 2.4,
            "count": 24
           },
           {
            "bin_start": 2.4,
            "bin_end": 3,
            "count": 0
           },
           {
            "bin_start": 3,
            "bin_end": 3.5999999999999996,
            "count": 4
           },
           {
            "bin_start": 3.5999999999999996,
            "bin_end": 4.2,
            "count": 1
           },
           {
            "bin_start": 4.2,
            "bin_end": 4.8,
            "count": 0
           },
           {
            "bin_start": 4.8,
            "bin_end": 5.3999999999999995,
            "count": 0
           },
           {
            "bin_start": 5.3999999999999995,
            "bin_end": 6,
            "count": 2
           }
          ]
         }
        },
        {
         "name": "fare",
         "dtype": "int64",
         "stats": {
          "unique_count": 71,
          "nan_count": 0,
          "min": "0",
          "max": "263",
          "histogram": [
           {
            "bin_start": 0,
            "bin_end": 26.3,
            "count": 220
           },
           {
            "bin_start": 26.3,
            "bin_end": 52.6,
            "count": 39
           },
           {
            "bin_start": 52.6,
            "bin_end": 78.9,
            "count": 18
           },
           {
            "bin_start": 78.9,
            "bin_end": 105.2,
            "count": 7
           },
           {
            "bin_start": 105.2,
            "bin_end": 131.5,
            "count": 4
           },
           {
            "bin_start": 131.5,
            "bin_end": 157.8,
            "count": 9
           },
           {
            "bin_start": 157.8,
            "bin_end": 184.1,
            "count": 3
           },
           {
            "bin_start": 184.1,
            "bin_end": 210.4,
            "count": 0
           },
           {
            "bin_start": 210.4,
            "bin_end": 236.70000000000002,
            "count": 3
           },
           {
            "bin_start": 236.70000000000002,
            "bin_end": 263,
            "count": 5
           }
          ]
         }
        },
        {
         "name": "embarked_C",
         "dtype": "int64",
         "stats": {
          "unique_count": 2,
          "nan_count": 0,
          "min": "0",
          "max": "1",
          "histogram": [
           {
            "bin_start": 0,
            "bin_end": 0.1,
            "count": 245
           },
           {
            "bin_start": 0.1,
            "bin_end": 0.2,
            "count": 0
           },
           {
            "bin_start": 0.2,
            "bin_end": 0.30000000000000004,
            "count": 0
           },
           {
            "bin_start": 0.30000000000000004,
            "bin_end": 0.4,
            "count": 0
           },
           {
            "bin_start": 0.4,
            "bin_end": 0.5,
            "count": 0
           },
           {
            "bin_start": 0.5,
            "bin_end": 0.6000000000000001,
            "count": 0
           },
           {
            "bin_start": 0.6000000000000001,
            "bin_end": 0.7000000000000001,
            "count": 0
           },
           {
            "bin_start": 0.7000000000000001,
            "bin_end": 0.8,
            "count": 0
           },
           {
            "bin_start": 0.8,
            "bin_end": 0.9,
            "count": 0
           },
           {
            "bin_start": 0.9,
            "bin_end": 1,
            "count": 63
           }
          ]
         }
        },
        {
         "name": "embarked_Q",
         "dtype": "int64",
         "stats": {
          "unique_count": 2,
          "nan_count": 0,
          "min": "0",
          "max": "1",
          "histogram": [
           {
            "bin_start": 0,
            "bin_end": 0.1,
            "count": 282
           },
           {
            "bin_start": 0.1,
            "bin_end": 0.2,
            "count": 0
           },
           {
            "bin_start": 0.2,
            "bin_end": 0.30000000000000004,
            "count": 0
           },
           {
            "bin_start": 0.30000000000000004,
            "bin_end": 0.4,
            "count": 0
           },
           {
            "bin_start": 0.4,
            "bin_end": 0.5,
            "count": 0
           },
           {
            "bin_start": 0.5,
            "bin_end": 0.6000000000000001,
            "count": 0
           },
           {
            "bin_start": 0.6000000000000001,
            "bin_end": 0.7000000000000001,
            "count": 0
           },
           {
            "bin_start": 0.7000000000000001,
            "bin_end": 0.8,
            "count": 0
           },
           {
            "bin_start": 0.8,
            "bin_end": 0.9,
            "count": 0
           },
           {
            "bin_start": 0.9,
            "bin_end": 1,
            "count": 26
           }
          ]
         }
        },
        {
         "name": "embarked_S",
         "dtype": "int64",
         "stats": {
          "unique_count": 2,
          "nan_count": 0,
          "min": "0",
          "max": "1",
          "histogram": [
           {
            "bin_start": 0,
            "bin_end": 0.1,
            "count": 89
           },
           {
            "bin_start": 0.1,
            "bin_end": 0.2,
            "count": 0
           },
           {
            "bin_start": 0.2,
            "bin_end": 0.30000000000000004,
            "count": 0
           },
           {
            "bin_start": 0.30000000000000004,
            "bin_end": 0.4,
            "count": 0
           },
           {
            "bin_start": 0.4,
            "bin_end": 0.5,
            "count": 0
           },
           {
            "bin_start": 0.5,
            "bin_end": 0.6000000000000001,
            "count": 0
           },
           {
            "bin_start": 0.6000000000000001,
            "bin_end": 0.7000000000000001,
            "count": 0
           },
           {
            "bin_start": 0.7000000000000001,
            "bin_end": 0.8,
            "count": 0
           },
           {
            "bin_start": 0.8,
            "bin_end": 0.9,
            "count": 0
           },
           {
            "bin_start": 0.9,
            "bin_end": 1,
            "count": 219
           }
          ]
         }
        },
        {
         "name": "sex_female",
         "dtype": "int64",
         "stats": {
          "unique_count": 2,
          "nan_count": 0,
          "min": "0",
          "max": "1",
          "histogram": [
           {
            "bin_start": 0,
            "bin_end": 0.1,
            "count": 197
           },
           {
            "bin_start": 0.1,
            "bin_end": 0.2,
            "count": 0
           },
           {
            "bin_start": 0.2,
            "bin_end": 0.30000000000000004,
            "count": 0
           },
           {
            "bin_start": 0.30000000000000004,
            "bin_end": 0.4,
            "count": 0
           },
           {
            "bin_start": 0.4,
            "bin_end": 0.5,
            "count": 0
           },
           {
            "bin_start": 0.5,
            "bin_end": 0.6000000000000001,
            "count": 0
           },
           {
            "bin_start": 0.6000000000000001,
            "bin_end": 0.7000000000000001,
            "count": 0
           },
           {
            "bin_start": 0.7000000000000001,
            "bin_end": 0.8,
            "count": 0
           },
           {
            "bin_start": 0.8,
            "bin_end": 0.9,
            "count": 0
           },
           {
            "bin_start": 0.9,
            "bin_end": 1,
            "count": 111
           }
          ]
         }
        },
        {
         "name": "sex_male",
         "dtype": "int64",
         "stats": {
          "unique_count": 2,
          "nan_count": 0,
          "min": "0",
          "max": "1",
          "histogram": [
           {
            "bin_start": 0,
            "bin_end": 0.1,
            "count": 111
           },
           {
            "bin_start": 0.1,
            "bin_end": 0.2,
            "count": 0
           },
           {
            "bin_start": 0.2,
            "bin_end": 0.30000000000000004,
            "count": 0
           },
           {
            "bin_start": 0.30000000000000004,
            "bin_end": 0.4,
            "count": 0
           },
           {
            "bin_start": 0.4,
            "bin_end": 0.5,
            "count": 0
           },
           {
            "bin_start": 0.5,
            "bin_end": 0.6000000000000001,
            "count": 0
           },
           {
            "bin_start": 0.6000000000000001,
            "bin_end": 0.7000000000000001,
            "count": 0
           },
           {
            "bin_start": 0.7000000000000001,
            "bin_end": 0.8,
            "count": 0
           },
           {
            "bin_start": 0.8,
            "bin_end": 0.9,
            "count": 0
           },
           {
            "bin_start": 0.9,
            "bin_end": 1,
            "count": 197
           }
          ]
         }
        },
        {
         "name": "_deepnote_index_column",
         "dtype": "int64"
        }
       ],
       "rows": [
        {
         "pclass": 1,
         "age": 31,
         "sibsp": 0,
         "parch": 2,
         "fare": 164,
         "embarked_C": 0,
         "embarked_Q": 0,
         "embarked_S": 1,
         "sex_female": 1,
         "sex_male": 0,
         "_deepnote_index_column": 0
        },
        {
         "pclass": 1,
         "age": 32,
         "sibsp": 0,
         "parch": 0,
         "fare": 76,
         "embarked_C": 1,
         "embarked_Q": 0,
         "embarked_S": 0,
         "sex_female": 1,
         "sex_male": 0,
         "_deepnote_index_column": 1
        },
        {
         "pclass": 1,
         "age": 35,
         "sibsp": 1,
         "parch": 0,
         "fare": 53,
         "embarked_C": 0,
         "embarked_Q": 0,
         "embarked_S": 1,
         "sex_female": 1,
         "sex_male": 0,
         "_deepnote_index_column": 2
        },
        {
         "pclass": 3,
         "age": 21,
         "sibsp": 0,
         "parch": 0,
         "fare": 7,
         "embarked_C": 0,
         "embarked_Q": 0,
         "embarked_S": 1,
         "sex_female": 0,
         "sex_male": 1,
         "_deepnote_index_column": 3
        },
        {
         "pclass": 3,
         "age": 28,
         "sibsp": 0,
         "parch": 0,
         "fare": 7,
         "embarked_C": 0,
         "embarked_Q": 1,
         "embarked_S": 0,
         "sex_female": 0,
         "sex_male": 1,
         "_deepnote_index_column": 4
        },
        {
         "pclass": 2,
         "age": 24,
         "sibsp": 0,
         "parch": 0,
         "fare": 10,
         "embarked_C": 0,
         "embarked_Q": 0,
         "embarked_S": 1,
         "sex_female": 0,
         "sex_male": 1,
         "_deepnote_index_column": 5
        },
        {
         "pclass": 2,
         "age": 36,
         "sibsp": 0,
         "parch": 2,
         "fare": 26,
         "embarked_C": 0,
         "embarked_Q": 0,
         "embarked_S": 1,
         "sex_female": 0,
         "sex_male": 1,
         "_deepnote_index_column": 6
        },
        {
         "pclass": 1,
         "age": 6,
         "sibsp": 0,
         "parch": 2,
         "fare": 134,
         "embarked_C": 1,
         "embarked_Q": 0,
         "embarked_S": 0,
         "sex_female": 0,
         "sex_male": 1,
         "_deepnote_index_column": 7
        },
        {
         "pclass": 3,
         "age": 26,
         "sibsp": 0,
         "parch": 0,
         "fare": 7,
         "embarked_C": 0,
         "embarked_Q": 0,
         "embarked_S": 1,
         "sex_female": 1,
         "sex_male": 0,
         "_deepnote_index_column": 8
        },
        {
         "pclass": 3,
         "age": 9,
         "sibsp": 1,
         "parch": 1,
         "fare": 15,
         "embarked_C": 0,
         "embarked_Q": 0,
         "embarked_S": 1,
         "sex_female": 0,
         "sex_male": 1,
         "_deepnote_index_column": 9
        }
       ]
      },
      "text/plain": "     pclass  age  sibsp  parch  fare  embarked_C  embarked_Q  embarked_S  \\\n0         1   31      0      2   164           0           0           1   \n1         1   32      0      0    76           1           0           0   \n2         1   35      1      0    53           0           0           1   \n3         3   21      0      0     7           0           0           1   \n4         3   28      0      0     7           0           1           0   \n..      ...  ...    ...    ...   ...         ...         ...         ...   \n303       1   16      0      1    39           0           0           1   \n304       3   28      0      0     7           0           0           1   \n305       3   27      0      0     8           0           0           1   \n306       3   14      5      2    46           0           0           1   \n307       2   18      0      0    73           0           0           1   \n\n     sex_female  sex_male  \n0             1         0  \n1             1         0  \n2             1         0  \n3             0         1  \n4             0         1  \n..          ...       ...  \n303           1         0  \n304           0         1  \n305           0         1  \n306           0         1  \n307           0         1  \n\n[308 rows x 10 columns]",
      "text/html": "<div>\n<style scoped>\n    .dataframe tbody tr th:only-of-type {\n        vertical-align: middle;\n    }\n\n    .dataframe tbody tr th {\n        vertical-align: top;\n    }\n\n    .dataframe thead th {\n        text-align: right;\n    }\n</style>\n<table border=\"1\" class=\"dataframe\">\n  <thead>\n    <tr style=\"text-align: right;\">\n      <th></th>\n      <th>pclass</th>\n      <th>age</th>\n      <th>sibsp</th>\n      <th>parch</th>\n      <th>fare</th>\n      <th>embarked_C</th>\n      <th>embarked_Q</th>\n      <th>embarked_S</th>\n      <th>sex_female</th>\n      <th>sex_male</th>\n    </tr>\n  </thead>\n  <tbody>\n    <tr>\n      <th>0</th>\n      <td>1</td>\n      <td>31</td>\n      <td>0</td>\n      <td>2</td>\n      <td>164</td>\n      <td>0</td>\n      <td>0</td>\n      <td>1</td>\n      <td>1</td>\n      <td>0</td>\n    </tr>\n    <tr>\n      <th>1</th>\n      <td>1</td>\n      <td>32</td>\n      <td>0</td>\n      <td>0</td>\n      <td>76</td>\n      <td>1</td>\n      <td>0</td>\n      <td>0</td>\n      <td>1</td>\n      <td>0</td>\n    </tr>\n    <tr>\n      <th>2</th>\n      <td>1</td>\n      <td>35</td>\n      <td>1</td>\n      <td>0</td>\n      <td>53</td>\n      <td>0</td>\n      <td>0</td>\n      <td>1</td>\n      <td>1</td>\n      <td>0</td>\n    </tr>\n    <tr>\n      <th>3</th>\n      <td>3</td>\n      <td>21</td>\n      <td>0</td>\n      <td>0</td>\n      <td>7</td>\n      <td>0</td>\n      <td>0</td>\n      <td>1</td>\n      <td>0</td>\n      <td>1</td>\n    </tr>\n    <tr>\n      <th>4</th>\n      <td>3</td>\n      <td>28</td>\n      <td>0</td>\n      <td>0</td>\n      <td>7</td>\n      <td>0</td>\n      <td>1</td>\n      <td>0</td>\n      <td>0</td>\n      <td>1</td>\n    </tr>\n    <tr>\n      <th>...</th>\n      <td>...</td>\n      <td>...</td>\n      <td>...</td>\n      <td>...</td>\n      <td>...</td>\n      <td>...</td>\n      <td>...</td>\n      <td>...</td>\n      <td>...</td>\n      <td>...</td>\n    </tr>\n    <tr>\n      <th>303</th>\n      <td>1</td>\n      <td>16</td>\n      <td>0</td>\n      <td>1</td>\n      <td>39</td>\n      <td>0</td>\n      <td>0</td>\n      <td>1</td>\n      <td>1</td>\n      <td>0</td>\n    </tr>\n    <tr>\n      <th>304</th>\n      <td>3</td>\n      <td>28</td>\n      <td>0</td>\n      <td>0</td>\n      <td>7</td>\n      <td>0</td>\n      <td>0</td>\n      <td>1</td>\n      <td>0</td>\n      <td>1</td>\n    </tr>\n    <tr>\n      <th>305</th>\n      <td>3</td>\n      <td>27</td>\n      <td>0</td>\n      <td>0</td>\n      <td>8</td>\n      <td>0</td>\n      <td>0</td>\n      <td>1</td>\n      <td>0</td>\n      <td>1</td>\n    </tr>\n    <tr>\n      <th>306</th>\n      <td>3</td>\n      <td>14</td>\n      <td>5</td>\n      <td>2</td>\n      <td>46</td>\n      <td>0</td>\n      <td>0</td>\n      <td>1</td>\n      <td>0</td>\n      <td>1</td>\n    </tr>\n    <tr>\n      <th>307</th>\n      <td>2</td>\n      <td>18</td>\n      <td>0</td>\n      <td>0</td>\n      <td>73</td>\n      <td>0</td>\n      <td>0</td>\n      <td>1</td>\n      <td>0</td>\n      <td>1</td>\n    </tr>\n  </tbody>\n</table>\n<p>308 rows × 10 columns</p>\n</div>"
     },
     "metadata": {}
    }
   ]
  },
  {
   "cell_type": "markdown",
   "source": "### I will divide the data into testing and validation",
   "metadata": {
    "tags": [],
    "is_collapsed": false,
    "cell_id": "00045-a40be95e-a454-4ba4-9707-a7f69f3cecd6",
    "deepnote_cell_type": "text-cell-h3"
   }
  },
  {
   "cell_type": "code",
   "metadata": {
    "tags": [],
    "cell_id": "00046-dc793a5f-b32e-46b9-a90c-944d0624e325",
    "deepnote_to_be_reexecuted": false,
    "source_hash": "dbd33d62",
    "execution_start": 1640097202673,
    "execution_millis": 0,
    "deepnote_cell_type": "code"
   },
   "source": "dt = DecisionTreeClassifier(max_depth=10)\n\n# matice priznaku\nXdata = training_dummy.drop(columns='survived')\n# vektor vysvetlovane promene\nYdata = training_dummy['survived']",
   "execution_count": 36,
   "outputs": []
  },
  {
   "cell_type": "code",
   "metadata": {
    "tags": [],
    "cell_id": "00047-f6d4c7c5-a67a-49ed-9a35-e7440bf9c1b1",
    "deepnote_to_be_reexecuted": false,
    "source_hash": "9dcc73d5",
    "execution_start": 1640097202674,
    "execution_millis": 12,
    "deepnote_output_heights": [
     null,
     21.1875,
     21.1875,
     null,
     21.1875,
     21.1875
    ],
    "deepnote_cell_type": "code"
   },
   "source": "Xdata, Xval, Ydata, yval = train_test_split(Xdata, Ydata, test_size=0.25, random_state=15)\nprint('nove trenovaci jsou')\ndisplay(Xdata.shape)\ndisplay(Ydata.shape)\nprint('validacni jsou')\ndisplay(Xval.shape)\ndisplay(yval.shape)",
   "execution_count": 37,
   "outputs": [
    {
     "name": "stdout",
     "text": "nove trenovaci jsou\n",
     "output_type": "stream",
     "data": {}
    },
    {
     "data": {
      "text/plain": "(748, 10)"
     },
     "metadata": {},
     "output_type": "display_data"
    },
    {
     "data": {
      "text/plain": "(748,)"
     },
     "metadata": {},
     "output_type": "display_data"
    },
    {
     "name": "stdout",
     "text": "validacni jsou\n",
     "output_type": "stream",
     "data": {}
    },
    {
     "data": {
      "text/plain": "(250, 10)"
     },
     "metadata": {},
     "output_type": "display_data"
    },
    {
     "data": {
      "text/plain": "(250,)"
     },
     "metadata": {},
     "output_type": "display_data"
    }
   ]
  },
  {
   "cell_type": "code",
   "metadata": {
    "tags": [],
    "cell_id": "00047-85522b7e-74ac-421c-8754-cd25606b942d",
    "deepnote_to_be_reexecuted": false,
    "source_hash": "333704b7",
    "execution_start": 1640097202689,
    "execution_millis": 11,
    "deepnote_output_heights": [
     21.1875
    ],
    "deepnote_cell_type": "code"
   },
   "source": "dt.fit(Xdata, Ydata)",
   "execution_count": 38,
   "outputs": [
    {
     "output_type": "execute_result",
     "execution_count": 38,
     "data": {
      "text/plain": "DecisionTreeClassifier(max_depth=10)"
     },
     "metadata": {}
    }
   ]
  },
  {
   "cell_type": "code",
   "metadata": {
    "tags": [],
    "cell_id": "00048-91f9b8f4-7f8d-4961-b3b7-53ac86a79afb",
    "deepnote_to_be_reexecuted": false,
    "source_hash": "cb71e081",
    "execution_start": 1640097202698,
    "execution_millis": 4,
    "deepnote_output_heights": [
     611
    ],
    "deepnote_cell_type": "code"
   },
   "source": "Y_predicted = dt.predict(Xdata)\nY_predicted",
   "execution_count": 39,
   "outputs": [
    {
     "output_type": "execute_result",
     "execution_count": 39,
     "data": {
      "text/plain": "array([0, 0, 0, 1, 0, 1, 0, 0, 1, 1, 0, 1, 0, 1, 0, 0, 0, 0, 1, 0, 0, 0,\n       0, 1, 1, 0, 0, 0, 0, 0, 0, 1, 1, 0, 0, 0, 1, 1, 0, 1, 0, 0, 0, 1,\n       1, 0, 0, 0, 0, 0, 1, 1, 0, 0, 1, 0, 0, 1, 0, 0, 0, 0, 0, 0, 0, 0,\n       0, 0, 1, 1, 0, 0, 1, 0, 0, 0, 1, 1, 0, 0, 1, 0, 0, 1, 0, 1, 1, 1,\n       0, 0, 0, 1, 0, 1, 0, 0, 0, 1, 0, 1, 0, 1, 0, 1, 0, 0, 0, 0, 1, 0,\n       0, 1, 0, 0, 0, 0, 1, 0, 1, 0, 0, 0, 0, 0, 0, 1, 1, 0, 0, 1, 1, 0,\n       0, 1, 0, 1, 0, 0, 1, 1, 0, 0, 0, 0, 1, 0, 0, 0, 0, 0, 1, 0, 0, 1,\n       0, 0, 1, 0, 1, 0, 0, 0, 0, 1, 0, 0, 1, 1, 1, 1, 0, 0, 0, 0, 0, 0,\n       1, 0, 0, 0, 0, 1, 0, 0, 0, 1, 1, 0, 1, 0, 1, 0, 1, 0, 1, 0, 0, 1,\n       0, 1, 1, 1, 0, 0, 0, 0, 1, 0, 0, 0, 1, 1, 0, 0, 1, 1, 1, 0, 1, 0,\n       1, 0, 1, 0, 0, 1, 0, 0, 1, 1, 1, 1, 0, 1, 0, 0, 0, 0, 1, 1, 0, 0,\n       0, 1, 1, 0, 1, 0, 0, 0, 1, 1, 0, 0, 0, 1, 0, 1, 0, 0, 0, 0, 0, 0,\n       0, 0, 1, 0, 1, 0, 0, 1, 1, 0, 1, 0, 0, 0, 0, 0, 0, 0, 1, 0, 0, 1,\n       0, 0, 0, 1, 0, 0, 1, 0, 0, 0, 0, 1, 0, 0, 1, 0, 0, 0, 0, 1, 0, 0,\n       0, 0, 0, 0, 1, 1, 1, 0, 1, 0, 0, 0, 1, 0, 0, 0, 0, 0, 0, 1, 1, 1,\n       0, 0, 0, 0, 0, 0, 0, 0, 0, 0, 1, 0, 1, 0, 0, 0, 0, 0, 0, 0, 0, 0,\n       1, 0, 1, 1, 0, 0, 0, 0, 0, 1, 0, 0, 0, 0, 1, 0, 0, 1, 0, 0, 1, 0,\n       0, 1, 0, 0, 1, 1, 0, 0, 1, 0, 0, 1, 1, 0, 0, 1, 1, 0, 0, 0, 1, 0,\n       0, 0, 0, 0, 1, 0, 0, 0, 0, 0, 1, 0, 0, 1, 0, 0, 0, 1, 1, 1, 0, 0,\n       1, 0, 0, 0, 0, 1, 0, 0, 0, 1, 0, 1, 0, 1, 0, 0, 1, 1, 0, 0, 0, 1,\n       0, 0, 0, 1, 0, 1, 1, 1, 0, 0, 0, 1, 0, 0, 0, 0, 0, 1, 0, 1, 0, 0,\n       0, 1, 0, 1, 0, 0, 0, 1, 0, 1, 0, 1, 1, 0, 0, 0, 0, 1, 0, 1, 0, 1,\n       1, 1, 0, 0, 0, 1, 0, 0, 1, 0, 1, 1, 1, 0, 0, 1, 1, 0, 0, 1, 0, 0,\n       0, 1, 1, 0, 0, 0, 0, 0, 0, 1, 0, 0, 1, 1, 0, 0, 1, 0, 1, 1, 0, 0,\n       1, 0, 1, 1, 0, 0, 1, 1, 0, 1, 1, 1, 0, 0, 0, 0, 0, 1, 0, 0, 1, 0,\n       0, 1, 1, 0, 1, 1, 0, 1, 0, 0, 1, 0, 0, 0, 0, 1, 0, 0, 1, 0, 1, 1,\n       0, 0, 1, 0, 0, 1, 1, 1, 1, 1, 1, 1, 0, 1, 1, 0, 0, 0, 0, 0, 0, 0,\n       0, 1, 0, 0, 0, 0, 0, 0, 1, 1, 1, 1, 1, 1, 0, 0, 1, 0, 0, 0, 1, 0,\n       1, 1, 1, 0, 0, 0, 0, 1, 0, 0, 0, 0, 0, 0, 1, 0, 0, 0, 1, 0, 0, 0,\n       0, 0, 1, 1, 0, 0, 1, 1, 0, 0, 0, 0, 1, 1, 1, 1, 0, 0, 0, 0, 0, 1,\n       0, 0, 1, 0, 1, 0, 0, 0, 0, 0, 1, 0, 1, 1, 1, 0, 0, 0, 0, 1, 0, 0,\n       0, 1, 0, 0, 0, 1, 0, 1, 0, 0, 0, 0, 0, 1, 0, 0, 0, 0, 1, 1, 0, 0,\n       1, 0, 0, 0, 1, 0, 1, 0, 0, 0, 0, 0, 0, 0, 0, 1, 0, 0, 1, 0, 0, 1,\n       0, 0, 0, 0, 1, 1, 0, 0, 1, 0, 0, 0, 1, 1, 1, 0, 0, 0, 0, 0, 0, 0])"
     },
     "metadata": {}
    }
   ]
  },
  {
   "cell_type": "markdown",
   "source": "### Accuracy in depth 10 on training data 91.3%",
   "metadata": {
    "tags": [],
    "is_collapsed": false,
    "cell_id": "00050-c6156500-75b5-4a9b-8bed-db140c3eaee7",
    "deepnote_cell_type": "text-cell-h3"
   }
  },
  {
   "cell_type": "code",
   "metadata": {
    "tags": [],
    "cell_id": "00049-23db016f-a4c2-4b0f-988b-b24a3a6189cb",
    "deepnote_to_be_reexecuted": false,
    "source_hash": "598dc66f",
    "execution_start": 1640097202741,
    "execution_millis": 1,
    "deepnote_output_heights": [
     78.75
    ],
    "deepnote_cell_type": "code"
   },
   "source": "(Ydata - Y_predicted).value_counts(normalize=True)",
   "execution_count": 40,
   "outputs": [
    {
     "output_type": "execute_result",
     "execution_count": 40,
     "data": {
      "text/plain": " 0    0.911765\n 1    0.070856\n-1    0.017380\nName: survived, dtype: float64"
     },
     "metadata": {}
    }
   ]
  },
  {
   "cell_type": "code",
   "metadata": {
    "tags": [],
    "cell_id": "00050-c57e9c64-6d0a-4401-af0d-b23516f3f32c",
    "deepnote_to_be_reexecuted": false,
    "source_hash": "6edcf11d",
    "execution_start": 1640097202743,
    "execution_millis": 258,
    "deepnote_cell_type": "code"
   },
   "source": "print('presnost(trenovaci data): {0:.6f}'.format(metrics.accuracy_score(Ydata, dt.predict(Xdata))))",
   "execution_count": 41,
   "outputs": [
    {
     "name": "stdout",
     "text": "presnost(trenovaci data): 0.911765\n",
     "output_type": "stream",
     "data": {}
    }
   ]
  },
  {
   "cell_type": "code",
   "metadata": {
    "tags": [],
    "cell_id": "00051-66e33943-7fb8-42f7-9a7e-628bd15a4c6f",
    "deepnote_to_be_reexecuted": false,
    "source_hash": "14677af4",
    "execution_start": 1640097202745,
    "execution_millis": 256,
    "deepnote_cell_type": "code"
   },
   "source": "print('presnost(testovaci): {0:.6f}'.format(metrics.accuracy_score(yval, dt.predict(Xval))))",
   "execution_count": 42,
   "outputs": [
    {
     "name": "stdout",
     "text": "presnost(testovaci): 0.736000\n",
     "output_type": "stream",
     "data": {}
    }
   ]
  },
  {
   "cell_type": "markdown",
   "source": "## The difference in accuracy between the data is too large",
   "metadata": {
    "tags": [],
    "is_collapsed": false,
    "cell_id": "00074-0263fa3e-46b0-49d8-8c9d-d165b4916401",
    "deepnote_cell_type": "text-cell-h2"
   }
  },
  {
   "cell_type": "markdown",
   "source": "## Let's try to calibrate the values of the depth hyperparameter",
   "metadata": {
    "tags": [],
    "is_collapsed": false,
    "cell_id": "00054-5c0a02d4-fe4b-4246-8992-c92ae994b802",
    "deepnote_cell_type": "text-cell-h2"
   }
  },
  {
   "cell_type": "code",
   "metadata": {
    "tags": [],
    "cell_id": "00053-e1b17fb0-ac46-4846-81b9-4101b0fee04c",
    "deepnote_to_be_reexecuted": false,
    "source_hash": "39477a61",
    "execution_start": 1640097202754,
    "execution_millis": 873,
    "deepnote_cell_type": "code"
   },
   "source": "val_presnost = []\ntrenovaci_presnost = []\nhloubka = range(1,101)\nfor depth in hloubka:\n    dt = DecisionTreeClassifier(max_depth=depth)\n    dt.fit(Xdata, Ydata)\n    trenovaci_presnost.append(metrics.accuracy_score(Ydata, dt.predict(Xdata)))\n    val_presnost.append(metrics.accuracy_score(yval, dt.predict(Xval)))",
   "execution_count": 43,
   "outputs": []
  },
  {
   "cell_type": "code",
   "metadata": {
    "tags": [],
    "cell_id": "00054-acd6c369-e109-4bb7-bdf1-9f16355d7f72",
    "deepnote_to_be_reexecuted": false,
    "source_hash": "2dd5130",
    "execution_start": 1640097203667,
    "execution_millis": 292,
    "deepnote_output_heights": [
     null,
     21.1875,
     374
    ],
    "deepnote_cell_type": "code"
   },
   "source": "plt.figure(figsize=(20,6))\nplt.plot(hloubka, trenovaci_presnost, 'or-')\nplt.plot(hloubka, val_presnost, 'ob-')\nplt.xlabel('max_hloubka')\nplt.ylabel('presnost')\nplt.legend('trenovaci', 'validacni')\n",
   "execution_count": 44,
   "outputs": [
    {
     "name": "stderr",
     "text": "<ipython-input-44-55f939503aa0>:6: UserWarning: Legend does not support 't' instances.\nA proxy artist may be used instead.\nSee: https://matplotlib.org/users/legend_guide.html#creating-artists-specifically-for-adding-to-the-legend-aka-proxy-artists\n  plt.legend('trenovaci', 'validacni')\n<ipython-input-44-55f939503aa0>:6: UserWarning: Legend does not support 'r' instances.\nA proxy artist may be used instead.\nSee: https://matplotlib.org/users/legend_guide.html#creating-artists-specifically-for-adding-to-the-legend-aka-proxy-artists\n  plt.legend('trenovaci', 'validacni')\n<ipython-input-44-55f939503aa0>:6: UserWarning: Legend does not support 'e' instances.\nA proxy artist may be used instead.\nSee: https://matplotlib.org/users/legend_guide.html#creating-artists-specifically-for-adding-to-the-legend-aka-proxy-artists\n  plt.legend('trenovaci', 'validacni')\n<ipython-input-44-55f939503aa0>:6: UserWarning: Legend does not support 'n' instances.\nA proxy artist may be used instead.\nSee: https://matplotlib.org/users/legend_guide.html#creating-artists-specifically-for-adding-to-the-legend-aka-proxy-artists\n  plt.legend('trenovaci', 'validacni')\n<ipython-input-44-55f939503aa0>:6: UserWarning: Legend does not support 'o' instances.\nA proxy artist may be used instead.\nSee: https://matplotlib.org/users/legend_guide.html#creating-artists-specifically-for-adding-to-the-legend-aka-proxy-artists\n  plt.legend('trenovaci', 'validacni')\n<ipython-input-44-55f939503aa0>:6: UserWarning: Legend does not support 'v' instances.\nA proxy artist may be used instead.\nSee: https://matplotlib.org/users/legend_guide.html#creating-artists-specifically-for-adding-to-the-legend-aka-proxy-artists\n  plt.legend('trenovaci', 'validacni')\n<ipython-input-44-55f939503aa0>:6: UserWarning: Legend does not support 'a' instances.\nA proxy artist may be used instead.\nSee: https://matplotlib.org/users/legend_guide.html#creating-artists-specifically-for-adding-to-the-legend-aka-proxy-artists\n  plt.legend('trenovaci', 'validacni')\n<ipython-input-44-55f939503aa0>:6: UserWarning: Legend does not support 'c' instances.\nA proxy artist may be used instead.\nSee: https://matplotlib.org/users/legend_guide.html#creating-artists-specifically-for-adding-to-the-legend-aka-proxy-artists\n  plt.legend('trenovaci', 'validacni')\n<ipython-input-44-55f939503aa0>:6: UserWarning: Legend does not support 'i' instances.\nA proxy artist may be used instead.\nSee: https://matplotlib.org/users/legend_guide.html#creating-artists-specifically-for-adding-to-the-legend-aka-proxy-artists\n  plt.legend('trenovaci', 'validacni')\n",
     "output_type": "stream",
     "data": {}
    },
    {
     "output_type": "execute_result",
     "execution_count": 44,
     "data": {
      "text/plain": "<matplotlib.legend.Legend at 0x7fe4f8fe6d00>"
     },
     "metadata": {}
    },
    {
     "data": {
      "text/plain": "<Figure size 1440x432 with 1 Axes>",
      "image/png": "[encoded data removed]"
     },
     "metadata": {
      "needs_background": "light",
      "image/png": {
       "width": 1173,
       "height": 372
      }
     },
     "output_type": "display_data"
    }
   ]
  },
  {
   "cell_type": "markdown",
   "source": "## Found optimal value for depth hyperparameter",
   "metadata": {
    "tags": [],
    "is_collapsed": false,
    "cell_id": "00058-70595ddc-d6b8-4aa0-953b-f5a70fd7bf7f",
    "deepnote_cell_type": "text-cell-h2"
   }
  },
  {
   "cell_type": "code",
   "metadata": {
    "tags": [],
    "cell_id": "00055-ffc98e70-fcd4-425f-8d5a-11b4d114030b",
    "deepnote_to_be_reexecuted": false,
    "source_hash": "1fd8e855",
    "execution_start": 1640097203972,
    "execution_millis": 10,
    "deepnote_output_heights": [
     21.1875
    ],
    "deepnote_cell_type": "code"
   },
   "source": "optimal_hloubka = np.argmax(val_presnost) + 1\noptimal_hloubka",
   "execution_count": 45,
   "outputs": [
    {
     "output_type": "execute_result",
     "execution_count": 45,
     "data": {
      "text/plain": "3"
     },
     "metadata": {}
    }
   ]
  },
  {
   "cell_type": "code",
   "metadata": {
    "tags": [],
    "cell_id": "00056-6942e8bf-bf1e-42ba-a6de-8e4d48df96ef",
    "deepnote_to_be_reexecuted": false,
    "source_hash": "ef3f2d34",
    "execution_start": 1640097204012,
    "execution_millis": 3,
    "deepnote_cell_type": "code"
   },
   "source": "dt = DecisionTreeClassifier(max_depth=optimal_hloubka)\ndt.fit(Xdata, Ydata)\nprint('presnost(trenovaci data): {0:.6f}'.format(metrics.accuracy_score(Ydata, dt.predict(Xdata))))",
   "execution_count": 46,
   "outputs": [
    {
     "name": "stdout",
     "text": "presnost(trenovaci data): 0.802139\n",
     "output_type": "stream",
     "data": {}
    }
   ]
  },
  {
   "cell_type": "markdown",
   "source": "## Accuracy increased to 80.2%",
   "metadata": {
    "tags": [],
    "is_collapsed": false,
    "cell_id": "00079-9999fa6d-b6c7-4aa2-9c24-7885d2b98245",
    "deepnote_cell_type": "text-cell-h2"
   }
  },
  {
   "cell_type": "code",
   "metadata": {
    "tags": [],
    "cell_id": "00082-f3e80d73-2964-4a21-9f2e-b43aedd199c0",
    "deepnote_to_be_reexecuted": false,
    "source_hash": "3a10d0d0",
    "execution_start": 1640097204094,
    "execution_millis": 3654642486,
    "deepnote_cell_type": "code"
   },
   "source": "# matice priznaku\nX_test = test_dummy\n# vektor vysvetlovane promene\nYdata_test = training_dummy['survived']\n",
   "execution_count": 47,
   "outputs": []
  },
  {
   "cell_type": "markdown",
   "source": "# We test different models",
   "metadata": {
    "tags": [],
    "is_collapsed": false,
    "cell_id": "00086-24583494-70cb-4a98-882e-56c4b4bb94ea",
    "deepnote_cell_type": "text-cell-h1"
   }
  },
  {
   "cell_type": "markdown",
   "source": "# CatBoostClassifier",
   "metadata": {
    "tags": [],
    "is_collapsed": false,
    "cell_id": "00087-018c63bd-1a20-4e96-8624-767e9d437947",
    "deepnote_cell_type": "text-cell-h1"
   }
  },
  {
   "cell_type": "code",
   "metadata": {
    "tags": [],
    "cell_id": "00086-17e8608d-d179-4e37-b20f-b43b4b6b54fa",
    "deepnote_to_be_reexecuted": false,
    "source_hash": "45adece8",
    "execution_start": 1640097204095,
    "execution_millis": 3654642544,
    "deepnote_cell_type": "code"
   },
   "source": "param_grid = {'depth': range(2, 16, 1), 'iterations': range(10, 130, 10)}\ngs = GridSearchCV(CatBoostClassifier(random_state=12), param_grid=param_grid, return_train_score=True, n_jobs=4, scoring='accuracy')",
   "execution_count": 48,
   "outputs": []
  },
  {
   "cell_type": "code",
   "metadata": {
    "tags": [],
    "cell_id": "00087-ae6a7773-f771-4773-8ceb-36ec1956fe6a",
    "deepnote_to_be_reexecuted": false,
    "source_hash": "acf0a484",
    "execution_start": 1640097204095,
    "execution_millis": 412445,
    "deepnote_output_heights": [
     null,
     97.9375
    ],
    "deepnote_cell_type": "code"
   },
   "source": "%%time\ngs.fit(Xdata, Ydata)",
   "execution_count": 49,
   "outputs": [
    {
     "name": "stdout",
     "text": "Learning rate set to 0.226762\n0:\tlearn: 0.6378116\ttotal: 82.8ms\tremaining: 2.4s\n1:\tlearn: 0.6001964\ttotal: 108ms\tremaining: 1.51s\n2:\tlearn: 0.5589663\ttotal: 109ms\tremaining: 984ms\n3:\tlearn: 0.5335652\ttotal: 132ms\tremaining: 860ms\n4:\tlearn: 0.5069359\ttotal: 133ms\tremaining: 664ms\n5:\tlearn: 0.4899702\ttotal: 134ms\tremaining: 535ms\n6:\tlearn: 0.4745452\ttotal: 134ms\tremaining: 441ms\n7:\tlearn: 0.4635007\ttotal: 139ms\tremaining: 382ms\n8:\tlearn: 0.4559784\ttotal: 174ms\tremaining: 406ms\n9:\tlearn: 0.4484975\ttotal: 197ms\tremaining: 394ms\n10:\tlearn: 0.4405027\ttotal: 198ms\tremaining: 342ms\n11:\tlearn: 0.4332962\ttotal: 200ms\tremaining: 300ms\n12:\tlearn: 0.4281937\ttotal: 227ms\tremaining: 297ms\n13:\tlearn: 0.4227936\ttotal: 227ms\tremaining: 260ms\n14:\tlearn: 0.4170468\ttotal: 250ms\tremaining: 250ms\n15:\tlearn: 0.4119393\ttotal: 286ms\tremaining: 250ms\n16:\tlearn: 0.4082991\ttotal: 287ms\tremaining: 219ms\n17:\tlearn: 0.4043928\ttotal: 318ms\tremaining: 212ms\n18:\tlearn: 0.4007197\ttotal: 326ms\tremaining: 188ms\n19:\tlearn: 0.3981479\ttotal: 326ms\tremaining: 163ms\n20:\tlearn: 0.3949855\ttotal: 345ms\tremaining: 148ms\n21:\tlearn: 0.3922534\ttotal: 370ms\tremaining: 134ms\n22:\tlearn: 0.3891167\ttotal: 403ms\tremaining: 123ms\n23:\tlearn: 0.3859055\ttotal: 429ms\tremaining: 107ms\n24:\tlearn: 0.3819565\ttotal: 452ms\tremaining: 90.3ms\n25:\tlearn: 0.3809074\ttotal: 453ms\tremaining: 69.7ms\n26:\tlearn: 0.3789575\ttotal: 474ms\tremaining: 52.6ms\n27:\tlearn: 0.3780309\ttotal: 475ms\tremaining: 33.9ms\n28:\tlearn: 0.3748380\ttotal: 499ms\tremaining: 17.2ms\n29:\tlearn: 0.3714514\ttotal: 521ms\tremaining: 0us\nCPU times: user 2.65 s, sys: 149 ms, total: 2.8 s\nWall time: 6min 52s\n",
     "output_type": "stream",
     "data": {}
    },
    {
     "output_type": "execute_result",
     "execution_count": 49,
     "data": {
      "text/plain": "GridSearchCV(estimator=<catboost.core.CatBoostClassifier object at 0x7fe4f90eb0a0>,\n             n_jobs=4,\n             param_grid={'depth': range(2, 16),\n                         'iterations': range(10, 130, 10)},\n             return_train_score=True, scoring='accuracy')"
     },
     "metadata": {}
    }
   ]
  },
  {
   "cell_type": "code",
   "metadata": {
    "tags": [],
    "cell_id": "00088-38c3e2ff-afc6-41ed-ad20-07f6b7c21db7",
    "deepnote_to_be_reexecuted": false,
    "source_hash": "b361d7e3",
    "execution_start": 1640097616548,
    "execution_millis": 22,
    "deepnote_output_heights": [
     21.1875
    ],
    "deepnote_cell_type": "code"
   },
   "source": "gs.best_params_",
   "execution_count": 50,
   "outputs": [
    {
     "output_type": "execute_result",
     "execution_count": 50,
     "data": {
      "text/plain": "{'depth': 12, 'iterations': 30}"
     },
     "metadata": {}
    }
   ]
  },
  {
   "cell_type": "code",
   "metadata": {
    "tags": [],
    "cell_id": "00089-084affb6-53b4-4579-beda-e77c3e42fe62",
    "deepnote_to_be_reexecuted": false,
    "source_hash": "8ba9eb46",
    "execution_start": 1640097616573,
    "execution_millis": 11,
    "deepnote_output_heights": [
     21.1875
    ],
    "deepnote_cell_type": "code"
   },
   "source": "gs.best_score_",
   "execution_count": 51,
   "outputs": [
    {
     "output_type": "execute_result",
     "execution_count": 51,
     "data": {
      "text/plain": "0.7941565995525727"
     },
     "metadata": {}
    }
   ]
  },
  {
   "cell_type": "markdown",
   "source": "# RandomForestClassifier",
   "metadata": {
    "tags": [],
    "is_collapsed": false,
    "cell_id": "00092-8ab52f4f-431f-40bf-9b3f-bb013e9c49d3",
    "deepnote_cell_type": "text-cell-h1"
   }
  },
  {
   "cell_type": "code",
   "metadata": {
    "tags": [],
    "cell_id": "00090-6beeec9f-2bbb-4478-809a-6fa7cab78db1",
    "deepnote_to_be_reexecuted": false,
    "source_hash": "1bb116fc",
    "execution_start": 1640097616646,
    "execution_millis": 0,
    "deepnote_cell_type": "code"
   },
   "source": "param_grid = {'max_depth': range(2, 16, 1), 'n_estimators': range(10, 100, 10)}\ngs = GridSearchCV(RandomForestClassifier(random_state=12, class_weight='balanced'), param_grid=param_grid, return_train_score=True, n_jobs=4, scoring='accuracy')",
   "execution_count": 52,
   "outputs": []
  },
  {
   "cell_type": "code",
   "metadata": {
    "tags": [],
    "cell_id": "00091-6f4b87c5-27b0-408e-aa60-84c5617050d0",
    "deepnote_to_be_reexecuted": false,
    "source_hash": "acf0a484",
    "execution_start": 1640097616647,
    "execution_millis": 155423,
    "deepnote_output_heights": [
     null,
     117.125
    ],
    "deepnote_cell_type": "code"
   },
   "source": "%%time\ngs.fit(Xdata, Ydata)",
   "execution_count": 53,
   "outputs": [
    {
     "name": "stdout",
     "text": "CPU times: user 1.74 s, sys: 138 ms, total: 1.88 s\nWall time: 2min 35s\n",
     "output_type": "stream",
     "data": {}
    },
    {
     "output_type": "execute_result",
     "execution_count": 53,
     "data": {
      "text/plain": "GridSearchCV(estimator=RandomForestClassifier(class_weight='balanced',\n                                              random_state=12),\n             n_jobs=4,\n             param_grid={'max_depth': range(2, 16),\n                         'n_estimators': range(10, 100, 10)},\n             return_train_score=True, scoring='accuracy')"
     },
     "metadata": {}
    }
   ]
  },
  {
   "cell_type": "code",
   "metadata": {
    "tags": [],
    "cell_id": "00092-fad15baa-42b7-4d26-ab6d-fb294484926e",
    "deepnote_to_be_reexecuted": false,
    "source_hash": "b361d7e3",
    "execution_start": 1640097772084,
    "execution_millis": 14,
    "deepnote_output_heights": [
     21.1875
    ],
    "deepnote_cell_type": "code"
   },
   "source": "gs.best_params_",
   "execution_count": 54,
   "outputs": [
    {
     "output_type": "execute_result",
     "execution_count": 54,
     "data": {
      "text/plain": "{'max_depth': 7, 'n_estimators': 10}"
     },
     "metadata": {}
    }
   ]
  },
  {
   "cell_type": "code",
   "metadata": {
    "tags": [],
    "cell_id": "00093-430e0fc8-7ad6-41b4-9b2d-b75452c0818f",
    "deepnote_to_be_reexecuted": false,
    "source_hash": "8ba9eb46",
    "execution_start": 1640097772109,
    "execution_millis": 9,
    "deepnote_output_heights": [
     21.1875
    ],
    "deepnote_cell_type": "code"
   },
   "source": "gs.best_score_",
   "execution_count": 55,
   "outputs": [
    {
     "output_type": "execute_result",
     "execution_count": 55,
     "data": {
      "text/plain": "0.8035346756152124"
     },
     "metadata": {}
    }
   ]
  },
  {
   "cell_type": "markdown",
   "source": "# ExtraTreesClassifier",
   "metadata": {
    "tags": [],
    "is_collapsed": false,
    "cell_id": "00097-ca072958-bf6e-4454-8fda-799fdfc6f224",
    "deepnote_cell_type": "text-cell-h1"
   }
  },
  {
   "cell_type": "code",
   "metadata": {
    "tags": [],
    "cell_id": "00094-a0bce03f-8dcb-4229-a37e-02c2c3473f9e",
    "deepnote_to_be_reexecuted": false,
    "source_hash": "8a41a8aa",
    "execution_start": 1640097772149,
    "execution_millis": 3654683460,
    "deepnote_cell_type": "code"
   },
   "source": "param_grid = {'max_depth': range(2, 16, 1), \n              'n_estimators': range(10, 100, 10)}\ngs = GridSearchCV(ExtraTreesClassifier(random_state=12), param_grid=param_grid, return_train_score=True, n_jobs=4, scoring='accuracy')",
   "execution_count": 56,
   "outputs": []
  },
  {
   "cell_type": "code",
   "metadata": {
    "tags": [],
    "cell_id": "00095-bfe717b8-ac3f-4130-b577-2081c71ca283",
    "deepnote_to_be_reexecuted": false,
    "source_hash": "acf0a484",
    "execution_start": 1640097772241,
    "execution_millis": 118905,
    "deepnote_output_heights": [
     null,
     78.75
    ],
    "deepnote_cell_type": "code"
   },
   "source": "%%time\ngs.fit(Xdata, Ydata)",
   "execution_count": 57,
   "outputs": [
    {
     "name": "stdout",
     "text": "CPU times: user 1.72 s, sys: 134 ms, total: 1.86 s\nWall time: 1min 58s\n",
     "output_type": "stream",
     "data": {}
    },
    {
     "output_type": "execute_result",
     "execution_count": 57,
     "data": {
      "text/plain": "GridSearchCV(estimator=ExtraTreesClassifier(random_state=12), n_jobs=4,\n             param_grid={'max_depth': range(2, 16),\n                         'n_estimators': range(10, 100, 10)},\n             return_train_score=True, scoring='accuracy')"
     },
     "metadata": {}
    }
   ]
  },
  {
   "cell_type": "code",
   "metadata": {
    "tags": [],
    "cell_id": "00097-c0fdc082-67a6-43f3-909b-f8efbd144a81",
    "deepnote_to_be_reexecuted": false,
    "source_hash": "b361d7e3",
    "execution_start": 1640097891116,
    "execution_millis": 32,
    "deepnote_output_heights": [
     21.1875
    ],
    "deepnote_cell_type": "code"
   },
   "source": "gs.best_params_",
   "execution_count": 58,
   "outputs": [
    {
     "output_type": "execute_result",
     "execution_count": 58,
     "data": {
      "text/plain": "{'max_depth': 12, 'n_estimators': 30}"
     },
     "metadata": {}
    }
   ]
  },
  {
   "cell_type": "code",
   "metadata": {
    "tags": [],
    "cell_id": "00101-fca0f552-411c-47d1-a856-1d3f7c18d975",
    "deepnote_to_be_reexecuted": false,
    "source_hash": "8ba9eb46",
    "execution_start": 1640097891117,
    "execution_millis": 31,
    "deepnote_output_heights": [
     21.1875
    ],
    "deepnote_cell_type": "code"
   },
   "source": "gs.best_score_",
   "execution_count": 59,
   "outputs": [
    {
     "output_type": "execute_result",
     "execution_count": 59,
     "data": {
      "text/plain": "0.7981834451901566"
     },
     "metadata": {}
    }
   ]
  },
  {
   "cell_type": "markdown",
   "source": "## The RandomForest model performed best on training data. We will use it to predict the test data.",
   "metadata": {
    "tags": [],
    "is_collapsed": false,
    "cell_id": "00102-9c6e79c7-012b-4608-8ace-1e08c4416ccd",
    "deepnote_cell_type": "text-cell-h2"
   }
  },
  {
   "cell_type": "code",
   "metadata": {
    "tags": [],
    "cell_id": "00098-de58cd64-1f40-4c40-a76d-4808bd6c46c8",
    "deepnote_to_be_reexecuted": false,
    "source_hash": "ceea3ba3",
    "execution_start": 1640097891118,
    "execution_millis": 301,
    "deepnote_cell_type": "code"
   },
   "source": "model = RandomForestClassifier(random_state=12, class_weight='balanced', max_depth=7, n_estimators=90)\nmodel.fit(Xdata, Ydata)\npredicted_test = model.predict(X_test)",
   "execution_count": 60,
   "outputs": []
  },
  {
   "cell_type": "code",
   "metadata": {
    "tags": [],
    "cell_id": "00099-1d5d42eb-d6ee-47f7-9b8f-518167385214",
    "deepnote_to_be_reexecuted": false,
    "source_hash": "67d4b20d",
    "execution_start": 1640097891424,
    "execution_millis": 10,
    "deepnote_cell_type": "code"
   },
   "source": "predicted_test = pandas.DataFrame(predicted_test)\nX_test = pandas.DataFrame(X_test)",
   "execution_count": 61,
   "outputs": []
  },
  {
   "cell_type": "code",
   "metadata": {
    "tags": [],
    "cell_id": "00100-ff51657a-d672-4a29-ad5e-cf7b1c790c37",
    "deepnote_to_be_reexecuted": false,
    "source_hash": "93fc069f",
    "execution_start": 1640097891442,
    "execution_millis": 9,
    "deepnote_cell_type": "code"
   },
   "source": "test_result = X_test.join(predicted_test, how='inner')",
   "execution_count": 62,
   "outputs": []
  },
  {
   "cell_type": "code",
   "metadata": {
    "tags": [],
    "cell_id": "00101-d11b0514-bae6-42fa-bc4d-67cf811334d9",
    "deepnote_to_be_reexecuted": false,
    "source_hash": "b19acd43",
    "execution_start": 1640098207757,
    "execution_millis": 51,
    "deepnote_cell_type": "code"
   },
   "source": "test_result",
   "execution_count": 66,
   "outputs": [
    {
     "output_type": "execute_result",
     "execution_count": 66,
     "data": {
      "application/vnd.deepnote.dataframe.v3+json": {
       "column_count": 11,
       "row_count": 308,
       "columns": [
        {
         "name": "pclass",
         "dtype": "int64",
         "stats": {
          "unique_count": 3,
          "nan_count": 0,
          "min": "1",
          "max": "3",
          "histogram": [
           {
            "bin_start": 1,
            "bin_end": 1.2,
            "count": 73
           },
           {
            "bin_start": 1.2,
            "bin_end": 1.4,
            "count": 0
           },
           {
            "bin_start": 1.4,
            "bin_end": 1.6,
            "count": 0
           },
           {
            "bin_start": 1.6,
            "bin_end": 1.8,
            "count": 0
           },
           {
            "bin_start": 1.8,
            "bin_end": 2,
            "count": 0
           },
           {
            "bin_start": 2,
            "bin_end": 2.2,
            "count": 68
           },
           {
            "bin_start": 2.2,
            "bin_end": 2.4000000000000004,
            "count": 0
           },
           {
            "bin_start": 2.4000000000000004,
            "bin_end": 2.6,
            "count": 0
           },
           {
            "bin_start": 2.6,
            "bin_end": 2.8,
            "count": 0
           },
           {
            "bin_start": 2.8,
            "bin_end": 3,
            "count": 167
           }
          ]
         }
        },
        {
         "name": "age",
         "dtype": "int64",
         "stats": {
          "unique_count": 64,
          "nan_count": 0,
          "min": "0",
          "max": "80",
          "histogram": [
           {
            "bin_start": 0,
            "bin_end": 8,
            "count": 20
           },
           {
            "bin_start": 8,
            "bin_end": 16,
            "count": 11
           },
           {
            "bin_start": 16,
            "bin_end": 24,
            "count": 60
           },
           {
            "bin_start": 24,
            "bin_end": 32,
            "count": 119
           },
           {
            "bin_start": 32,
            "bin_end": 40,
            "count": 38
           },
           {
            "bin_start": 40,
            "bin_end": 48,
            "count": 27
           },
           {
            "bin_start": 48,
            "bin_end": 56,
            "count": 17
           },
           {
            "bin_start": 56,
            "bin_end": 64,
            "count": 12
           },
           {
            "bin_start": 64,
            "bin_end": 72,
            "count": 2
           },
           {
            "bin_start": 72,
            "bin_end": 80,
            "count": 2
           }
          ]
         }
        },
        {
         "name": "sibsp",
         "dtype": "int64",
         "stats": {
          "unique_count": 7,
          "nan_count": 0,
          "min": "0",
          "max": "8",
          "histogram": [
           {
            "bin_start": 0,
            "bin_end": 0.8,
            "count": 213
           },
           {
            "bin_start": 0.8,
            "bin_end": 1.6,
            "count": 73
           },
           {
            "bin_start": 1.6,
            "bin_end": 2.4000000000000004,
            "count": 8
           },
           {
            "bin_start": 2.4000000000000004,
            "bin_end": 3.2,
            "count": 5
           },
           {
            "bin_start": 3.2,
            "bin_end": 4,
            "count": 0
           },
           {
            "bin_start": 4,
            "bin_end": 4.800000000000001,
            "count": 4
           },
           {
            "bin_start": 4.800000000000001,
            "bin_end": 5.6000000000000005,
            "count": 2
           },
           {
            "bin_start": 5.6000000000000005,
            "bin_end": 6.4,
            "count": 0
           },
           {
            "bin_start": 6.4,
            "bin_end": 7.2,
            "count": 0
           },
           {
            "bin_start": 7.2,
            "bin_end": 8,
            "count": 3
           }
          ]
         }
        },
        {
         "name": "parch",
         "dtype": "int64",
         "stats": {
          "unique_count": 6,
          "nan_count": 0,
          "min": "0",
          "max": "6",
          "histogram": [
           {
            "bin_start": 0,
            "bin_end": 0.6,
            "count": 233
           },
           {
            "bin_start": 0.6,
            "bin_end": 1.2,
            "count": 44
           },
           {
            "bin_start": 1.2,
            "bin_end": 1.7999999999999998,
            "count": 0
           },
           {
            "bin_start": 1.7999999999999998,
            "bin_end": 2.4,
            "count": 24
           },
           {
            "bin_start": 2.4,
            "bin_end": 3,
            "count": 0
           },
           {
            "bin_start": 3,
            "bin_end": 3.5999999999999996,
            "count": 4
           },
           {
            "bin_start": 3.5999999999999996,
            "bin_end": 4.2,
            "count": 1
           },
           {
            "bin_start": 4.2,
            "bin_end": 4.8,
            "count": 0
           },
           {
            "bin_start": 4.8,
            "bin_end": 5.3999999999999995,
            "count": 0
           },
           {
            "bin_start": 5.3999999999999995,
            "bin_end": 6,
            "count": 2
           }
          ]
         }
        },
        {
         "name": "fare",
         "dtype": "int64",
         "stats": {
          "unique_count": 71,
          "nan_count": 0,
          "min": "0",
          "max": "263",
          "histogram": [
           {
            "bin_start": 0,
            "bin_end": 26.3,
            "count": 220
           },
           {
            "bin_start": 26.3,
            "bin_end": 52.6,
            "count": 39
           },
           {
            "bin_start": 52.6,
            "bin_end": 78.9,
            "count": 18
           },
           {
            "bin_start": 78.9,
            "bin_end": 105.2,
            "count": 7
           },
           {
            "bin_start": 105.2,
            "bin_end": 131.5,
            "count": 4
           },
           {
            "bin_start": 131.5,
            "bin_end": 157.8,
            "count": 9
           },
           {
            "bin_start": 157.8,
            "bin_end": 184.1,
            "count": 3
           },
           {
            "bin_start": 184.1,
            "bin_end": 210.4,
            "count": 0
           },
           {
            "bin_start": 210.4,
            "bin_end": 236.70000000000002,
            "count": 3
           },
           {
            "bin_start": 236.70000000000002,
            "bin_end": 263,
            "count": 5
           }
          ]
         }
        },
        {
         "name": "embarked_C",
         "dtype": "int64",
         "stats": {
          "unique_count": 2,
          "nan_count": 0,
          "min": "0",
          "max": "1",
          "histogram": [
           {
            "bin_start": 0,
            "bin_end": 0.1,
            "count": 245
           },
           {
            "bin_start": 0.1,
            "bin_end": 0.2,
            "count": 0
           },
           {
            "bin_start": 0.2,
            "bin_end": 0.30000000000000004,
            "count": 0
           },
           {
            "bin_start": 0.30000000000000004,
            "bin_end": 0.4,
            "count": 0
           },
           {
            "bin_start": 0.4,
            "bin_end": 0.5,
            "count": 0
           },
           {
            "bin_start": 0.5,
            "bin_end": 0.6000000000000001,
            "count": 0
           },
           {
            "bin_start": 0.6000000000000001,
            "bin_end": 0.7000000000000001,
            "count": 0
           },
           {
            "bin_start": 0.7000000000000001,
            "bin_end": 0.8,
            "count": 0
           },
           {
            "bin_start": 0.8,
            "bin_end": 0.9,
            "count": 0
           },
           {
            "bin_start": 0.9,
            "bin_end": 1,
            "count": 63
           }
          ]
         }
        },
        {
         "name": "embarked_Q",
         "dtype": "int64",
         "stats": {
          "unique_count": 2,
          "nan_count": 0,
          "min": "0",
          "max": "1",
          "histogram": [
           {
            "bin_start": 0,
            "bin_end": 0.1,
            "count": 282
           },
           {
            "bin_start": 0.1,
            "bin_end": 0.2,
            "count": 0
           },
           {
            "bin_start": 0.2,
            "bin_end": 0.30000000000000004,
            "count": 0
           },
           {
            "bin_start": 0.30000000000000004,
            "bin_end": 0.4,
            "count": 0
           },
           {
            "bin_start": 0.4,
            "bin_end": 0.5,
            "count": 0
           },
           {
            "bin_start": 0.5,
            "bin_end": 0.6000000000000001,
            "count": 0
           },
           {
            "bin_start": 0.6000000000000001,
            "bin_end": 0.7000000000000001,
            "count": 0
           },
           {
            "bin_start": 0.7000000000000001,
            "bin_end": 0.8,
            "count": 0
           },
           {
            "bin_start": 0.8,
            "bin_end": 0.9,
            "count": 0
           },
           {
            "bin_start": 0.9,
            "bin_end": 1,
            "count": 26
           }
          ]
         }
        },
        {
         "name": "embarked_S",
         "dtype": "int64",
         "stats": {
          "unique_count": 2,
          "nan_count": 0,
          "min": "0",
          "max": "1",
          "histogram": [
           {
            "bin_start": 0,
            "bin_end": 0.1,
            "count": 89
           },
           {
            "bin_start": 0.1,
            "bin_end": 0.2,
            "count": 0
           },
           {
            "bin_start": 0.2,
            "bin_end": 0.30000000000000004,
            "count": 0
           },
           {
            "bin_start": 0.30000000000000004,
            "bin_end": 0.4,
            "count": 0
           },
           {
            "bin_start": 0.4,
            "bin_end": 0.5,
            "count": 0
           },
           {
            "bin_start": 0.5,
            "bin_end": 0.6000000000000001,
            "count": 0
           },
           {
            "bin_start": 0.6000000000000001,
            "bin_end": 0.7000000000000001,
            "count": 0
           },
           {
            "bin_start": 0.7000000000000001,
            "bin_end": 0.8,
            "count": 0
           },
           {
            "bin_start": 0.8,
            "bin_end": 0.9,
            "count": 0
           },
           {
            "bin_start": 0.9,
            "bin_end": 1,
            "count": 219
           }
          ]
         }
        },
        {
         "name": "sex_female",
         "dtype": "int64",
         "stats": {
          "unique_count": 2,
          "nan_count": 0,
          "min": "0",
          "max": "1",
          "histogram": [
           {
            "bin_start": 0,
            "bin_end": 0.1,
            "count": 197
           },
           {
            "bin_start": 0.1,
            "bin_end": 0.2,
            "count": 0
           },
           {
            "bin_start": 0.2,
            "bin_end": 0.30000000000000004,
            "count": 0
           },
           {
            "bin_start": 0.30000000000000004,
            "bin_end": 0.4,
            "count": 0
           },
           {
            "bin_start": 0.4,
            "bin_end": 0.5,
            "count": 0
           },
           {
            "bin_start": 0.5,
            "bin_end": 0.6000000000000001,
            "count": 0
           },
           {
            "bin_start": 0.6000000000000001,
            "bin_end": 0.7000000000000001,
            "count": 0
           },
           {
            "bin_start": 0.7000000000000001,
            "bin_end": 0.8,
            "count": 0
           },
           {
            "bin_start": 0.8,
            "bin_end": 0.9,
            "count": 0
           },
           {
            "bin_start": 0.9,
            "bin_end": 1,
            "count": 111
           }
          ]
         }
        },
        {
         "name": "sex_male",
         "dtype": "int64",
         "stats": {
          "unique_count": 2,
          "nan_count": 0,
          "min": "0",
          "max": "1",
          "histogram": [
           {
            "bin_start": 0,
            "bin_end": 0.1,
            "count": 111
           },
           {
            "bin_start": 0.1,
            "bin_end": 0.2,
            "count": 0
           },
           {
            "bin_start": 0.2,
            "bin_end": 0.30000000000000004,
            "count": 0
           },
           {
            "bin_start": 0.30000000000000004,
            "bin_end": 0.4,
            "count": 0
           },
           {
            "bin_start": 0.4,
            "bin_end": 0.5,
            "count": 0
           },
           {
            "bin_start": 0.5,
            "bin_end": 0.6000000000000001,
            "count": 0
           },
           {
            "bin_start": 0.6000000000000001,
            "bin_end": 0.7000000000000001,
            "count": 0
           },
           {
            "bin_start": 0.7000000000000001,
            "bin_end": 0.8,
            "count": 0
           },
           {
            "bin_start": 0.8,
            "bin_end": 0.9,
            "count": 0
           },
           {
            "bin_start": 0.9,
            "bin_end": 1,
            "count": 197
           }
          ]
         }
        },
        {
         "name": 0,
         "dtype": "int64",
         "stats": {
          "unique_count": 2,
          "nan_count": 0,
          "min": "0",
          "max": "1",
          "histogram": [
           {
            "bin_start": 0,
            "bin_end": 0.1,
            "count": 198
           },
           {
            "bin_start": 0.1,
            "bin_end": 0.2,
            "count": 0
           },
           {
            "bin_start": 0.2,
            "bin_end": 0.30000000000000004,
            "count": 0
           },
           {
            "bin_start": 0.30000000000000004,
            "bin_end": 0.4,
            "count": 0
           },
           {
            "bin_start": 0.4,
            "bin_end": 0.5,
            "count": 0
           },
           {
            "bin_start": 0.5,
            "bin_end": 0.6000000000000001,
            "count": 0
           },
           {
            "bin_start": 0.6000000000000001,
            "bin_end": 0.7000000000000001,
            "count": 0
           },
           {
            "bin_start": 0.7000000000000001,
            "bin_end": 0.8,
            "count": 0
           },
           {
            "bin_start": 0.8,
            "bin_end": 0.9,
            "count": 0
           },
           {
            "bin_start": 0.9,
            "bin_end": 1,
            "count": 110
           }
          ]
         }
        },
        {
         "name": "_deepnote_index_column",
         "dtype": "int64"
        }
       ],
       "rows": [
        {
         "0": 1,
         "pclass": 1,
         "age": 31,
         "sibsp": 0,
         "parch": 2,
         "fare": 164,
         "embarked_C": 0,
         "embarked_Q": 0,
         "embarked_S": 1,
         "sex_female": 1,
         "sex_male": 0,
         "_deepnote_index_column": 0
        },
        {
         "0": 1,
         "pclass": 1,
         "age": 32,
         "sibsp": 0,
         "parch": 0,
         "fare": 76,
         "embarked_C": 1,
         "embarked_Q": 0,
         "embarked_S": 0,
         "sex_female": 1,
         "sex_male": 0,
         "_deepnote_index_column": 1
        },
        {
         "0": 1,
         "pclass": 1,
         "age": 35,
         "sibsp": 1,
         "parch": 0,
         "fare": 53,
         "embarked_C": 0,
         "embarked_Q": 0,
         "embarked_S": 1,
         "sex_female": 1,
         "sex_male": 0,
         "_deepnote_index_column": 2
        },
        {
         "0": 0,
         "pclass": 3,
         "age": 21,
         "sibsp": 0,
         "parch": 0,
         "fare": 7,
         "embarked_C": 0,
         "embarked_Q": 0,
         "embarked_S": 1,
         "sex_female": 0,
         "sex_male": 1,
         "_deepnote_index_column": 3
        },
        {
         "0": 0,
         "pclass": 3,
         "age": 28,
         "sibsp": 0,
         "parch": 0,
         "fare": 7,
         "embarked_C": 0,
         "embarked_Q": 1,
         "embarked_S": 0,
         "sex_female": 0,
         "sex_male": 1,
         "_deepnote_index_column": 4
        },
        {
         "0": 0,
         "pclass": 2,
         "age": 24,
         "sibsp": 0,
         "parch": 0,
         "fare": 10,
         "embarked_C": 0,
         "embarked_Q": 0,
         "embarked_S": 1,
         "sex_female": 0,
         "sex_male": 1,
         "_deepnote_index_column": 5
        },
        {
         "0": 0,
         "pclass": 2,
         "age": 36,
         "sibsp": 0,
         "parch": 2,
         "fare": 26,
         "embarked_C": 0,
         "embarked_Q": 0,
         "embarked_S": 1,
         "sex_female": 0,
         "sex_male": 1,
         "_deepnote_index_column": 6
        },
        {
         "0": 1,
         "pclass": 1,
         "age": 6,
         "sibsp": 0,
         "parch": 2,
         "fare": 134,
         "embarked_C": 1,
         "embarked_Q": 0,
         "embarked_S": 0,
         "sex_female": 0,
         "sex_male": 1,
         "_deepnote_index_column": 7
        },
        {
         "0": 1,
         "pclass": 3,
         "age": 26,
         "sibsp": 0,
         "parch": 0,
         "fare": 7,
         "embarked_C": 0,
         "embarked_Q": 0,
         "embarked_S": 1,
         "sex_female": 1,
         "sex_male": 0,
         "_deepnote_index_column": 8
        },
        {
         "0": 0,
         "pclass": 3,
         "age": 9,
         "sibsp": 1,
         "parch": 1,
         "fare": 15,
         "embarked_C": 0,
         "embarked_Q": 0,
         "embarked_S": 1,
         "sex_female": 0,
         "sex_male": 1,
         "_deepnote_index_column": 9
        }
       ]
      },
      "text/plain": "     pclass  age  sibsp  parch  fare  embarked_C  embarked_Q  embarked_S  \\\n0         1   31      0      2   164           0           0           1   \n1         1   32      0      0    76           1           0           0   \n2         1   35      1      0    53           0           0           1   \n3         3   21      0      0     7           0           0           1   \n4         3   28      0      0     7           0           1           0   \n..      ...  ...    ...    ...   ...         ...         ...         ...   \n303       1   16      0      1    39           0           0           1   \n304       3   28      0      0     7           0           0           1   \n305       3   27      0      0     8           0           0           1   \n306       3   14      5      2    46           0           0           1   \n307       2   18      0      0    73           0           0           1   \n\n     sex_female  sex_male  0  \n0             1         0  1  \n1             1         0  1  \n2             1         0  1  \n3             0         1  0  \n4             0         1  0  \n..          ...       ... ..  \n303           1         0  1  \n304           0         1  0  \n305           0         1  0  \n306           0         1  0  \n307           0         1  0  \n\n[308 rows x 11 columns]",
      "text/html": "<div>\n<style scoped>\n    .dataframe tbody tr th:only-of-type {\n        vertical-align: middle;\n    }\n\n    .dataframe tbody tr th {\n        vertical-align: top;\n    }\n\n    .dataframe thead th {\n        text-align: right;\n    }\n</style>\n<table border=\"1\" class=\"dataframe\">\n  <thead>\n    <tr style=\"text-align: right;\">\n      <th></th>\n      <th>pclass</th>\n      <th>age</th>\n      <th>sibsp</th>\n      <th>parch</th>\n      <th>fare</th>\n      <th>embarked_C</th>\n      <th>embarked_Q</th>\n      <th>embarked_S</th>\n      <th>sex_female</th>\n      <th>sex_male</th>\n      <th>0</th>\n    </tr>\n  </thead>\n  <tbody>\n    <tr>\n      <th>0</th>\n      <td>1</td>\n      <td>31</td>\n      <td>0</td>\n      <td>2</td>\n      <td>164</td>\n      <td>0</td>\n      <td>0</td>\n      <td>1</td>\n      <td>1</td>\n      <td>0</td>\n      <td>1</td>\n    </tr>\n    <tr>\n      <th>1</th>\n      <td>1</td>\n      <td>32</td>\n      <td>0</td>\n      <td>0</td>\n      <td>76</td>\n      <td>1</td>\n      <td>0</td>\n      <td>0</td>\n      <td>1</td>\n      <td>0</td>\n      <td>1</td>\n    </tr>\n    <tr>\n      <th>2</th>\n      <td>1</td>\n      <td>35</td>\n      <td>1</td>\n      <td>0</td>\n      <td>53</td>\n      <td>0</td>\n      <td>0</td>\n      <td>1</td>\n      <td>1</td>\n      <td>0</td>\n      <td>1</td>\n    </tr>\n    <tr>\n      <th>3</th>\n      <td>3</td>\n      <td>21</td>\n      <td>0</td>\n      <td>0</td>\n      <td>7</td>\n      <td>0</td>\n      <td>0</td>\n      <td>1</td>\n      <td>0</td>\n      <td>1</td>\n      <td>0</td>\n    </tr>\n    <tr>\n      <th>4</th>\n      <td>3</td>\n      <td>28</td>\n      <td>0</td>\n      <td>0</td>\n      <td>7</td>\n      <td>0</td>\n      <td>1</td>\n      <td>0</td>\n      <td>0</td>\n      <td>1</td>\n      <td>0</td>\n    </tr>\n    <tr>\n      <th>...</th>\n      <td>...</td>\n      <td>...</td>\n      <td>...</td>\n      <td>...</td>\n      <td>...</td>\n      <td>...</td>\n      <td>...</td>\n      <td>...</td>\n      <td>...</td>\n      <td>...</td>\n      <td>...</td>\n    </tr>\n    <tr>\n      <th>303</th>\n      <td>1</td>\n      <td>16</td>\n      <td>0</td>\n      <td>1</td>\n      <td>39</td>\n      <td>0</td>\n      <td>0</td>\n      <td>1</td>\n      <td>1</td>\n      <td>0</td>\n      <td>1</td>\n    </tr>\n    <tr>\n      <th>304</th>\n      <td>3</td>\n      <td>28</td>\n      <td>0</td>\n      <td>0</td>\n      <td>7</td>\n      <td>0</td>\n      <td>0</td>\n      <td>1</td>\n      <td>0</td>\n      <td>1</td>\n      <td>0</td>\n    </tr>\n    <tr>\n      <th>305</th>\n      <td>3</td>\n      <td>27</td>\n      <td>0</td>\n      <td>0</td>\n      <td>8</td>\n      <td>0</td>\n      <td>0</td>\n      <td>1</td>\n      <td>0</td>\n      <td>1</td>\n      <td>0</td>\n    </tr>\n    <tr>\n      <th>306</th>\n      <td>3</td>\n      <td>14</td>\n      <td>5</td>\n      <td>2</td>\n      <td>46</td>\n      <td>0</td>\n      <td>0</td>\n      <td>1</td>\n      <td>0</td>\n      <td>1</td>\n      <td>0</td>\n    </tr>\n    <tr>\n      <th>307</th>\n      <td>2</td>\n      <td>18</td>\n      <td>0</td>\n      <td>0</td>\n      <td>73</td>\n      <td>0</td>\n      <td>0</td>\n      <td>1</td>\n      <td>0</td>\n      <td>1</td>\n      <td>0</td>\n    </tr>\n  </tbody>\n</table>\n<p>308 rows × 11 columns</p>\n</div>"
     },
     "metadata": {}
    }
   ]
  },
  {
   "cell_type": "code",
   "metadata": {
    "tags": [],
    "cell_id": "00102-3e669dc0-26bb-4441-a386-62f83111c821",
    "deepnote_to_be_reexecuted": false,
    "source_hash": "d65cf08f",
    "execution_start": 1640097891650,
    "execution_millis": 116,
    "deepnote_cell_type": "code"
   },
   "source": "X_test",
   "execution_count": 64,
   "outputs": [
    {
     "output_type": "execute_result",
     "execution_count": 64,
     "data": {
      "application/vnd.deepnote.dataframe.v3+json": {
       "column_count": 10,
       "row_count": 308,
       "columns": [
        {
         "name": "pclass",
         "dtype": "int64",
         "stats": {
          "unique_count": 3,
          "nan_count": 0,
          "min": "1",
          "max": "3",
          "histogram": [
           {
            "bin_start": 1,
            "bin_end": 1.2,
            "count": 73
           },
           {
            "bin_start": 1.2,
            "bin_end": 1.4,
            "count": 0
           },
           {
            "bin_start": 1.4,
            "bin_end": 1.6,
            "count": 0
           },
           {
            "bin_start": 1.6,
            "bin_end": 1.8,
            "count": 0
           },
           {
            "bin_start": 1.8,
            "bin_end": 2,
            "count": 0
           },
           {
            "bin_start": 2,
            "bin_end": 2.2,
            "count": 68
           },
           {
            "bin_start": 2.2,
            "bin_end": 2.4000000000000004,
            "count": 0
           },
           {
            "bin_start": 2.4000000000000004,
            "bin_end": 2.6,
            "count": 0
           },
           {
            "bin_start": 2.6,
            "bin_end": 2.8,
            "count": 0
           },
           {
            "bin_start": 2.8,
            "bin_end": 3,
            "count": 167
           }
          ]
         }
        },
        {
         "name": "age",
         "dtype": "int64",
         "stats": {
          "unique_count": 64,
          "nan_count": 0,
          "min": "0",
          "max": "80",
          "histogram": [
           {
            "bin_start": 0,
            "bin_end": 8,
            "count": 20
           },
           {
            "bin_start": 8,
            "bin_end": 16,
            "count": 11
           },
           {
            "bin_start": 16,
            "bin_end": 24,
            "count": 60
           },
           {
            "bin_start": 24,
            "bin_end": 32,
            "count": 119
           },
           {
            "bin_start": 32,
            "bin_end": 40,
            "count": 38
           },
           {
            "bin_start": 40,
            "bin_end": 48,
            "count": 27
           },
           {
            "bin_start": 48,
            "bin_end": 56,
            "count": 17
           },
           {
            "bin_start": 56,
            "bin_end": 64,
            "count": 12
           },
           {
            "bin_start": 64,
            "bin_end": 72,
            "count": 2
           },
           {
            "bin_start": 72,
            "bin_end": 80,
            "count": 2
           }
          ]
         }
        },
        {
         "name": "sibsp",
         "dtype": "int64",
         "stats": {
          "unique_count": 7,
          "nan_count": 0,
          "min": "0",
          "max": "8",
          "histogram": [
           {
            "bin_start": 0,
            "bin_end": 0.8,
            "count": 213
           },
           {
            "bin_start": 0.8,
            "bin_end": 1.6,
            "count": 73
           },
           {
            "bin_start": 1.6,
            "bin_end": 2.4000000000000004,
            "count": 8
           },
           {
            "bin_start": 2.4000000000000004,
            "bin_end": 3.2,
            "count": 5
           },
           {
            "bin_start": 3.2,
            "bin_end": 4,
            "count": 0
           },
           {
            "bin_start": 4,
            "bin_end": 4.800000000000001,
            "count": 4
           },
           {
            "bin_start": 4.800000000000001,
            "bin_end": 5.6000000000000005,
            "count": 2
           },
           {
            "bin_start": 5.6000000000000005,
            "bin_end": 6.4,
            "count": 0
           },
           {
            "bin_start": 6.4,
            "bin_end": 7.2,
            "count": 0
           },
           {
            "bin_start": 7.2,
            "bin_end": 8,
            "count": 3
           }
          ]
         }
        },
        {
         "name": "parch",
         "dtype": "int64",
         "stats": {
          "unique_count": 6,
          "nan_count": 0,
          "min": "0",
          "max": "6",
          "histogram": [
           {
            "bin_start": 0,
            "bin_end": 0.6,
            "count": 233
           },
           {
            "bin_start": 0.6,
            "bin_end": 1.2,
            "count": 44
           },
           {
            "bin_start": 1.2,
            "bin_end": 1.7999999999999998,
            "count": 0
           },
           {
            "bin_start": 1.7999999999999998,
            "bin_end": 2.4,
            "count": 24
           },
           {
            "bin_start": 2.4,
            "bin_end": 3,
            "count": 0
           },
           {
            "bin_start": 3,
            "bin_end": 3.5999999999999996,
            "count": 4
           },
           {
            "bin_start": 3.5999999999999996,
            "bin_end": 4.2,
            "count": 1
           },
           {
            "bin_start": 4.2,
            "bin_end": 4.8,
            "count": 0
           },
           {
            "bin_start": 4.8,
            "bin_end": 5.3999999999999995,
            "count": 0
           },
           {
            "bin_start": 5.3999999999999995,
            "bin_end": 6,
            "count": 2
           }
          ]
         }
        },
        {
         "name": "fare",
         "dtype": "int64",
         "stats": {
          "unique_count": 71,
          "nan_count": 0,
          "min": "0",
          "max": "263",
          "histogram": [
           {
            "bin_start": 0,
            "bin_end": 26.3,
            "count": 220
           },
           {
            "bin_start": 26.3,
            "bin_end": 52.6,
            "count": 39
           },
           {
            "bin_start": 52.6,
            "bin_end": 78.9,
            "count": 18
           },
           {
            "bin_start": 78.9,
            "bin_end": 105.2,
            "count": 7
           },
           {
            "bin_start": 105.2,
            "bin_end": 131.5,
            "count": 4
           },
           {
            "bin_start": 131.5,
            "bin_end": 157.8,
            "count": 9
           },
           {
            "bin_start": 157.8,
            "bin_end": 184.1,
            "count": 3
           },
           {
            "bin_start": 184.1,
            "bin_end": 210.4,
            "count": 0
           },
           {
            "bin_start": 210.4,
            "bin_end": 236.70000000000002,
            "count": 3
           },
           {
            "bin_start": 236.70000000000002,
            "bin_end": 263,
            "count": 5
           }
          ]
         }
        },
        {
         "name": "embarked_C",
         "dtype": "int64",
         "stats": {
          "unique_count": 2,
          "nan_count": 0,
          "min": "0",
          "max": "1",
          "histogram": [
           {
            "bin_start": 0,
            "bin_end": 0.1,
            "count": 245
           },
           {
            "bin_start": 0.1,
            "bin_end": 0.2,
            "count": 0
           },
           {
            "bin_start": 0.2,
            "bin_end": 0.30000000000000004,
            "count": 0
           },
           {
            "bin_start": 0.30000000000000004,
            "bin_end": 0.4,
            "count": 0
           },
           {
            "bin_start": 0.4,
            "bin_end": 0.5,
            "count": 0
           },
           {
            "bin_start": 0.5,
            "bin_end": 0.6000000000000001,
            "count": 0
           },
           {
            "bin_start": 0.6000000000000001,
            "bin_end": 0.7000000000000001,
            "count": 0
           },
           {
            "bin_start": 0.7000000000000001,
            "bin_end": 0.8,
            "count": 0
           },
           {
            "bin_start": 0.8,
            "bin_end": 0.9,
            "count": 0
           },
           {
            "bin_start": 0.9,
            "bin_end": 1,
            "count": 63
           }
          ]
         }
        },
        {
         "name": "embarked_Q",
         "dtype": "int64",
         "stats": {
          "unique_count": 2,
          "nan_count": 0,
          "min": "0",
          "max": "1",
          "histogram": [
           {
            "bin_start": 0,
            "bin_end": 0.1,
            "count": 282
           },
           {
            "bin_start": 0.1,
            "bin_end": 0.2,
            "count": 0
           },
           {
            "bin_start": 0.2,
            "bin_end": 0.30000000000000004,
            "count": 0
           },
           {
            "bin_start": 0.30000000000000004,
            "bin_end": 0.4,
            "count": 0
           },
           {
            "bin_start": 0.4,
            "bin_end": 0.5,
            "count": 0
           },
           {
            "bin_start": 0.5,
            "bin_end": 0.6000000000000001,
            "count": 0
           },
           {
            "bin_start": 0.6000000000000001,
            "bin_end": 0.7000000000000001,
            "count": 0
           },
           {
            "bin_start": 0.7000000000000001,
            "bin_end": 0.8,
            "count": 0
           },
           {
            "bin_start": 0.8,
            "bin_end": 0.9,
            "count": 0
           },
           {
            "bin_start": 0.9,
            "bin_end": 1,
            "count": 26
           }
          ]
         }
        },
        {
         "name": "embarked_S",
         "dtype": "int64",
         "stats": {
          "unique_count": 2,
          "nan_count": 0,
          "min": "0",
          "max": "1",
          "histogram": [
           {
            "bin_start": 0,
            "bin_end": 0.1,
            "count": 89
           },
           {
            "bin_start": 0.1,
            "bin_end": 0.2,
            "count": 0
           },
           {
            "bin_start": 0.2,
            "bin_end": 0.30000000000000004,
            "count": 0
           },
           {
            "bin_start": 0.30000000000000004,
            "bin_end": 0.4,
            "count": 0
           },
           {
            "bin_start": 0.4,
            "bin_end": 0.5,
            "count": 0
           },
           {
            "bin_start": 0.5,
            "bin_end": 0.6000000000000001,
            "count": 0
           },
           {
            "bin_start": 0.6000000000000001,
            "bin_end": 0.7000000000000001,
            "count": 0
           },
           {
            "bin_start": 0.7000000000000001,
            "bin_end": 0.8,
            "count": 0
           },
           {
            "bin_start": 0.8,
            "bin_end": 0.9,
            "count": 0
           },
           {
            "bin_start": 0.9,
            "bin_end": 1,
            "count": 219
           }
          ]
         }
        },
        {
         "name": "sex_female",
         "dtype": "int64",
         "stats": {
          "unique_count": 2,
          "nan_count": 0,
          "min": "0",
          "max": "1",
          "histogram": [
           {
            "bin_start": 0,
            "bin_end": 0.1,
            "count": 197
           },
           {
            "bin_start": 0.1,
            "bin_end": 0.2,
            "count": 0
           },
           {
            "bin_start": 0.2,
            "bin_end": 0.30000000000000004,
            "count": 0
           },
           {
            "bin_start": 0.30000000000000004,
            "bin_end": 0.4,
            "count": 0
           },
           {
            "bin_start": 0.4,
            "bin_end": 0.5,
            "count": 0
           },
           {
            "bin_start": 0.5,
            "bin_end": 0.6000000000000001,
            "count": 0
           },
           {
            "bin_start": 0.6000000000000001,
            "bin_end": 0.7000000000000001,
            "count": 0
           },
           {
            "bin_start": 0.7000000000000001,
            "bin_end": 0.8,
            "count": 0
           },
           {
            "bin_start": 0.8,
            "bin_end": 0.9,
            "count": 0
           },
           {
            "bin_start": 0.9,
            "bin_end": 1,
            "count": 111
           }
          ]
         }
        },
        {
         "name": "sex_male",
         "dtype": "int64",
         "stats": {
          "unique_count": 2,
          "nan_count": 0,
          "min": "0",
          "max": "1",
          "histogram": [
           {
            "bin_start": 0,
            "bin_end": 0.1,
            "count": 111
           },
           {
            "bin_start": 0.1,
            "bin_end": 0.2,
            "count": 0
           },
           {
            "bin_start": 0.2,
            "bin_end": 0.30000000000000004,
            "count": 0
           },
           {
            "bin_start": 0.30000000000000004,
            "bin_end": 0.4,
            "count": 0
           },
           {
            "bin_start": 0.4,
            "bin_end": 0.5,
            "count": 0
           },
           {
            "bin_start": 0.5,
            "bin_end": 0.6000000000000001,
            "count": 0
           },
           {
            "bin_start": 0.6000000000000001,
            "bin_end": 0.7000000000000001,
            "count": 0
           },
           {
            "bin_start": 0.7000000000000001,
            "bin_end": 0.8,
            "count": 0
           },
           {
            "bin_start": 0.8,
            "bin_end": 0.9,
            "count": 0
           },
           {
            "bin_start": 0.9,
            "bin_end": 1,
            "count": 197
           }
          ]
         }
        },
        {
         "name": "_deepnote_index_column",
         "dtype": "int64"
        }
       ],
       "rows": [
        {
         "pclass": 1,
         "age": 31,
         "sibsp": 0,
         "parch": 2,
         "fare": 164,
         "embarked_C": 0,
         "embarked_Q": 0,
         "embarked_S": 1,
         "sex_female": 1,
         "sex_male": 0,
         "_deepnote_index_column": 0
        },
        {
         "pclass": 1,
         "age": 32,
         "sibsp": 0,
         "parch": 0,
         "fare": 76,
         "embarked_C": 1,
         "embarked_Q": 0,
         "embarked_S": 0,
         "sex_female": 1,
         "sex_male": 0,
         "_deepnote_index_column": 1
        },
        {
         "pclass": 1,
         "age": 35,
         "sibsp": 1,
         "parch": 0,
         "fare": 53,
         "embarked_C": 0,
         "embarked_Q": 0,
         "embarked_S": 1,
         "sex_female": 1,
         "sex_male": 0,
         "_deepnote_index_column": 2
        },
        {
         "pclass": 3,
         "age": 21,
         "sibsp": 0,
         "parch": 0,
         "fare": 7,
         "embarked_C": 0,
         "embarked_Q": 0,
         "embarked_S": 1,
         "sex_female": 0,
         "sex_male": 1,
         "_deepnote_index_column": 3
        },
        {
         "pclass": 3,
         "age": 28,
         "sibsp": 0,
         "parch": 0,
         "fare": 7,
         "embarked_C": 0,
         "embarked_Q": 1,
         "embarked_S": 0,
         "sex_female": 0,
         "sex_male": 1,
         "_deepnote_index_column": 4
        },
        {
         "pclass": 2,
         "age": 24,
         "sibsp": 0,
         "parch": 0,
         "fare": 10,
         "embarked_C": 0,
         "embarked_Q": 0,
         "embarked_S": 1,
         "sex_female": 0,
         "sex_male": 1,
         "_deepnote_index_column": 5
        },
        {
         "pclass": 2,
         "age": 36,
         "sibsp": 0,
         "parch": 2,
         "fare": 26,
         "embarked_C": 0,
         "embarked_Q": 0,
         "embarked_S": 1,
         "sex_female": 0,
         "sex_male": 1,
         "_deepnote_index_column": 6
        },
        {
         "pclass": 1,
         "age": 6,
         "sibsp": 0,
         "parch": 2,
         "fare": 134,
         "embarked_C": 1,
         "embarked_Q": 0,
         "embarked_S": 0,
         "sex_female": 0,
         "sex_male": 1,
         "_deepnote_index_column": 7
        },
        {
         "pclass": 3,
         "age": 26,
         "sibsp": 0,
         "parch": 0,
         "fare": 7,
         "embarked_C": 0,
         "embarked_Q": 0,
         "embarked_S": 1,
         "sex_female": 1,
         "sex_male": 0,
         "_deepnote_index_column": 8
        },
        {
         "pclass": 3,
         "age": 9,
         "sibsp": 1,
         "parch": 1,
         "fare": 15,
         "embarked_C": 0,
         "embarked_Q": 0,
         "embarked_S": 1,
         "sex_female": 0,
         "sex_male": 1,
         "_deepnote_index_column": 9
        }
       ]
      },
      "text/plain": "     pclass  age  sibsp  parch  fare  embarked_C  embarked_Q  embarked_S  \\\n0         1   31      0      2   164           0           0           1   \n1         1   32      0      0    76           1           0           0   \n2         1   35      1      0    53           0           0           1   \n3         3   21      0      0     7           0           0           1   \n4         3   28      0      0     7           0           1           0   \n..      ...  ...    ...    ...   ...         ...         ...         ...   \n303       1   16      0      1    39           0           0           1   \n304       3   28      0      0     7           0           0           1   \n305       3   27      0      0     8           0           0           1   \n306       3   14      5      2    46           0           0           1   \n307       2   18      0      0    73           0           0           1   \n\n     sex_female  sex_male  \n0             1         0  \n1             1         0  \n2             1         0  \n3             0         1  \n4             0         1  \n..          ...       ...  \n303           1         0  \n304           0         1  \n305           0         1  \n306           0         1  \n307           0         1  \n\n[308 rows x 10 columns]",
      "text/html": "<div>\n<style scoped>\n    .dataframe tbody tr th:only-of-type {\n        vertical-align: middle;\n    }\n\n    .dataframe tbody tr th {\n        vertical-align: top;\n    }\n\n    .dataframe thead th {\n        text-align: right;\n    }\n</style>\n<table border=\"1\" class=\"dataframe\">\n  <thead>\n    <tr style=\"text-align: right;\">\n      <th></th>\n      <th>pclass</th>\n      <th>age</th>\n      <th>sibsp</th>\n      <th>parch</th>\n      <th>fare</th>\n      <th>embarked_C</th>\n      <th>embarked_Q</th>\n      <th>embarked_S</th>\n      <th>sex_female</th>\n      <th>sex_male</th>\n    </tr>\n  </thead>\n  <tbody>\n    <tr>\n      <th>0</th>\n      <td>1</td>\n      <td>31</td>\n      <td>0</td>\n      <td>2</td>\n      <td>164</td>\n      <td>0</td>\n      <td>0</td>\n      <td>1</td>\n      <td>1</td>\n      <td>0</td>\n    </tr>\n    <tr>\n      <th>1</th>\n      <td>1</td>\n      <td>32</td>\n      <td>0</td>\n      <td>0</td>\n      <td>76</td>\n      <td>1</td>\n      <td>0</td>\n      <td>0</td>\n      <td>1</td>\n      <td>0</td>\n    </tr>\n    <tr>\n      <th>2</th>\n      <td>1</td>\n      <td>35</td>\n      <td>1</td>\n      <td>0</td>\n      <td>53</td>\n      <td>0</td>\n      <td>0</td>\n      <td>1</td>\n      <td>1</td>\n      <td>0</td>\n    </tr>\n    <tr>\n      <th>3</th>\n      <td>3</td>\n      <td>21</td>\n      <td>0</td>\n      <td>0</td>\n      <td>7</td>\n      <td>0</td>\n      <td>0</td>\n      <td>1</td>\n      <td>0</td>\n      <td>1</td>\n    </tr>\n    <tr>\n      <th>4</th>\n      <td>3</td>\n      <td>28</td>\n      <td>0</td>\n      <td>0</td>\n      <td>7</td>\n      <td>0</td>\n      <td>1</td>\n      <td>0</td>\n      <td>0</td>\n      <td>1</td>\n    </tr>\n    <tr>\n      <th>...</th>\n      <td>...</td>\n      <td>...</td>\n      <td>...</td>\n      <td>...</td>\n      <td>...</td>\n      <td>...</td>\n      <td>...</td>\n      <td>...</td>\n      <td>...</td>\n      <td>...</td>\n    </tr>\n    <tr>\n      <th>303</th>\n      <td>1</td>\n      <td>16</td>\n      <td>0</td>\n      <td>1</td>\n      <td>39</td>\n      <td>0</td>\n      <td>0</td>\n      <td>1</td>\n      <td>1</td>\n      <td>0</td>\n    </tr>\n    <tr>\n      <th>304</th>\n      <td>3</td>\n      <td>28</td>\n      <td>0</td>\n      <td>0</td>\n      <td>7</td>\n      <td>0</td>\n      <td>0</td>\n      <td>1</td>\n      <td>0</td>\n      <td>1</td>\n    </tr>\n    <tr>\n      <th>305</th>\n      <td>3</td>\n      <td>27</td>\n      <td>0</td>\n      <td>0</td>\n      <td>8</td>\n      <td>0</td>\n      <td>0</td>\n      <td>1</td>\n      <td>0</td>\n      <td>1</td>\n    </tr>\n    <tr>\n      <th>306</th>\n      <td>3</td>\n      <td>14</td>\n      <td>5</td>\n      <td>2</td>\n      <td>46</td>\n      <td>0</td>\n      <td>0</td>\n      <td>1</td>\n      <td>0</td>\n      <td>1</td>\n    </tr>\n    <tr>\n      <th>307</th>\n      <td>2</td>\n      <td>18</td>\n      <td>0</td>\n      <td>0</td>\n      <td>73</td>\n      <td>0</td>\n      <td>0</td>\n      <td>1</td>\n      <td>0</td>\n      <td>1</td>\n    </tr>\n  </tbody>\n</table>\n<p>308 rows × 10 columns</p>\n</div>"
     },
     "metadata": {}
    }
   ]
  },
  {
   "cell_type": "markdown",
   "source": "<a style='text-decoration:none;line-height:16px;display:flex;color:#5B5B62;padding:10px;justify-content:end;' href='https://deepnote.com?utm_source=created-in-deepnote-cell&projectId=1648dd68-2ddc-490b-9eab-28104cb11f27' target=\"_blank\">\n<img alt='Created in deepnote.com' style='display:inline;max-height:16px;margin:0px;margin-right:7.5px;' src='data:image/svg+xml;base64,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' > </img>\nCreated in <span style='font-weight:600;margin-left:4px;'>Deepnote</span></a>",
   "metadata": {
    "tags": [],
    "created_in_deepnote_cell": true,
    "deepnote_cell_type": "markdown"
   }
  }
 ],
 "nbformat": 4,
 "nbformat_minor": 2,
 "metadata": {
  "orig_nbformat": 2,
  "deepnote": {
   "is_reactive": false
  },
  "deepnote_notebook_id": "5a0abba9-7c40-47d0-81a0-3c0fe43c485b",
  "deepnote_execution_queue": []
 }
}